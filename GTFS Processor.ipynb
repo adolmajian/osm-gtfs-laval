{
 "cells": [
  {
   "cell_type": "markdown",
   "metadata": {
    "heading_collapsed": true
   },
   "source": [
    "### Imports"
   ]
  },
  {
   "cell_type": "code",
   "execution_count": 1,
   "metadata": {
    "ExecuteTime": {
     "end_time": "2019-01-21T17:13:17.766104Z",
     "start_time": "2019-01-21T17:13:16.683017Z"
    },
    "hidden": true
   },
   "outputs": [],
   "source": [
    "import os, shutil\n",
    "import csv, json\n",
    "import ogr, osr\n",
    "from tqdm import tqdm_notebook\n",
    "from collections import defaultdict, Counter\n",
    "from matplotlib import pyplot as plt, figure\n",
    "import copy\n",
    "import numpy as np\n",
    "from operator import itemgetter\n",
    "\n",
    "import overpy\n",
    "\n",
    "import xml.etree.ElementTree as ET\n",
    "\n",
    "ogr.UseExceptions()\n",
    "osr.UseExceptions()"
   ]
  },
  {
   "cell_type": "markdown",
   "metadata": {
    "heading_collapsed": true
   },
   "source": [
    "### Paths"
   ]
  },
  {
   "cell_type": "code",
   "execution_count": 3,
   "metadata": {
    "ExecuteTime": {
     "end_time": "2019-01-21T17:15:26.752818Z",
     "start_time": "2019-01-21T17:15:26.568534Z"
    },
    "hidden": true
   },
   "outputs": [],
   "source": [
    "# Parent directory\n",
    "cwd = os.getcwd()\n",
    "\n",
    "# zipfile\n",
    "zipfile = os.path.join(cwd, 'gtfs.zip')\n",
    "\n",
    "# Child directories\n",
    "boundaries_dir = os.path.join(cwd, 'boundaries')\n",
    "gtfs_dir = os.path.join(cwd, 'gtfs')\n",
    "output_dir = os.path.join(cwd, 'output')\n",
    "\n",
    "# Create output directory\n",
    "if os.path.exists(output_dir):\n",
    "    shutil.rmtree(output_dir)\n",
    "os.makedirs(output_dir)\n",
    "\n",
    "# Create gtfs directory\n",
    "if os.path.exists(gtfs_dir):\n",
    "    shutil.rmtree(gtfs_dir)\n",
    "os.makedirs(gtfs_dir)\n",
    "\n",
    "# Unzip GTFS\n",
    "shutil.unpack_archive(zipfile, gtfs_dir)"
   ]
  },
  {
   "cell_type": "markdown",
   "metadata": {
    "heading_collapsed": true
   },
   "source": [
    "###  Functions"
   ]
  },
  {
   "cell_type": "code",
   "execution_count": 4,
   "metadata": {
    "ExecuteTime": {
     "end_time": "2019-01-21T17:15:55.972002Z",
     "start_time": "2019-01-21T17:15:55.960137Z"
    },
    "code_folding": [],
    "hidden": true
   },
   "outputs": [],
   "source": [
    "def dict_to_geojson(data, out_path, geom_field, fields_key=None, epsg_id=None):\n",
    "    \n",
    "    # Create path\n",
    "    if os.path.exists(out_path):\n",
    "        os.remove(out_path)\n",
    "        \n",
    "    # Get GeoJSON driver\n",
    "    driver = ogr.GetDriverByName('GeoJSON')\n",
    "    \n",
    "    ds = driver.CreateDataSource(out_path)\n",
    "    \n",
    "    spatial_ref = osr.SpatialReference()\n",
    "    if epsg_id:\n",
    "        spatial_ref.ImportFromEPSG(4326)\n",
    "    else:\n",
    "        spatial_ref.ImportFromEPSG(epsg_id)\n",
    "        \n",
    "    # Get geom type\n",
    "    geom_type = data[0][geom_field].GetGeometryType()\n",
    "    \n",
    "    layer = ds.CreateLayer(out_path, geom_type=geom_type, srs=spatial_ref)\n",
    "    \n",
    "    # Create the fields\n",
    "    if fields_key:\n",
    "        field_names = data[0][fields_key].keys()\n",
    "        for i, field_name in enumerate(field_names): \n",
    "            layer.CreateField(ogr.FieldDefn(field_name, ogr.OFTString))\n",
    "    \n",
    "    layer_defn = layer.GetLayerDefn()\n",
    "    \n",
    "    for item in data:\n",
    "        feature = ogr.Feature(layer_defn)\n",
    "        \n",
    "        if fields_key:\n",
    "            for field_name in field_names:\n",
    "                feature.SetField(field_name, item[fields_key][field_name])\n",
    "        \n",
    "        feature.SetGeometry(item[geom_field])\n",
    "        \n",
    "        layer.CreateFeature(feature)\n",
    "        \n",
    "def objects_to_xml(path, bounds=None, nodes=None, ways=None, relations=None):\n",
    "    root = ET.Element(\"osm\")\n",
    "    pass\n",
    "\n",
    "def reproject_geometry(geom, in_epsg, out_epsg, return_wkt=False):\n",
    "    import ogr, osr\n",
    "\n",
    "    source = osr.SpatialReference()\n",
    "    source.ImportFromEPSG(in_epsg)\n",
    "\n",
    "    target = osr.SpatialReference()\n",
    "    target.ImportFromEPSG(out_epsg)\n",
    "\n",
    "    transform = osr.CoordinateTransformation(source, target)\n",
    "\n",
    "    geom.Transform(transform)\n",
    "\n",
    "    if return_wkt:\n",
    "        return geom.ExportToWkt()\n",
    "    else:\n",
    "        return geom\n",
    "    \n",
    "def write_geometry_to_geojson(geom, out_path):\n",
    "    if os.path.exists(out_path):\n",
    "        os.remove(out_path)\n",
    "    \n",
    "    driver = ogr.GetDriverByName('GeoJSON')\n",
    "    ds = driver.CreateDataSource(out_path)\n",
    "    \n",
    "    geom_type = geom.GetGeometryType()\n",
    "    \n",
    "    layer = ds.CreateLayer(out_path, geom_type=geom_type)\n",
    "    layer_defn = layer.GetLayerDefn()\n",
    "    \n",
    "    feature = ogr.Feature(layer_defn)\n",
    "    feature.SetGeometry(geom)\n",
    "    layer.CreateFeature(feature)"
   ]
  },
  {
   "cell_type": "markdown",
   "metadata": {
    "ExecuteTime": {
     "end_time": "2019-01-13T08:18:14.967932Z",
     "start_time": "2019-01-13T08:18:14.957921Z"
    },
    "heading_collapsed": true
   },
   "source": [
    "### Overpy Query Templates\n",
    "\n",
    "*Overpass doesn't allow Geocoding like Turbo Overpass does so I've gathered the city relation ids beforehand to use directly with overpass*"
   ]
  },
  {
   "cell_type": "code",
   "execution_count": 5,
   "metadata": {
    "ExecuteTime": {
     "end_time": "2019-01-21T17:15:59.733581Z",
     "start_time": "2019-01-21T17:15:59.719672Z"
    },
    "hidden": true
   },
   "outputs": [],
   "source": [
    "api = overpy.Overpass()\n",
    "\n",
    "relation_to_area_factor = 3600000000\n",
    "\n",
    "region_ids = {\n",
    "    \"Laval\": 3532125 + relation_to_area_factor,\n",
    "    \"Montreal\": 1571328 + relation_to_area_factor\n",
    "}\n",
    "\n",
    "\n",
    "tmpl = \"\"\"\n",
    "    area({})->.searchArea;\n",
    "    (\n",
    "      node[\"amenity\"=\"pub\"](area.searchArea);\n",
    "      way[\"amenity\"=\"pub\"](area.searchArea);\n",
    "      relation[\"amenity\"=\"pub\"](area.searchArea);\n",
    "    );\n",
    "    out body;\n",
    "\"\"\"\n",
    "\n",
    "\n",
    "bus_stop_tmpl = \"\"\"\n",
    "    area({})->.searchArea;\n",
    "    (\n",
    "    node[\"highway\"=\"bus_stop\"](area.searchArea);\n",
    "    way[\"highway\"=\"platform\"](area.searchArea);\n",
    "\n",
    "    node[\"public_transport\"=\"platform\"][\"bus\"=\"yes\"](area.searchArea);\n",
    "    node[\"public_transport\"=\"stop_position\"][\"bus\"=\"yes\"](area.searchArea);\n",
    "    \n",
    "    way[\"amenity\"=\"shelter\"](area.searchArea);\n",
    "    node[\"amenity\"=\"shelter\"](area.searchArea);\n",
    "    );\n",
    "    out body;\n",
    "\"\"\"\n",
    "\n",
    "service_route_tmpl = \"\"\"\n",
    "    area({})->.searchArea;\n",
    "    (\n",
    "    relation[\"type\"=\"route\"][\"route\"=\"bus\"](area.searchArea);\n",
    "    );\n",
    "    out body;\n",
    "\"\"\""
   ]
  },
  {
   "cell_type": "markdown",
   "metadata": {
    "heading_collapsed": true
   },
   "source": [
    "### Load Boundaries into memory"
   ]
  },
  {
   "cell_type": "code",
   "execution_count": 6,
   "metadata": {
    "ExecuteTime": {
     "end_time": "2019-01-21T17:16:04.071003Z",
     "start_time": "2019-01-21T17:16:03.868648Z"
    },
    "hidden": true
   },
   "outputs": [
    {
     "data": {
      "application/vnd.jupyter.widget-view+json": {
       "model_id": "9b3e70851f2c4fd6a5f1255d990c2344",
       "version_major": 2,
       "version_minor": 0
      },
      "text/plain": [
       "HBox(children=(IntProgress(value=0, max=2), HTML(value='')))"
      ]
     },
     "metadata": {},
     "output_type": "display_data"
    },
    {
     "name": "stdout",
     "output_type": "stream",
     "text": [
      "\n"
     ]
    }
   ],
   "source": [
    "boundaries = {}\n",
    "\n",
    "boundary_files = os.listdir(boundaries_dir)\n",
    "\n",
    "for boundary_file in tqdm_notebook(boundary_files):\n",
    "    path = os.path.join(boundaries_dir, boundary_file)\n",
    "    city = boundary_file[:-4]\n",
    "    \n",
    "    with open(path) as f:\n",
    "        geom = ogr.CreateGeometryFromWkt(f.read())\n",
    "        boundaries[city] = geom"
   ]
  },
  {
   "cell_type": "markdown",
   "metadata": {
    "heading_collapsed": true
   },
   "source": [
    "### Get existing data from OSM using OverPy"
   ]
  },
  {
   "cell_type": "code",
   "execution_count": 7,
   "metadata": {
    "ExecuteTime": {
     "end_time": "2019-01-21T17:16:39.398225Z",
     "start_time": "2019-01-21T17:16:21.576276Z"
    },
    "hidden": true
   },
   "outputs": [],
   "source": [
    "existing_stops = []\n",
    "\n",
    "stops_result_laval = api.query(bus_stop_tmpl.format(region_ids['Laval']))\n",
    "stops_result_montreal = api.query(bus_stop_tmpl.format(region_ids['Montreal']))"
   ]
  },
  {
   "cell_type": "code",
   "execution_count": 8,
   "metadata": {
    "ExecuteTime": {
     "end_time": "2019-01-21T17:16:39.442456Z",
     "start_time": "2019-01-21T17:16:39.403220Z"
    },
    "hidden": true
   },
   "outputs": [],
   "source": [
    "for node in stops_result_laval.nodes:\n",
    "    existing_stop = {\n",
    "        'id': node.id,\n",
    "        'lat': node.lat,\n",
    "        'lon': node.lon,\n",
    "        'tags': node.tags,\n",
    "        'city': 'Laval'\n",
    "    }\n",
    "    existing_stops.append(existing_stop)\n",
    "    \n",
    "for node in stops_result_montreal.nodes:\n",
    "    existing_stop = {\n",
    "        'id': node.id,\n",
    "        'lat': node.lat,\n",
    "        'lon': node.lon,\n",
    "        'tags': node.tags,\n",
    "        'city': 'Montreal'\n",
    "    }\n",
    "    existing_stops.append(existing_stop)"
   ]
  },
  {
   "cell_type": "markdown",
   "metadata": {},
   "source": [
    "### Load GTFS text files to memory"
   ]
  },
  {
   "cell_type": "code",
   "execution_count": 9,
   "metadata": {
    "ExecuteTime": {
     "end_time": "2019-01-21T17:16:51.848620Z",
     "start_time": "2019-01-21T17:16:48.228063Z"
    }
   },
   "outputs": [
    {
     "data": {
      "application/vnd.jupyter.widget-view+json": {
       "model_id": "af70a4807ae74ce2984dbffa782534eb",
       "version_major": 2,
       "version_minor": 0
      },
      "text/plain": [
       "HBox(children=(IntProgress(value=0, max=8), HTML(value='')))"
      ]
     },
     "metadata": {},
     "output_type": "display_data"
    },
    {
     "name": "stdout",
     "output_type": "stream",
     "text": [
      "\n"
     ]
    }
   ],
   "source": [
    "gtfs_data = {}\n",
    "\n",
    "filenames = os.listdir(gtfs_dir)\n",
    "\n",
    "for filename in tqdm_notebook(filenames):\n",
    "    table_name = filename[:-4]\n",
    "    path = os.path.join(gtfs_dir, filename)\n",
    "    gtfs_data[table_name] = {\n",
    "        \"path\": path,\n",
    "    }\n",
    "\n",
    "    with open(path, encoding='utf-8') as csvfile:\n",
    "        reader = csv.reader(csvfile)\n",
    "        \n",
    "        field_names = next(reader)\n",
    "        gtfs_data[table_name][\"field_names\"] = field_names\n",
    "        \n",
    "#         first_data_row = next(reader)\n",
    "#         field_types = []\n",
    "#         for i, item in enumerate(first_data_row):\n",
    "#             if len(item) == 1:\n",
    "#                 field_types.append(ogr.OFTInteger)\n",
    "#             elif 'lat' in field_names[i] or 'lon' in field_names[i]:\n",
    "#                 field_types.append(ogr.OFTReal)\n",
    "#             else:\n",
    "#                 field_types.append(ogr.OFTString)\n",
    "#         gtfs_data[table_name][\"field_types\"] = field_types\n",
    "        \n",
    "        dict_reader = csv.DictReader(csvfile, fieldnames=field_names)\n",
    "        data = [row for row in dict_reader]\n",
    "        gtfs_data[table_name][\"data\"] = data"
   ]
  },
  {
   "cell_type": "markdown",
   "metadata": {},
   "source": [
    "#### Print the dictionary information for reference"
   ]
  },
  {
   "cell_type": "code",
   "execution_count": 10,
   "metadata": {
    "ExecuteTime": {
     "end_time": "2019-01-21T17:16:54.980191Z",
     "start_time": "2019-01-21T17:16:54.966069Z"
    }
   },
   "outputs": [
    {
     "name": "stdout",
     "output_type": "stream",
     "text": [
      "# table: # field names\n",
      "stops: ['stop_id', 'stop_code', 'stop_name', 'stop_lon', 'stop_lat', 'location_type', 'stop_display', 'stop_abribus']\n",
      "\n",
      "trips: ['route_id', 'service_id', 'trip_id', 'block_id', 'shape_id', 'trip_headsign']\n",
      "\n",
      "calendar_dates: ['service_id', 'date', 'exception_type']\n",
      "\n",
      "calendar: ['service_id', 'monday', 'tuesday', 'wednesday', 'thursday', 'friday', 'saturday', 'sunday', 'start_date', 'end_date']\n",
      "\n",
      "routes: ['route_id', 'agency_id', 'route_short_name', 'route_long_name', 'route_type', 'route_url', 'route_headsign', 'route_color', 'route_text_color']\n",
      "\n",
      "stop_times: ['trip_id', 'arrival_time', 'departure_time', 'stop_id', 'stop_sequence', 'pickup_type', 'drop_off_type']\n",
      "\n",
      "shapes: ['shape_id', 'shape_pt_lat', 'shape_pt_lon', 'shape_pt_sequence']\n",
      "\n",
      "agency: ['agency_id', 'agency_name', 'agency_url', 'agency_timezone', 'agency_lang']\n",
      "\n"
     ]
    }
   ],
   "source": [
    "print('# table: # field names')\n",
    "for key, value in gtfs_data.items():\n",
    "    print('{}: {}\\n'.format(key, value['field_names']))\n",
    "#     print('{}: {}\\n{}\\n'.format(key, value['field_names'], value['field_types']))"
   ]
  },
  {
   "cell_type": "markdown",
   "metadata": {},
   "source": [
    "### Deduplicate the stops file\n",
    "1. Split the stop code from the name\n",
    "2. Check for name uniqueness\n",
    "3. Check for location uniqueness (with proximity tolerance - optional)"
   ]
  },
  {
   "cell_type": "markdown",
   "metadata": {},
   "source": [
    "#### Visualize the stop **names** and **codes** frequency distribution"
   ]
  },
  {
   "cell_type": "code",
   "execution_count": 11,
   "metadata": {
    "ExecuteTime": {
     "end_time": "2019-01-21T17:16:57.510882Z",
     "start_time": "2019-01-21T17:16:57.443677Z"
    }
   },
   "outputs": [
    {
     "data": {
      "application/vnd.jupyter.widget-view+json": {
       "model_id": "9e2e7f35b4bf47df96ac29316cd67805",
       "version_major": 2,
       "version_minor": 0
      },
      "text/plain": [
       "HBox(children=(IntProgress(value=0, max=5746), HTML(value='')))"
      ]
     },
     "metadata": {},
     "output_type": "display_data"
    },
    {
     "name": "stdout",
     "output_type": "stream",
     "text": [
      "\n"
     ]
    }
   ],
   "source": [
    "stops = gtfs_data['stops']['data']\n",
    "\n",
    "unique_stops = []\n",
    "stop_name_counter = Counter()\n",
    "stop_code_counter = Counter()\n",
    "\n",
    "for stop in tqdm_notebook(stops):\n",
    "    real_name = stop['stop_name'].split('[')[0].strip()\n",
    "    stop_code = stop['stop_code']\n",
    "    stop_name_counter[real_name] += 1\n",
    "    stop_code_counter[stop_code] += 1\n",
    "    \n",
    "names, name_counts = zip(*stop_name_counter.items())\n",
    "codes, code_counts = zip(*stop_code_counter.items())\n",
    "\n",
    "bar_height = 10\n",
    "\n",
    "plot_specs = {\n",
    "    'names': {\n",
    "        'positions': np.arange(len(names)),\n",
    "        'bar_spacing': 2 * np.arange(len(names)) * bar_height,\n",
    "        'labels': names,\n",
    "        'values': name_counts,\n",
    "        'title': 'Distribution of stop names'\n",
    "    },\n",
    "    'codes': {\n",
    "        'positions': np.arange(len(codes)),\n",
    "        'bar_spacing': 2 * np.arange(len(codes)) * bar_height,\n",
    "        'labels': codes,\n",
    "        'values': code_counts,\n",
    "        'title': 'Distribution of stop codes'\n",
    "    }\n",
    "}"
   ]
  },
  {
   "cell_type": "code",
   "execution_count": 12,
   "metadata": {
    "ExecuteTime": {
     "end_time": "2019-01-21T17:16:58.414186Z",
     "start_time": "2019-01-21T17:16:58.395426Z"
    }
   },
   "outputs": [],
   "source": [
    "# # Can't get this to work....moving on\n",
    "\n",
    "# # plt.figure(figsize=(50,30))\n",
    "# plt.rcParams.update({'font.size': 10})\n",
    "\n",
    "# for i, (plot_name, spec) in enumerate(plot_specs.items(), 1):\n",
    "#     plt.subplot(1, 2, i)\n",
    "#     plt.barh(spec['positions'], spec['values'], height=bar_height)\n",
    "#     plt.yticks(spec['bar_spacing'], spec['labels'])\n",
    "#     plt.title(spec['title'])\n",
    "#     plt.autoscale()\n",
    "# plt.tight_layout()\n",
    "# plt.show()"
   ]
  },
  {
   "cell_type": "markdown",
   "metadata": {
    "ExecuteTime": {
     "end_time": "2019-01-12T13:30:29.191793Z",
     "start_time": "2019-01-12T13:30:29.180259Z"
    }
   },
   "source": [
    "#### Create unique stops list"
   ]
  },
  {
   "cell_type": "code",
   "execution_count": 13,
   "metadata": {
    "ExecuteTime": {
     "end_time": "2019-01-21T17:22:27.115666Z",
     "start_time": "2019-01-21T17:17:00.154150Z"
    }
   },
   "outputs": [
    {
     "data": {
      "application/vnd.jupyter.widget-view+json": {
       "model_id": "3d9f4258ebbe4f85aac82574ca2d592e",
       "version_major": 2,
       "version_minor": 0
      },
      "text/plain": [
       "HBox(children=(IntProgress(value=0, max=2773), HTML(value='')))"
      ]
     },
     "metadata": {},
     "output_type": "display_data"
    },
    {
     "name": "stdout",
     "output_type": "stream",
     "text": [
      "\n"
     ]
    }
   ],
   "source": [
    "stops = gtfs_data['stops']['data']\n",
    "\n",
    "# existing_count_laval = 0\n",
    "# existing_count_montreal = 0\n",
    "existing_count_total = 0\n",
    "\n",
    "# Extent\n",
    "multi_point = ogr.Geometry(ogr.wkbMultiPoint)\n",
    "\n",
    "# Dictionary to group stops by unique location\n",
    "unique_locations = defaultdict(list)\n",
    "\n",
    "# List of stops rearranged with uniqueness\n",
    "unique_stops = []\n",
    "\n",
    "# Aggregate unique locations\n",
    "for stop in stops:\n",
    "    unique_locations[(stop['stop_lon'], stop['stop_lat'])].append(stop)\n",
    "\n",
    "# Aggregate attributes using unique locations into new stop objects\n",
    "for i, (unique_location, stops) in enumerate(tqdm_notebook(unique_locations.items()), 1):\n",
    "\n",
    "    ids = list(set([stop['stop_id'] for stop in stops]))\n",
    "    codes = list(set([stop['stop_code'] for stop in stops]))\n",
    "\n",
    "    lon = float(stops[0]['stop_lon'])\n",
    "    lat = float(stops[0]['stop_lat'])\n",
    "\n",
    "    # Create point to add to MultiPoint (for JOSM extent later...)\n",
    "    point = ogr.Geometry(ogr.wkbPoint)\n",
    "    point.AddPoint(lon, lat)\n",
    "    multi_point.AddGeometry(point)\n",
    "\n",
    "    # Create the unique stop according to JOSM format\n",
    "    action = None\n",
    "\n",
    "    # While checking for:\n",
    "    # 1. What city it is ine\n",
    "    # 2. If a node with the same geometry already exists in OSM\n",
    "    # 2.1 If node is in Laval, replace the tags\n",
    "    # 2.2 If node is in Montreal, append, code and name tags\n",
    "\n",
    "    # Get the city of the GTFS stop\n",
    "    city = None\n",
    "    for city_name, city_geom in boundaries.items():\n",
    "        if point.Intersects(city_geom):\n",
    "            city = city_name\n",
    "\n",
    "    osm_id = None\n",
    "    osm_lat = None\n",
    "    osm_lon = None\n",
    "\n",
    "    # Determine if node already exists\n",
    "    for existing_stop in existing_stops:\n",
    "        existing_point = ogr.Geometry(ogr.wkbPoint)\n",
    "        existing_point.AddPoint(\n",
    "            float(existing_stop['lon']), float(existing_stop['lat']))\n",
    "\n",
    "        if point.Equals(existing_point):\n",
    "            #             print('Equal point found')\n",
    "            existing_count_total += 1\n",
    "\n",
    "            osm_id = existing_stop['id']\n",
    "            osm_lat = existing_stop['lat']\n",
    "            osm_lon = existing_stop['lon']\n",
    "            action = 'modify'\n",
    "\n",
    "#             print(osm_id)\n",
    "        else:\n",
    "            osm_id = str(i * -1)\n",
    "            osm_lat = str(lat)\n",
    "            osm_lon = str(lon)\n",
    "\n",
    "    unique_stop = {\n",
    "        # props\n",
    "        'props': {\n",
    "            'id': osm_id,\n",
    "            'lon': osm_lon,\n",
    "            'lat': osm_lat,\n",
    "        },\n",
    "        # tags\n",
    "        'tags': {\n",
    "            'bus': 'yes',\n",
    "            'highway': 'bus_stop',\n",
    "            'name': stops[0]['stop_name'].split('[')[0].strip(),\n",
    "            'public_transport': 'platform',\n",
    "            'ref': ';'.join(codes),\n",
    "            'shelter': 'yes' if stops[0]['stop_abribus'] == '1' else 'no',\n",
    "        },\n",
    "        \"geom\": point,\n",
    "        # GTFS fields\n",
    "        \"gtfs_props\": {\n",
    "            'stop_id': ','.join(ids),\n",
    "            'stop_code': ','.join(codes),\n",
    "            'stop_name': stops[0]['stop_name'].split('[')[0].strip(),\n",
    "            'stop_lon': lon,\n",
    "            'stop_lat': lat,\n",
    "            'location_type': stops[0]['location_type'],\n",
    "            'stop_display': stops[0]['stop_display'],\n",
    "            'stop_abribus': stops[0]['stop_abribus'],\n",
    "        }\n",
    "    }\n",
    "    if action:\n",
    "        unique_stop['props']['action'] = action\n",
    "        \n",
    "    unique_stops.append(unique_stop)"
   ]
  },
  {
   "cell_type": "markdown",
   "metadata": {},
   "source": [
    "#### Merge stops by proximity (tolerance)"
   ]
  },
  {
   "cell_type": "code",
   "execution_count": 14,
   "metadata": {
    "ExecuteTime": {
     "end_time": "2019-01-21T17:22:33.062858Z",
     "start_time": "2019-01-21T17:22:29.154291Z"
    }
   },
   "outputs": [],
   "source": [
    "buffer_distance = 2  # meter\n",
    "multi_point_utm = reproject_geometry(multi_point.Clone(), 4326, 32618)\n",
    "buffered_points = multi_point_utm.Buffer(5)\n",
    "buffered_points_dissolved = buffered_points.UnionCascaded()\n",
    "buffered_points_dissolved_geo = reproject_geometry(buffered_points_dissolved.Clone(), 32618, 4326)\n",
    "\n",
    "buffers_file = os.path.join(output_dir, 'buffers.geojson')\n",
    "write_geometry_to_geojson(buffered_points_dissolved_geo, buffers_file)\n",
    "\n",
    "stops_file = os.path.join(output_dir, 'gtfs_stops.geojson')\n",
    "dict_to_geojson(unique_stops, stops_file, 'geom', fields_key='gtfs_props', epsg_id=4326)"
   ]
  },
  {
   "cell_type": "code",
   "execution_count": 15,
   "metadata": {
    "ExecuteTime": {
     "end_time": "2019-01-21T17:24:33.273304Z",
     "start_time": "2019-01-21T17:22:33.759088Z"
    }
   },
   "outputs": [
    {
     "data": {
      "application/vnd.jupyter.widget-view+json": {
       "model_id": "7dbd00869f5f4ab8a2aca0c69acfa3fa",
       "version_major": 2,
       "version_minor": 0
      },
      "text/plain": [
       "HBox(children=(IntProgress(value=1, bar_style='info', max=1), HTML(value='')))"
      ]
     },
     "metadata": {},
     "output_type": "display_data"
    },
    {
     "name": "stdout",
     "output_type": "stream",
     "text": [
      "\n",
      "Unique stops before merge: 2773\n",
      "Unique stops after merge: 2681\n"
     ]
    }
   ],
   "source": [
    "unique_stops_merged = []\n",
    "\n",
    "for i, buffer in tqdm_notebook(enumerate(buffered_points_dissolved_geo)):\n",
    "    stops_to_merge = []\n",
    "    for stop in unique_stops:\n",
    "        if stop['geom'].Within(buffer):\n",
    "            stops_to_merge.append(stop)\n",
    "            \n",
    "    if len(stops_to_merge) > 1:\n",
    "        new_stop = stops_to_merge[0].copy()\n",
    "        merged_codes = []\n",
    "        merged_ids = []\n",
    "        \n",
    "        for stop_to_merge in stops_to_merge:\n",
    "            merged_codes.extend(stop_to_merge['gtfs_props']['stop_code'].split(','))\n",
    "            merged_ids.extend(stop_to_merge['gtfs_props']['stop_id'].split(','))\n",
    "            \n",
    "            # Copy the first stop in the list and update the keys\n",
    "            new_stop['gtfs_props']['stop_code'] = ','.join(merged_codes)\n",
    "            new_stop['gtfs_props']['stop_id'] = ','.join(merged_ids)\n",
    "            new_stop['tags']['ref'] = ';'.join(merged_codes)\n",
    "            \n",
    "        unique_stops_merged.append(new_stop)\n",
    "        \n",
    "    if len(stops_to_merge) == 1:\n",
    "        unique_stops_merged.append(stops_to_merge[0])\n",
    "            \n",
    "print('Unique stops before merge: {}'.format(len(unique_stops)))\n",
    "print('Unique stops after merge: {}'.format(len(unique_stops_merged)))\n",
    "                "
   ]
  },
  {
   "cell_type": "code",
   "execution_count": 16,
   "metadata": {
    "ExecuteTime": {
     "end_time": "2019-01-21T17:26:49.347227Z",
     "start_time": "2019-01-21T17:26:49.172645Z"
    }
   },
   "outputs": [],
   "source": [
    "unique_stops_merged_file = os.path.join(output_dir, 'unique_stops_merged.geojson')\n",
    "dict_to_geojson(unique_stops_merged, unique_stops_merged_file, 'geom', 'gtfs_props', 4326)"
   ]
  },
  {
   "cell_type": "markdown",
   "metadata": {},
   "source": [
    "### Consolidate GTFS routes"
   ]
  },
  {
   "cell_type": "code",
   "execution_count": 18,
   "metadata": {
    "ExecuteTime": {
     "end_time": "2019-01-21T17:27:03.470606Z",
     "start_time": "2019-01-21T17:27:03.465759Z"
    }
   },
   "outputs": [],
   "source": [
    "routes_data = gtfs_data['routes']['data']\n",
    "stop_times_data = gtfs_data['stop_times']['data']\n",
    "trips_data = gtfs_data['trips']['data']"
   ]
  },
  {
   "cell_type": "code",
   "execution_count": 19,
   "metadata": {
    "ExecuteTime": {
     "end_time": "2019-01-21T17:27:04.125151Z",
     "start_time": "2019-01-21T17:27:04.088222Z"
    }
   },
   "outputs": [],
   "source": [
    "# Find all trips for a route\n",
    "route_trips = defaultdict(set)\n",
    "\n",
    "for trip in trips_data:\n",
    "    route_trips[trip['route_id']].add(trip['trip_id'])"
   ]
  },
  {
   "cell_type": "code",
   "execution_count": 20,
   "metadata": {
    "ExecuteTime": {
     "end_time": "2019-01-21T17:27:06.505914Z",
     "start_time": "2019-01-21T17:27:05.620052Z"
    }
   },
   "outputs": [
    {
     "data": {
      "application/vnd.jupyter.widget-view+json": {
       "model_id": "a4121532b4bd4b74b6f9615a17ee6db0",
       "version_major": 2,
       "version_minor": 0
      },
      "text/plain": [
       "HBox(children=(IntProgress(value=0, max=667586), HTML(value='')))"
      ]
     },
     "metadata": {},
     "output_type": "display_data"
    },
    {
     "name": "stdout",
     "output_type": "stream",
     "text": [
      "\n"
     ]
    }
   ],
   "source": [
    "# Count the number of stops per trip\n",
    "stops_counter = Counter()\n",
    "\n",
    "for stop_time in tqdm_notebook(stop_times_data):\n",
    "    stops_counter[stop_time['trip_id']] += 1\n",
    "\n",
    "stops_counter = dict(stops_counter)"
   ]
  },
  {
   "cell_type": "code",
   "execution_count": 21,
   "metadata": {
    "ExecuteTime": {
     "end_time": "2019-01-21T17:27:08.554847Z",
     "start_time": "2019-01-21T17:27:07.600151Z"
    }
   },
   "outputs": [
    {
     "data": {
      "application/vnd.jupyter.widget-view+json": {
       "model_id": "ffc236737f264412a96dd7b3b15120bd",
       "version_major": 2,
       "version_minor": 0
      },
      "text/plain": [
       "HBox(children=(IntProgress(value=0, max=178), HTML(value='')))"
      ]
     },
     "metadata": {},
     "output_type": "display_data"
    },
    {
     "name": "stdout",
     "output_type": "stream",
     "text": [
      "\n"
     ]
    }
   ],
   "source": [
    "# Find the longest trip per route\n",
    "longest_route_trips = []\n",
    "\n",
    "for route_id, trip_ids in tqdm_notebook(route_trips.items()):\n",
    "    trips = []\n",
    "    \n",
    "    for trip_id, stop_count in stops_counter.items():\n",
    "        if trip_id in trip_ids:\n",
    "            trips.append((trip_id, stop_count))\n",
    "            \n",
    "    trips.sort(key=itemgetter(1), reverse=True)\n",
    "    \n",
    "    longest_route_trips.append({\n",
    "        \"route_id\": route_id,\n",
    "        \"trip_id\": trips[0][0],\n",
    "        \"stops_count\": trips[0][1]\n",
    "    })"
   ]
  },
  {
   "cell_type": "code",
   "execution_count": 22,
   "metadata": {
    "ExecuteTime": {
     "end_time": "2019-01-21T17:27:17.387178Z",
     "start_time": "2019-01-21T17:27:17.373135Z"
    }
   },
   "outputs": [
    {
     "data": {
      "text/plain": [
       "{'route_id': 'AOUT1863N',\n",
       " 'stops_count': 73,\n",
       " 'trip_id': 'AOUT1863N1L32920040045'}"
      ]
     },
     "execution_count": 22,
     "metadata": {},
     "output_type": "execute_result"
    }
   ],
   "source": [
    "longest_route_trips[0]"
   ]
  },
  {
   "cell_type": "code",
   "execution_count": 23,
   "metadata": {
    "ExecuteTime": {
     "end_time": "2019-01-21T17:27:47.413001Z",
     "start_time": "2019-01-21T17:27:19.983037Z"
    }
   },
   "outputs": [
    {
     "data": {
      "application/vnd.jupyter.widget-view+json": {
       "model_id": "bf71fc523a8c4538965ce76592684bd5",
       "version_major": 2,
       "version_minor": 0
      },
      "text/plain": [
       "HBox(children=(IntProgress(value=0, max=178), HTML(value='')))"
      ]
     },
     "metadata": {},
     "output_type": "display_data"
    },
    {
     "name": "stdout",
     "output_type": "stream",
     "text": [
      "\n"
     ]
    }
   ],
   "source": [
    "# Add the stop ids to the longest route\n",
    "for longest_trip in tqdm_notebook(longest_route_trips):\n",
    "    trip_id = longest_trip['trip_id']\n",
    "    stops = []\n",
    "    \n",
    "    for stop_time in stop_times_data:\n",
    "        if stop_time['trip_id'] == trip_id:\n",
    "            stops.append({\n",
    "                \"gtfs_id\": stop_time['stop_id'],\n",
    "                \"sequence\": int(stop_time['stop_sequence'])\n",
    "            })\n",
    "            \n",
    "    stops.sort(key=itemgetter('sequence'))\n",
    "    longest_trip['stops'] = stops"
   ]
  },
  {
   "cell_type": "code",
   "execution_count": 25,
   "metadata": {
    "ExecuteTime": {
     "end_time": "2019-01-21T17:27:56.666716Z",
     "start_time": "2019-01-21T17:27:56.645809Z"
    }
   },
   "outputs": [
    {
     "data": {
      "text/plain": [
       "{'route_id': 'AOUT1863N',\n",
       " 'stops': [{'gtfs_id': 'AOUT18CP47063', 'sequence': 1},\n",
       "  {'gtfs_id': 'AOUT1841267', 'sequence': 2},\n",
       "  {'gtfs_id': 'AOUT1841221', 'sequence': 3},\n",
       "  {'gtfs_id': 'AOUT1841223', 'sequence': 4},\n",
       "  {'gtfs_id': 'AOUT1841225', 'sequence': 5},\n",
       "  {'gtfs_id': 'AOUT1841227', 'sequence': 6},\n",
       "  {'gtfs_id': 'AOUT1841229', 'sequence': 7},\n",
       "  {'gtfs_id': 'AOUT1841232', 'sequence': 8},\n",
       "  {'gtfs_id': 'AOUT1841234', 'sequence': 9},\n",
       "  {'gtfs_id': 'AOUT1841236', 'sequence': 10},\n",
       "  {'gtfs_id': 'AOUT1841238', 'sequence': 11},\n",
       "  {'gtfs_id': 'AOUT18CP41240', 'sequence': 12},\n",
       "  {'gtfs_id': 'AOUT1841688', 'sequence': 13},\n",
       "  {'gtfs_id': 'AOUT1841690', 'sequence': 14},\n",
       "  {'gtfs_id': 'AOUT1841692', 'sequence': 15},\n",
       "  {'gtfs_id': 'AOUT1841515', 'sequence': 16},\n",
       "  {'gtfs_id': 'AOUT1841517', 'sequence': 17},\n",
       "  {'gtfs_id': 'AOUT1841519', 'sequence': 18},\n",
       "  {'gtfs_id': 'AOUT1841513', 'sequence': 19},\n",
       "  {'gtfs_id': 'AOUT1841924', 'sequence': 20},\n",
       "  {'gtfs_id': 'AOUT1841370', 'sequence': 21},\n",
       "  {'gtfs_id': 'AOUT1841351', 'sequence': 22},\n",
       "  {'gtfs_id': 'AOUT1843510', 'sequence': 23},\n",
       "  {'gtfs_id': 'AOUT18CP43506', 'sequence': 24},\n",
       "  {'gtfs_id': 'AOUT1843343', 'sequence': 25},\n",
       "  {'gtfs_id': 'AOUT1843146', 'sequence': 26},\n",
       "  {'gtfs_id': 'AOUT18CP41957', 'sequence': 27},\n",
       "  {'gtfs_id': 'AOUT1841952', 'sequence': 28},\n",
       "  {'gtfs_id': 'AOUT1841942', 'sequence': 29},\n",
       "  {'gtfs_id': 'AOUT1841938', 'sequence': 30},\n",
       "  {'gtfs_id': 'AOUT1841965', 'sequence': 31},\n",
       "  {'gtfs_id': 'AOUT1841018', 'sequence': 32},\n",
       "  {'gtfs_id': 'AOUT18CP44063', 'sequence': 33},\n",
       "  {'gtfs_id': 'AOUT1841962', 'sequence': 34},\n",
       "  {'gtfs_id': 'AOUT1841950', 'sequence': 35},\n",
       "  {'gtfs_id': 'AOUT1841943', 'sequence': 36},\n",
       "  {'gtfs_id': 'AOUT1841945', 'sequence': 37},\n",
       "  {'gtfs_id': 'AOUT18CP41946', 'sequence': 38},\n",
       "  {'gtfs_id': 'AOUT1841948', 'sequence': 39},\n",
       "  {'gtfs_id': 'AOUT1846187', 'sequence': 40},\n",
       "  {'gtfs_id': 'AOUT1846315', 'sequence': 41},\n",
       "  {'gtfs_id': 'AOUT1846189', 'sequence': 42},\n",
       "  {'gtfs_id': 'AOUT1846190', 'sequence': 43},\n",
       "  {'gtfs_id': 'AOUT1846191', 'sequence': 44},\n",
       "  {'gtfs_id': 'AOUT1846192', 'sequence': 45},\n",
       "  {'gtfs_id': 'AOUT18CP46193', 'sequence': 46},\n",
       "  {'gtfs_id': 'AOUT1846402', 'sequence': 47},\n",
       "  {'gtfs_id': 'AOUT1842741', 'sequence': 48},\n",
       "  {'gtfs_id': 'AOUT1845041', 'sequence': 49},\n",
       "  {'gtfs_id': 'AOUT1846194', 'sequence': 50},\n",
       "  {'gtfs_id': 'AOUT1846195', 'sequence': 51},\n",
       "  {'gtfs_id': 'AOUT1846196', 'sequence': 52},\n",
       "  {'gtfs_id': 'AOUT1846197', 'sequence': 53},\n",
       "  {'gtfs_id': 'AOUT1846198', 'sequence': 54},\n",
       "  {'gtfs_id': 'AOUT1846199', 'sequence': 55},\n",
       "  {'gtfs_id': 'AOUT1846200', 'sequence': 56},\n",
       "  {'gtfs_id': 'AOUT1846201', 'sequence': 57},\n",
       "  {'gtfs_id': 'AOUT1846202', 'sequence': 58},\n",
       "  {'gtfs_id': 'AOUT1846203', 'sequence': 59},\n",
       "  {'gtfs_id': 'AOUT1846204', 'sequence': 60},\n",
       "  {'gtfs_id': 'AOUT1846205', 'sequence': 61},\n",
       "  {'gtfs_id': 'AOUT1841658', 'sequence': 62},\n",
       "  {'gtfs_id': 'AOUT1842574', 'sequence': 63},\n",
       "  {'gtfs_id': 'AOUT1842576', 'sequence': 64},\n",
       "  {'gtfs_id': 'AOUT1842578', 'sequence': 65},\n",
       "  {'gtfs_id': 'AOUT18CP42580', 'sequence': 66},\n",
       "  {'gtfs_id': 'AOUT1842886', 'sequence': 67},\n",
       "  {'gtfs_id': 'AOUT1842888', 'sequence': 68},\n",
       "  {'gtfs_id': 'AOUT1842890', 'sequence': 69},\n",
       "  {'gtfs_id': 'AOUT1842893', 'sequence': 70},\n",
       "  {'gtfs_id': 'AOUT1842897', 'sequence': 71},\n",
       "  {'gtfs_id': 'AOUT1842898', 'sequence': 72},\n",
       "  {'gtfs_id': 'AOUT18CP49063', 'sequence': 73}],\n",
       " 'stops_count': 73,\n",
       " 'trip_id': 'AOUT1863N1L32920040045'}"
      ]
     },
     "execution_count": 25,
     "metadata": {},
     "output_type": "execute_result"
    }
   ],
   "source": [
    "longest_route_trips[0]"
   ]
  },
  {
   "cell_type": "code",
   "execution_count": 27,
   "metadata": {
    "ExecuteTime": {
     "end_time": "2019-01-21T17:29:11.072843Z",
     "start_time": "2019-01-21T17:29:11.019586Z"
    }
   },
   "outputs": [
    {
     "name": "stdout",
     "output_type": "stream",
     "text": [
      "178\n"
     ]
    },
    {
     "data": {
      "application/vnd.jupyter.widget-view+json": {
       "model_id": "75bbe02f5ae64f01b990998e42887ac0",
       "version_major": 2,
       "version_minor": 0
      },
      "text/plain": [
       "HBox(children=(IntProgress(value=0, max=178), HTML(value='')))"
      ]
     },
     "metadata": {},
     "output_type": "display_data"
    },
    {
     "name": "stdout",
     "output_type": "stream",
     "text": [
      "73\n",
      "19\n",
      "20\n",
      "106\n",
      "72\n",
      "93\n",
      "101\n",
      "56\n",
      "24\n",
      "66\n",
      "56\n",
      "39\n",
      "87\n",
      "52\n",
      "93\n",
      "28\n",
      "52\n",
      "61\n",
      "56\n",
      "52\n",
      "50\n",
      "71\n",
      "67\n",
      "38\n",
      "56\n",
      "61\n",
      "54\n",
      "54\n",
      "39\n",
      "60\n",
      "4\n",
      "34\n",
      "101\n",
      "85\n",
      "67\n",
      "62\n",
      "56\n",
      "73\n",
      "54\n",
      "61\n",
      "87\n",
      "4\n",
      "61\n",
      "62\n",
      "52\n",
      "58\n",
      "44\n",
      "48\n",
      "48\n",
      "20\n",
      "19\n",
      "39\n",
      "37\n",
      "53\n",
      "28\n",
      "72\n",
      "73\n",
      "57\n",
      "60\n",
      "55\n",
      "79\n",
      "69\n",
      "63\n",
      "107\n",
      "107\n",
      "66\n",
      "68\n",
      "56\n",
      "54\n",
      "37\n",
      "51\n",
      "91\n",
      "63\n",
      "43\n",
      "55\n",
      "58\n",
      "37\n",
      "57\n",
      "93\n",
      "59\n",
      "37\n",
      "34\n",
      "57\n",
      "38\n",
      "56\n",
      "58\n",
      "58\n",
      "55\n",
      "55\n",
      "55\n",
      "52\n",
      "43\n",
      "48\n",
      "52\n",
      "49\n",
      "39\n",
      "74\n",
      "69\n",
      "37\n",
      "80\n",
      "57\n",
      "76\n",
      "48\n",
      "26\n",
      "88\n",
      "93\n",
      "57\n",
      "56\n",
      "56\n",
      "52\n",
      "58\n",
      "91\n",
      "57\n",
      "37\n",
      "18\n",
      "85\n",
      "50\n",
      "54\n",
      "26\n",
      "68\n",
      "74\n",
      "53\n",
      "58\n",
      "59\n",
      "58\n",
      "106\n",
      "63\n",
      "56\n",
      "74\n",
      "73\n",
      "20\n",
      "56\n",
      "62\n",
      "88\n",
      "56\n",
      "66\n",
      "71\n",
      "44\n",
      "42\n",
      "63\n",
      "42\n",
      "53\n",
      "50\n",
      "48\n",
      "34\n",
      "72\n",
      "52\n",
      "37\n",
      "39\n",
      "59\n",
      "55\n",
      "79\n",
      "105\n",
      "52\n",
      "52\n",
      "105\n",
      "58\n",
      "59\n",
      "18\n",
      "53\n",
      "37\n",
      "24\n",
      "10\n",
      "48\n",
      "48\n",
      "48\n",
      "49\n",
      "51\n",
      "66\n",
      "72\n",
      "54\n",
      "10\n",
      "62\n",
      "50\n",
      "74\n",
      "20\n",
      "80\n",
      "76\n",
      "\n"
     ]
    }
   ],
   "source": [
    "print(len(longest_route_trips))\n",
    "for longest_route in tqdm_notebook(longest_route_trips):\n",
    "    print(len(longest_route['stops']))"
   ]
  },
  {
   "cell_type": "code",
   "execution_count": 28,
   "metadata": {
    "ExecuteTime": {
     "end_time": "2019-01-21T17:30:10.137850Z",
     "start_time": "2019-01-21T17:29:16.977275Z"
    }
   },
   "outputs": [
    {
     "data": {
      "application/vnd.jupyter.widget-view+json": {
       "model_id": "065c3ac686674259be797c35a5dbcb8b",
       "version_major": 2,
       "version_minor": 0
      },
      "text/plain": [
       "HBox(children=(IntProgress(value=0, max=178), HTML(value='')))"
      ]
     },
     "metadata": {},
     "output_type": "display_data"
    },
    {
     "name": "stdout",
     "output_type": "stream",
     "text": [
      "\n"
     ]
    }
   ],
   "source": [
    "# Map the GTFS stops to the merged unique stops\n",
    "for longest_trip in tqdm_notebook(longest_route_trips):\n",
    "    for gtfs_stop in longest_trip['stops']:\n",
    "        for unique_stop in unique_stops_merged:\n",
    "            unique_stop_ids = unique_stop['gtfs_props']['stop_id'].split(',')\n",
    "            osm_id = unique_stop['props']['id']\n",
    "            name = unique_stop['tags']['name']\n",
    "            if gtfs_stop['gtfs_id'] in unique_stop_ids:\n",
    "                gtfs_stop.update({\n",
    "                    \"osm_id\": osm_id,\n",
    "                    \"name\": name\n",
    "                })"
   ]
  },
  {
   "cell_type": "code",
   "execution_count": 29,
   "metadata": {
    "ExecuteTime": {
     "end_time": "2019-01-21T17:30:15.800349Z",
     "start_time": "2019-01-21T17:30:15.775653Z"
    }
   },
   "outputs": [
    {
     "data": {
      "text/plain": [
       "[{'gtfs_id': 'AOUT18CP47063',\n",
       "  'name': 'Métro Cartier Quai:5',\n",
       "  'osm_id': '-938',\n",
       "  'sequence': 1},\n",
       " {'gtfs_id': 'AOUT1841267',\n",
       "  'name': 'Cartier / De Bayeux',\n",
       "  'osm_id': '-2569',\n",
       "  'sequence': 2},\n",
       " {'gtfs_id': 'AOUT1841221',\n",
       "  'name': 'Cartier / Conrad',\n",
       "  'osm_id': '-1924',\n",
       "  'sequence': 3},\n",
       " {'gtfs_id': 'AOUT1841223',\n",
       "  'name': 'Cartier / 8e',\n",
       "  'osm_id': '-2338',\n",
       "  'sequence': 4},\n",
       " {'gtfs_id': 'AOUT1841225',\n",
       "  'name': 'Cartier / 15e Rue',\n",
       "  'osm_id': '-600',\n",
       "  'sequence': 5},\n",
       " {'gtfs_id': 'AOUT1841227',\n",
       "  'name': 'Cartier / Perrin',\n",
       "  'osm_id': '-143',\n",
       "  'sequence': 6},\n",
       " {'gtfs_id': 'AOUT1841229',\n",
       "  'name': 'Cartier / Ampère',\n",
       "  'osm_id': '-390',\n",
       "  'sequence': 7},\n",
       " {'gtfs_id': 'AOUT1841232',\n",
       "  'name': 'Cartier / Laval',\n",
       "  'osm_id': '-266',\n",
       "  'sequence': 8},\n",
       " {'gtfs_id': 'AOUT1841234',\n",
       "  'name': 'Cartier / Du Bon-Pasteur',\n",
       "  'osm_id': '-2070',\n",
       "  'sequence': 9},\n",
       " {'gtfs_id': 'AOUT1841236',\n",
       "  'name': 'Cartier / Mariale',\n",
       "  'osm_id': '-2341',\n",
       "  'sequence': 10},\n",
       " {'gtfs_id': 'AOUT1841238',\n",
       "  'name': 'Cartier / Dussault',\n",
       "  'osm_id': '-766',\n",
       "  'sequence': 11},\n",
       " {'gtfs_id': 'AOUT18CP41240',\n",
       "  'name': 'Cartier / Giroux',\n",
       "  'osm_id': '-546',\n",
       "  'sequence': 12},\n",
       " {'gtfs_id': 'AOUT1841688',\n",
       "  'name': 'Giroux / 4e Rue',\n",
       "  'osm_id': '-328',\n",
       "  'sequence': 13},\n",
       " {'gtfs_id': 'AOUT1841690',\n",
       "  'name': 'Giroux / 5e Rue',\n",
       "  'osm_id': '-2169',\n",
       "  'sequence': 14},\n",
       " {'gtfs_id': 'AOUT1841692',\n",
       "  'name': \"Giroux / D'argenteuil\",\n",
       "  'osm_id': '-1529',\n",
       "  'sequence': 15},\n",
       " {'gtfs_id': 'AOUT1841515',\n",
       "  'name': \"D'argenteuil / Montmorency\",\n",
       "  'osm_id': '-2397',\n",
       "  'sequence': 16},\n",
       " {'gtfs_id': 'AOUT1841517',\n",
       "  'name': \"D'argenteuil / Desmarteau\",\n",
       "  'osm_id': '-1786',\n",
       "  'sequence': 17},\n",
       " {'gtfs_id': 'AOUT1841519',\n",
       "  'name': \"D'argenteuil / Du Bon-Pasteur\",\n",
       "  'osm_id': '-2470',\n",
       "  'sequence': 18},\n",
       " {'gtfs_id': 'AOUT1841513',\n",
       "  'name': \"D'argenteuil / Laval\",\n",
       "  'osm_id': '-2185',\n",
       "  'sequence': 19},\n",
       " {'gtfs_id': 'AOUT1841924',\n",
       "  'name': 'Laval / Raymond-Casgrain',\n",
       "  'osm_id': '-1534',\n",
       "  'sequence': 20},\n",
       " {'gtfs_id': 'AOUT1841370',\n",
       "  'name': 'De La Concorde / Deauville',\n",
       "  'osm_id': '-2516',\n",
       "  'sequence': 21},\n",
       " {'gtfs_id': 'AOUT1841351',\n",
       "  'name': 'De La Concorde / Face à La Maison Des Arts',\n",
       "  'osm_id': '-1631',\n",
       "  'sequence': 22},\n",
       " {'gtfs_id': 'AOUT1843510',\n",
       "  'name': \"De L'avenir / Face Au Cégep Montmorency\",\n",
       "  'osm_id': '-2231',\n",
       "  'sequence': 23},\n",
       " {'gtfs_id': 'AOUT18CP43506',\n",
       "  'name': \"De L'avenir / Jacques-Tétreault\",\n",
       "  'osm_id': '-2503',\n",
       "  'sequence': 24},\n",
       " {'gtfs_id': 'AOUT1843343',\n",
       "  'name': \"Du Souvenir / De L'avenir\",\n",
       "  'osm_id': '-1337',\n",
       "  'sequence': 25},\n",
       " {'gtfs_id': 'AOUT1843146',\n",
       "  'name': 'Du Souvenir / Le Corbusier',\n",
       "  'osm_id': '-1778',\n",
       "  'sequence': 26},\n",
       " {'gtfs_id': 'AOUT18CP41957',\n",
       "  'name': 'Le Corbusier / Du Souvenir - Centre Laval',\n",
       "  'osm_id': '-1206',\n",
       "  'sequence': 27},\n",
       " {'gtfs_id': 'AOUT1841952',\n",
       "  'name': 'Le Corbusier / Saint-Martin',\n",
       "  'osm_id': '-2111',\n",
       "  'sequence': 28},\n",
       " {'gtfs_id': 'AOUT1841942',\n",
       "  'name': 'Le Corbusier / Albert-Duquesne',\n",
       "  'osm_id': '-1879',\n",
       "  'sequence': 29},\n",
       " {'gtfs_id': 'AOUT1841938',\n",
       "  'name': 'Le Corbusier / Face Au 1869',\n",
       "  'osm_id': '-2724',\n",
       "  'sequence': 30},\n",
       " {'gtfs_id': 'AOUT1841965',\n",
       "  'name': 'Le Corbusier / Tessier',\n",
       "  'osm_id': '-50',\n",
       "  'sequence': 31},\n",
       " {'gtfs_id': 'AOUT1841018',\n",
       "  'name': 'Le Carrefour / Le Corbusier',\n",
       "  'osm_id': '-11',\n",
       "  'sequence': 32},\n",
       " {'gtfs_id': 'AOUT18CP44063',\n",
       "  'name': 'Terminus Le Carrefour Quai:3',\n",
       "  'osm_id': '-538',\n",
       "  'sequence': 33},\n",
       " {'gtfs_id': 'AOUT1841962',\n",
       "  'name': 'Le Corbusier / Gutenberg',\n",
       "  'osm_id': '-240',\n",
       "  'sequence': 34},\n",
       " {'gtfs_id': 'AOUT1841950',\n",
       "  'name': 'Le Corbusier / Cunard',\n",
       "  'osm_id': '-1557',\n",
       "  'sequence': 35},\n",
       " {'gtfs_id': 'AOUT1841943',\n",
       "  'name': 'Le Corbusier / Face Au 2577',\n",
       "  'osm_id': '-1012',\n",
       "  'sequence': 36},\n",
       " {'gtfs_id': 'AOUT1841945',\n",
       "  'name': 'Le Corbusier / Berlier',\n",
       "  'osm_id': '-1018',\n",
       "  'sequence': 37},\n",
       " {'gtfs_id': 'AOUT18CP41946',\n",
       "  'name': 'Le Corbusier / Saint-Elzéar',\n",
       "  'osm_id': '-2542',\n",
       "  'sequence': 38},\n",
       " {'gtfs_id': 'AOUT1841948',\n",
       "  'name': 'Le Corbusier / Monterey',\n",
       "  'osm_id': '-717',\n",
       "  'sequence': 39},\n",
       " {'gtfs_id': 'AOUT1846187',\n",
       "  'name': 'Michelin / Le Corbusier',\n",
       "  'osm_id': '-156',\n",
       "  'sequence': 40},\n",
       " {'gtfs_id': 'AOUT1846315',\n",
       "  'name': 'Michelin / Delaunay',\n",
       "  'osm_id': '-1384',\n",
       "  'sequence': 41},\n",
       " {'gtfs_id': 'AOUT1846189',\n",
       "  'name': 'Michelin / Montée Saint-Aubin',\n",
       "  'osm_id': '-494',\n",
       "  'sequence': 42},\n",
       " {'gtfs_id': 'AOUT1846190',\n",
       "  'name': 'Michelin / Le Chatelier',\n",
       "  'osm_id': '-2735',\n",
       "  'sequence': 43},\n",
       " {'gtfs_id': 'AOUT1846191',\n",
       "  'name': 'Michelin / Face Au 2460',\n",
       "  'osm_id': '-1350',\n",
       "  'sequence': 44},\n",
       " {'gtfs_id': 'AOUT1846192',\n",
       "  'name': 'Michelin / Des Rossignols',\n",
       "  'osm_id': '-1228',\n",
       "  'sequence': 45},\n",
       " {'gtfs_id': 'AOUT18CP46193',\n",
       "  'name': 'Des Rossignols / Dagenais',\n",
       "  'osm_id': '-523',\n",
       "  'sequence': 46},\n",
       " {'gtfs_id': 'AOUT1846402',\n",
       "  'name': 'Des Rossignols / Face Au 5755',\n",
       "  'osm_id': '-273',\n",
       "  'sequence': 47},\n",
       " {'gtfs_id': 'AOUT1842741',\n",
       "  'name': 'Des Rossignols / De La Petite-Côte',\n",
       "  'osm_id': '-137',\n",
       "  'sequence': 48},\n",
       " {'gtfs_id': 'AOUT1845041',\n",
       "  'name': 'Des Rossignols / Du Viréo',\n",
       "  'osm_id': '-966',\n",
       "  'sequence': 49},\n",
       " {'gtfs_id': 'AOUT1846194',\n",
       "  'name': 'Des Rossignols / Des Oiseaux',\n",
       "  'osm_id': '-545',\n",
       "  'sequence': 50},\n",
       " {'gtfs_id': 'AOUT1846195',\n",
       "  'name': 'Des Rossignols / De La Perdriole',\n",
       "  'osm_id': '-1962',\n",
       "  'sequence': 51},\n",
       " {'gtfs_id': 'AOUT1846196',\n",
       "  'name': 'Des Rossignols / De La Perdriole',\n",
       "  'osm_id': '-148',\n",
       "  'sequence': 52},\n",
       " {'gtfs_id': 'AOUT1846197',\n",
       "  'name': 'Des Rossignols / Du Faisan',\n",
       "  'osm_id': '-1312',\n",
       "  'sequence': 53},\n",
       " {'gtfs_id': 'AOUT1846198',\n",
       "  'name': 'Des Rossignols / De La Volière',\n",
       "  'osm_id': '-885',\n",
       "  'sequence': 54},\n",
       " {'gtfs_id': 'AOUT1846199',\n",
       "  'name': 'Des Rossignols / Des Bernaches',\n",
       "  'osm_id': '-2257',\n",
       "  'sequence': 55},\n",
       " {'gtfs_id': 'AOUT1846200',\n",
       "  'name': 'Des Rossignols / Du Passerin',\n",
       "  'osm_id': '-1259',\n",
       "  'sequence': 56},\n",
       " {'gtfs_id': 'AOUT1846201',\n",
       "  'name': 'De La Renaissance / Des Rossignols',\n",
       "  'osm_id': '-883',\n",
       "  'sequence': 57},\n",
       " {'gtfs_id': 'AOUT1846202',\n",
       "  'name': 'De La Renaissance / Des Patriotes',\n",
       "  'osm_id': '-890',\n",
       "  'sequence': 58},\n",
       " {'gtfs_id': 'AOUT1846203',\n",
       "  'name': 'Honoré-Mercier / De La Renaissance',\n",
       "  'osm_id': '-2091',\n",
       "  'sequence': 59},\n",
       " {'gtfs_id': 'AOUT1846204',\n",
       "  'name': 'Honoré-Mercier / Arthur-Buies',\n",
       "  'osm_id': '-2137',\n",
       "  'sequence': 60},\n",
       " {'gtfs_id': 'AOUT1846205',\n",
       "  'name': 'Honoré-Mercier / Claude-Henri-Grignon',\n",
       "  'osm_id': '-2575',\n",
       "  'sequence': 61},\n",
       " {'gtfs_id': 'AOUT1841658',\n",
       "  'name': 'Marc-Aurèle-Fortin / Des Patriotes',\n",
       "  'osm_id': '-1771',\n",
       "  'sequence': 62},\n",
       " {'gtfs_id': 'AOUT1842574',\n",
       "  'name': 'Des Patriotes / Du Roi-Du-Nord',\n",
       "  'osm_id': '-1940',\n",
       "  'sequence': 63},\n",
       " {'gtfs_id': 'AOUT1842576',\n",
       "  'name': 'Des Patriotes / Je-Me-Souviens',\n",
       "  'osm_id': '-1704',\n",
       "  'sequence': 64},\n",
       " {'gtfs_id': 'AOUT1842578',\n",
       "  'name': 'Des Patriotes / Nadon',\n",
       "  'osm_id': '-2518',\n",
       "  'sequence': 65},\n",
       " {'gtfs_id': 'AOUT18CP42580',\n",
       "  'name': 'Des Patriotes / Sainte-Rose',\n",
       "  'osm_id': '-2074',\n",
       "  'sequence': 66},\n",
       " {'gtfs_id': 'AOUT1842886',\n",
       "  'name': 'Sainte-Rose / Face Au 104',\n",
       "  'osm_id': '-657',\n",
       "  'sequence': 67},\n",
       " {'gtfs_id': 'AOUT1842888',\n",
       "  'name': 'Sainte-Rose / Dufferin',\n",
       "  'osm_id': '-2159',\n",
       "  'sequence': 68},\n",
       " {'gtfs_id': 'AOUT1842890',\n",
       "  'name': 'Sainte-Rose / Face Au 57',\n",
       "  'osm_id': '-2032',\n",
       "  'sequence': 69},\n",
       " {'gtfs_id': 'AOUT1842893',\n",
       "  'name': 'Sainte-Rose / Archambault',\n",
       "  'osm_id': '-2217',\n",
       "  'sequence': 70},\n",
       " {'gtfs_id': 'AOUT1842897',\n",
       "  'name': 'Sainte-Rose / Olier-Payette',\n",
       "  'osm_id': '-2088',\n",
       "  'sequence': 71},\n",
       " {'gtfs_id': 'AOUT1842898',\n",
       "  'name': 'Sainte-Rose / Jean-Charles',\n",
       "  'osm_id': '-2744',\n",
       "  'sequence': 72},\n",
       " {'gtfs_id': 'AOUT18CP49063',\n",
       "  'name': 'Gare Sainte-Rose',\n",
       "  'osm_id': '-1405',\n",
       "  'sequence': 73}]"
      ]
     },
     "execution_count": 29,
     "metadata": {},
     "output_type": "execute_result"
    }
   ],
   "source": [
    "longest_route_trips[0]['stops']"
   ]
  },
  {
   "cell_type": "code",
   "execution_count": 31,
   "metadata": {
    "ExecuteTime": {
     "end_time": "2019-01-21T17:30:23.068604Z",
     "start_time": "2019-01-21T17:30:23.063541Z"
    }
   },
   "outputs": [],
   "source": [
    "for route in longest_route_trips:\n",
    "    for stop in route['stops']:\n",
    "        if 'name' not in stop:\n",
    "            print('no name')\n",
    "            print(stop)"
   ]
  },
  {
   "cell_type": "markdown",
   "metadata": {},
   "source": [
    "#### Get the route names and other info"
   ]
  },
  {
   "cell_type": "code",
   "execution_count": 32,
   "metadata": {
    "ExecuteTime": {
     "end_time": "2019-01-21T17:30:48.395326Z",
     "start_time": "2019-01-21T17:30:48.339091Z"
    }
   },
   "outputs": [
    {
     "data": {
      "application/vnd.jupyter.widget-view+json": {
       "model_id": "57c3cb617b3c4fddb0a07677802466b7",
       "version_major": 2,
       "version_minor": 0
      },
      "text/plain": [
       "HBox(children=(IntProgress(value=0, max=178), HTML(value='')))"
      ]
     },
     "metadata": {},
     "output_type": "display_data"
    },
    {
     "name": "stdout",
     "output_type": "stream",
     "text": [
      "\n"
     ]
    }
   ],
   "source": [
    "osm_new_route_id = -10000\n",
    "\n",
    "for i, longest_route in enumerate(tqdm_notebook(longest_route_trips)):\n",
    "    route_id = longest_route['route_id']\n",
    "    route_stops = longest_route['stops']\n",
    "    \n",
    "    first_stop = route_stops[0]['name']\n",
    "    last_stop = route_stops[-1]['name']\n",
    "\n",
    "    loop_route = 'no'\n",
    "\n",
    "    if first_stop == last_stop:\n",
    "        loop_route = 'yes'\n",
    "        print('loop route found')\n",
    "\n",
    "    for route in routes_data:\n",
    "        if route_id == route['route_id']:\n",
    "            osm_new_route_id -= 1\n",
    "            longest_route.update({\n",
    "                \"props\": {\n",
    "                    \"id\": osm_new_route_id\n",
    "                },\n",
    "                \"tags\": {\n",
    "                    \"name\": route['route_long_name'],\n",
    "                    \"ref\": route[\"route_headsign\"],\n",
    "                    \"type\": \"route\",\n",
    "                    \"route\": \"bus\",\n",
    "                    \"network\": \"STL\",\n",
    "                    \"operator\": \"STL\",\n",
    "                    \"from\": first_stop,\n",
    "                    \"to\": last_stop,\n",
    "                    \"round_trip\": loop_route,\n",
    "                    \"public_transport:version\": 2\n",
    "                },\n",
    "                \"master_route_ref\": route['route_short_name']\n",
    "            })"
   ]
  },
  {
   "cell_type": "code",
   "execution_count": 44,
   "metadata": {
    "ExecuteTime": {
     "end_time": "2019-01-21T17:42:31.361479Z",
     "start_time": "2019-01-21T17:42:31.347211Z"
    }
   },
   "outputs": [
    {
     "data": {
      "text/plain": [
       "Counter({'12': 4,\n",
       "         '144': 4,\n",
       "         '151': 4,\n",
       "         '17': 4,\n",
       "         '2': 4,\n",
       "         '20': 4,\n",
       "         '22': 4,\n",
       "         '222': 4,\n",
       "         '24': 4,\n",
       "         '252': 4,\n",
       "         '26': 4,\n",
       "         '27': 4,\n",
       "         '31': 4,\n",
       "         '33': 4,\n",
       "         '36': 4,\n",
       "         '360': 2,\n",
       "         '37': 4,\n",
       "         '39': 4,\n",
       "         '40': 4,\n",
       "         '402': 4,\n",
       "         '404': 2,\n",
       "         '41': 4,\n",
       "         '42': 4,\n",
       "         '43': 4,\n",
       "         '45': 4,\n",
       "         '46': 4,\n",
       "         '48': 4,\n",
       "         '50': 4,\n",
       "         '52': 4,\n",
       "         '55': 4,\n",
       "         '56': 4,\n",
       "         '58': 4,\n",
       "         '60': 4,\n",
       "         '61': 4,\n",
       "         '63': 4,\n",
       "         '65': 4,\n",
       "         '66': 4,\n",
       "         '70': 4,\n",
       "         '73': 4,\n",
       "         '74': 4,\n",
       "         '76': 4,\n",
       "         '901': 4,\n",
       "         '902': 4,\n",
       "         '903': 4,\n",
       "         '925': 4,\n",
       "         '942': 2})"
      ]
     },
     "execution_count": 44,
     "metadata": {},
     "output_type": "execute_result"
    }
   ],
   "source": [
    "# Sometimes the routes file containes unique ids for trimesters\n",
    "\n",
    "route_ref_counter = Counter()\n",
    "\n",
    "for longest_route in longest_route_trips:\n",
    "    route_ref_counter[longest_route['master_route_ref']] += 1\n",
    "\n",
    "route_ref_counter"
   ]
  },
  {
   "cell_type": "code",
   "execution_count": 45,
   "metadata": {
    "ExecuteTime": {
     "end_time": "2019-01-21T17:42:42.069721Z",
     "start_time": "2019-01-21T17:42:42.060167Z"
    }
   },
   "outputs": [
    {
     "data": {
      "text/plain": [
       "46"
      ]
     },
     "execution_count": 45,
     "metadata": {},
     "output_type": "execute_result"
    }
   ],
   "source": [
    "len(route_ref_counter.keys())"
   ]
  },
  {
   "cell_type": "code",
   "execution_count": 46,
   "metadata": {
    "ExecuteTime": {
     "end_time": "2019-01-21T17:42:44.618111Z",
     "start_time": "2019-01-21T17:42:44.610905Z"
    }
   },
   "outputs": [
    {
     "data": {
      "text/plain": [
       "178"
      ]
     },
     "execution_count": 46,
     "metadata": {},
     "output_type": "execute_result"
    }
   ],
   "source": [
    "sum(route_ref_counter.values())"
   ]
  },
  {
   "cell_type": "code",
   "execution_count": 51,
   "metadata": {
    "ExecuteTime": {
     "end_time": "2019-01-21T17:50:28.713982Z",
     "start_time": "2019-01-21T17:50:28.703313Z"
    }
   },
   "outputs": [],
   "source": [
    "# need to reduce to 2 routes per ref max\n",
    "aggregate_longest_routes = defaultdict(list)\n",
    "\n",
    "for longest_route in longest_route_trips:\n",
    "    ref = longest_route['master_route_ref']\n",
    "    aggregate_longest_routes[ref].append(longest_route)"
   ]
  },
  {
   "cell_type": "code",
   "execution_count": 53,
   "metadata": {
    "ExecuteTime": {
     "end_time": "2019-01-21T17:55:26.390981Z",
     "start_time": "2019-01-21T17:55:26.379991Z"
    }
   },
   "outputs": [
    {
     "data": {
      "text/plain": [
       "dict_keys(['66', '65', '50', '22', '55', '52', '20', '58', '41', '222', '43', '36', '31', '404', '2', '73', '26', '40', '12', '151', '39', '144', '903', '360', '37', '942', '27', '63', '56', '17', '901', '60', '45', '42', '33', '46', '24', '74', '70', '902', '48', '252', '925', '76', '402', '61'])"
      ]
     },
     "execution_count": 53,
     "metadata": {},
     "output_type": "execute_result"
    }
   ],
   "source": [
    "aggregate_longest_routes.keys()"
   ]
  },
  {
   "cell_type": "code",
   "execution_count": 111,
   "metadata": {
    "ExecuteTime": {
     "end_time": "2019-01-21T18:59:03.246236Z",
     "start_time": "2019-01-21T18:59:03.229794Z"
    }
   },
   "outputs": [],
   "source": [
    "# for ref, routes in aggregate_longest_routes.items():\n",
    "# #     route_ids = [route['route_id'] for route in routes]\n",
    "# #     print(ref, route_ids)\n",
    "    \n",
    "#     a_routes = []\n",
    "#     j_routes = []\n",
    "    \n",
    "#     for route in routes:\n",
    "#         if route['route_id'].startswith('A'):\n",
    "#             a_routes.append(route)\n",
    "#         else:\n",
    "#             j_routes.append(route)\n",
    "            \n",
    "#     for a_route in a_routes:\n",
    "#         print('a routes:')\n",
    "#         print(len(a_route['stops']))\n",
    "#     for j_route in j_routes:\n",
    "#         print('j routes:')\n",
    "#         print(len(j_route['stops']))\n",
    "\n",
    "\n",
    "# Delete August routes\n",
    "filtered_routes = defaultdict(list)\n",
    "for ref, routes in aggregate_longest_routes.items():\n",
    "    if len(routes) == 4:\n",
    "        for route in routes:\n",
    "            if route['route_id'].startswith('J'):\n",
    "                filtered_routes[ref].append(route)\n",
    "    else:\n",
    "        for route in routes:\n",
    "            filtered_routes[ref].append(route)"
   ]
  },
  {
   "cell_type": "code",
   "execution_count": 112,
   "metadata": {
    "ExecuteTime": {
     "end_time": "2019-01-21T18:59:04.007623Z",
     "start_time": "2019-01-21T18:59:03.996139Z"
    }
   },
   "outputs": [
    {
     "name": "stdout",
     "output_type": "stream",
     "text": [
      "402 2\n",
      "66 2\n",
      "65 2\n",
      "50 2\n",
      "22 2\n",
      "55 2\n",
      "52 2\n",
      "20 2\n",
      "58 2\n",
      "41 2\n",
      "222 2\n",
      "63 2\n",
      "36 2\n",
      "942 2\n",
      "404 2\n",
      "2 2\n",
      "73 2\n",
      "26 2\n",
      "40 2\n",
      "60 2\n",
      "151 2\n",
      "39 2\n",
      "144 2\n",
      "903 2\n",
      "46 2\n",
      "37 2\n",
      "31 2\n",
      "27 2\n",
      "360 2\n",
      "43 2\n",
      "56 2\n",
      "17 2\n",
      "12 2\n",
      "45 2\n",
      "42 2\n",
      "76 2\n",
      "33 2\n",
      "925 2\n",
      "24 2\n",
      "74 2\n",
      "70 2\n",
      "902 2\n",
      "48 2\n",
      "252 2\n",
      "901 2\n",
      "61 2\n",
      "46\n"
     ]
    }
   ],
   "source": [
    "for ref, routes in filtered_routes.items():\n",
    "    print(ref, len(routes))\n",
    "\n",
    "print(len(filtered_routes.keys()))"
   ]
  },
  {
   "cell_type": "code",
   "execution_count": 113,
   "metadata": {
    "ExecuteTime": {
     "end_time": "2019-01-21T18:59:04.763836Z",
     "start_time": "2019-01-21T18:59:04.757765Z"
    }
   },
   "outputs": [],
   "source": [
    "# master_routes = defaultdict(list)\n",
    "\n",
    "# for route in routes_data:\n",
    "#     if route['route_id'].startswith('J'):\n",
    "#         master_routes[route['route_short_name']].append(route)"
   ]
  },
  {
   "cell_type": "code",
   "execution_count": 114,
   "metadata": {
    "ExecuteTime": {
     "end_time": "2019-01-21T18:59:05.524443Z",
     "start_time": "2019-01-21T18:59:05.514106Z"
    }
   },
   "outputs": [],
   "source": [
    "# master_routes"
   ]
  },
  {
   "cell_type": "code",
   "execution_count": 139,
   "metadata": {
    "ExecuteTime": {
     "end_time": "2019-01-21T19:22:37.766245Z",
     "start_time": "2019-01-21T19:22:37.756307Z"
    }
   },
   "outputs": [],
   "source": [
    "route_relations = []\n",
    "route_master_relations = []"
   ]
  },
  {
   "cell_type": "code",
   "execution_count": 140,
   "metadata": {
    "ExecuteTime": {
     "end_time": "2019-01-21T19:22:38.412642Z",
     "start_time": "2019-01-21T19:22:38.401309Z"
    }
   },
   "outputs": [
    {
     "name": "stdout",
     "output_type": "stream",
     "text": [
      "Start and End have same name...\n",
      "Start and End have same name...\n"
     ]
    }
   ],
   "source": [
    "osm_new_master_route_id = -100000\n",
    "\n",
    "for ref, routes in filtered_routes.items():\n",
    "    osm_new_master_route_id -= 1\n",
    "    names = set()\n",
    "    members = []\n",
    "#     route_ids = []\n",
    "    for route in routes:\n",
    "        for gtfs_route in routes_data:\n",
    "            if route['route_id'] == gtfs_route['route_id']:\n",
    "                names.add(gtfs_route['route_long_name'].split('Direction')[1].strip())\n",
    "#                 route_ids.append(route['route_id'])\n",
    "\n",
    "        member = {\n",
    "            \"props\": {\n",
    "                \"type\": 'relation',\n",
    "                \"ref\": route[\"props\"][\"id\"],\n",
    "                \"role\": ''\n",
    "            }\n",
    "        }\n",
    "        members.append(member)\n",
    "\n",
    "    names = list(names)\n",
    "\n",
    "    if len(names) == 2:\n",
    "        name = '{} - {}'.format(names[0], names[1])\n",
    "    elif len(names) == 1:\n",
    "        name = names[0]\n",
    "        print('Start and End have same name...')\n",
    "    else:\n",
    "        print('error')\n",
    "\n",
    "    route_master_relation = {\n",
    "        \"props\": {\n",
    "            \"id\": osm_new_master_route_id\n",
    "        },\n",
    "        \"tags\": {\n",
    "            \"name\": name,\n",
    "            \"ref\": ref,\n",
    "            \"network\": 'STL',\n",
    "            \"operator\": 'STL',\n",
    "            \"type\": \"route_master\",\n",
    "            \"public_transport:version\": 2\n",
    "        },\n",
    "        \"members\": members\n",
    "    }\n",
    "    route_master_relations.append(route_master_relation)"
   ]
  },
  {
   "cell_type": "code",
   "execution_count": 141,
   "metadata": {
    "ExecuteTime": {
     "end_time": "2019-01-21T19:22:39.094783Z",
     "start_time": "2019-01-21T19:22:39.083730Z"
    }
   },
   "outputs": [
    {
     "data": {
      "text/plain": [
       "{'members': [{'props': {'ref': -10107, 'role': '', 'type': 'relation'}},\n",
       "  {'props': {'ref': -10157, 'role': '', 'type': 'relation'}}],\n",
       " 'props': {'id': -100001},\n",
       " 'tags': {'name': 'Gare Sainte-Dorothée - Fabreville',\n",
       "  'network': 'STL',\n",
       "  'operator': 'STL',\n",
       "  'public_transport:version': 2,\n",
       "  'ref': '402',\n",
       "  'type': 'route_master'}}"
      ]
     },
     "execution_count": 141,
     "metadata": {},
     "output_type": "execute_result"
    }
   ],
   "source": [
    "route_master_relations[0]"
   ]
  },
  {
   "cell_type": "code",
   "execution_count": 142,
   "metadata": {
    "ExecuteTime": {
     "end_time": "2019-01-21T19:22:39.653266Z",
     "start_time": "2019-01-21T19:22:39.609012Z"
    }
   },
   "outputs": [
    {
     "data": {
      "text/plain": [
       "[{'master_route_ref': '402',\n",
       "  'props': {'id': -10107},\n",
       "  'route_id': 'JUIN18402O',\n",
       "  'stops': [{'gtfs_id': 'JUIN18CP42981',\n",
       "    'name': 'Sainte-Rose / Face Au 3261',\n",
       "    'osm_id': '-2264',\n",
       "    'sequence': 1},\n",
       "   {'gtfs_id': 'JUIN1842979',\n",
       "    'name': 'Sainte-Rose / Face Au Kiosque Des Ancètres',\n",
       "    'osm_id': '-340',\n",
       "    'sequence': 2},\n",
       "   {'gtfs_id': 'JUIN1842977',\n",
       "    'name': 'Sainte-Rose / Vauquelin',\n",
       "    'osm_id': '-1190',\n",
       "    'sequence': 3},\n",
       "   {'gtfs_id': 'JUIN1842974',\n",
       "    'name': 'Sainte-Rose / De Saint-Sébastien',\n",
       "    'osm_id': '-923',\n",
       "    'sequence': 4},\n",
       "   {'gtfs_id': 'JUIN1842972',\n",
       "    'name': 'Sainte-Rose / Mattawa',\n",
       "    'osm_id': '-1887',\n",
       "    'sequence': 5},\n",
       "   {'gtfs_id': 'JUIN1842970',\n",
       "    'name': \"Sainte-Rose / Face à L'école Poly-Jeunesse\",\n",
       "    'osm_id': '-794',\n",
       "    'sequence': 6},\n",
       "   {'gtfs_id': 'JUIN18CP42968',\n",
       "    'name': 'Sainte-Rose / Montée Montrougeau',\n",
       "    'osm_id': '-1901',\n",
       "    'sequence': 7},\n",
       "   {'gtfs_id': 'JUIN1842966',\n",
       "    'name': 'Sainte-Rose / Lisette',\n",
       "    'osm_id': '-1203',\n",
       "    'sequence': 8},\n",
       "   {'gtfs_id': 'JUIN1842963',\n",
       "    'name': 'Sainte-Rose / De Caracas',\n",
       "    'osm_id': '-1360',\n",
       "    'sequence': 9},\n",
       "   {'gtfs_id': 'JUIN1842961',\n",
       "    'name': \"Sainte-Rose / D'odessa\",\n",
       "    'osm_id': '-1966',\n",
       "    'sequence': 10},\n",
       "   {'gtfs_id': 'JUIN1842959',\n",
       "    'name': 'Sainte-Rose / De Bordeaux',\n",
       "    'osm_id': '-2386',\n",
       "    'sequence': 11},\n",
       "   {'gtfs_id': 'JUIN1842957',\n",
       "    'name': 'Sainte-Rose / Odile',\n",
       "    'osm_id': '-964',\n",
       "    'sequence': 12},\n",
       "   {'gtfs_id': 'JUIN18CP42955',\n",
       "    'name': 'Sainte-Rose / Montée Sauriol',\n",
       "    'osm_id': '-1853',\n",
       "    'sequence': 13},\n",
       "   {'gtfs_id': 'JUIN1842952',\n",
       "    'name': 'Sainte-Rose / 40e Avenue',\n",
       "    'osm_id': '-2241',\n",
       "    'sequence': 14},\n",
       "   {'gtfs_id': 'JUIN1842949',\n",
       "    'name': 'Sainte-Rose / Face Au 4199',\n",
       "    'osm_id': '-1286',\n",
       "    'sequence': 15},\n",
       "   {'gtfs_id': 'JUIN1842948',\n",
       "    'name': 'Sainte-Rose / Cousteau',\n",
       "    'osm_id': '-753',\n",
       "    'sequence': 16},\n",
       "   {'gtfs_id': 'JUIN1846325',\n",
       "    'name': 'Sainte-Rose / Stéphanie',\n",
       "    'osm_id': '-1367',\n",
       "    'sequence': 17},\n",
       "   {'gtfs_id': 'JUIN1842946',\n",
       "    'name': 'Sainte-Rose / 30e Avenue',\n",
       "    'osm_id': '-1240',\n",
       "    'sequence': 18},\n",
       "   {'gtfs_id': 'JUIN1842944',\n",
       "    'name': 'Sainte-Rose / Bellemare',\n",
       "    'osm_id': '-2510',\n",
       "    'sequence': 19},\n",
       "   {'gtfs_id': 'JUIN1842942',\n",
       "    'name': 'Sainte-Rose / Laberge',\n",
       "    'osm_id': '-356',\n",
       "    'sequence': 20},\n",
       "   {'gtfs_id': 'JUIN1842939',\n",
       "    'name': 'Sainte-Rose / 22e Avenue',\n",
       "    'osm_id': '-849',\n",
       "    'sequence': 21},\n",
       "   {'gtfs_id': 'JUIN1842937',\n",
       "    'name': 'Sainte-Rose / 18e Avenue',\n",
       "    'osm_id': '-17',\n",
       "    'sequence': 22},\n",
       "   {'gtfs_id': 'JUIN1846604',\n",
       "    'name': 'Sainte-Rose / 15e Avenue',\n",
       "    'osm_id': '-144',\n",
       "    'sequence': 23},\n",
       "   {'gtfs_id': 'JUIN1842935',\n",
       "    'name': 'Sainte-Rose / 14e Avenue',\n",
       "    'osm_id': '-2434',\n",
       "    'sequence': 24},\n",
       "   {'gtfs_id': 'JUIN1842933',\n",
       "    'name': 'Sainte-Rose / 10e Avenue',\n",
       "    'osm_id': '-1759',\n",
       "    'sequence': 25},\n",
       "   {'gtfs_id': 'JUIN1842930',\n",
       "    'name': 'Sainte-Rose / 8e Avenue',\n",
       "    'osm_id': '-237',\n",
       "    'sequence': 26},\n",
       "   {'gtfs_id': 'JUIN1842928',\n",
       "    'name': 'Sainte-Rose / 4e Avenue',\n",
       "    'osm_id': '-1231',\n",
       "    'sequence': 27},\n",
       "   {'gtfs_id': 'JUIN1842926',\n",
       "    'name': 'Sainte-Rose / 2e Avenue',\n",
       "    'osm_id': '-2203',\n",
       "    'sequence': 28},\n",
       "   {'gtfs_id': 'JUIN1842924',\n",
       "    'name': 'Sainte-Rose / 55e Avenue',\n",
       "    'osm_id': '-1315',\n",
       "    'sequence': 29},\n",
       "   {'gtfs_id': 'JUIN1842922',\n",
       "    'name': 'Sainte-Rose / 51e Avenue',\n",
       "    'osm_id': '-636',\n",
       "    'sequence': 30},\n",
       "   {'gtfs_id': 'JUIN18CP42919',\n",
       "    'name': 'Sainte-Rose / Arthur-Sauvé',\n",
       "    'osm_id': '-200',\n",
       "    'sequence': 31},\n",
       "   {'gtfs_id': 'JUIN1842917',\n",
       "    'name': 'Sainte-Rose / 41e Avenue',\n",
       "    'osm_id': '-1032',\n",
       "    'sequence': 32},\n",
       "   {'gtfs_id': 'JUIN1842915',\n",
       "    'name': 'Sainte-Rose / 37e Avenue',\n",
       "    'osm_id': '-2202',\n",
       "    'sequence': 33},\n",
       "   {'gtfs_id': 'JUIN1842913',\n",
       "    'name': 'Sainte-Rose / 28e Rue',\n",
       "    'osm_id': '-2248',\n",
       "    'sequence': 34},\n",
       "   {'gtfs_id': 'JUIN1842896',\n",
       "    'name': 'Sainte-Rose / 27e Avenue',\n",
       "    'osm_id': '-489',\n",
       "    'sequence': 35},\n",
       "   {'gtfs_id': 'JUIN1842997',\n",
       "    'name': 'Sainte-Rose / 21e Avenue',\n",
       "    'osm_id': '-168',\n",
       "    'sequence': 36},\n",
       "   {'gtfs_id': 'JUIN1842975',\n",
       "    'name': 'Sainte-Rose / 17e Avenue',\n",
       "    'osm_id': '-792',\n",
       "    'sequence': 37},\n",
       "   {'gtfs_id': 'JUIN1842953',\n",
       "    'name': 'Sainte-Rose / 13e Avenue',\n",
       "    'osm_id': '-1613',\n",
       "    'sequence': 38},\n",
       "   {'gtfs_id': 'JUIN1842931',\n",
       "    'name': 'Sainte-Rose / 7e Avenue',\n",
       "    'osm_id': '-688',\n",
       "    'sequence': 39},\n",
       "   {'gtfs_id': 'JUIN18CP42884',\n",
       "    'name': 'Sainte-Rose / 3e Avenue',\n",
       "    'osm_id': '-578',\n",
       "    'sequence': 40},\n",
       "   {'gtfs_id': 'JUIN1846290',\n",
       "    'name': 'Saint-Antoine / 3e Avenue',\n",
       "    'osm_id': '-1043',\n",
       "    'sequence': 41},\n",
       "   {'gtfs_id': 'JUIN1846291',\n",
       "    'name': 'Saint-Antoine / Marie-Le Franc',\n",
       "    'osm_id': '-607',\n",
       "    'sequence': 42},\n",
       "   {'gtfs_id': 'JUIN1846292',\n",
       "    'name': 'Saint-Antoine / André-Maurois',\n",
       "    'osm_id': '-1248',\n",
       "    'sequence': 43},\n",
       "   {'gtfs_id': 'JUIN1846293',\n",
       "    'name': 'Saint-Antoine / Parc Laval-Ouest',\n",
       "    'osm_id': '-96',\n",
       "    'sequence': 44},\n",
       "   {'gtfs_id': 'JUIN1846294',\n",
       "    'name': 'Saint-Antoine / Face Au 3155',\n",
       "    'osm_id': '-1647',\n",
       "    'sequence': 45},\n",
       "   {'gtfs_id': 'JUIN1846295',\n",
       "    'name': 'Saint-Antoine / Fernando-Pessoa',\n",
       "    'osm_id': '-1341',\n",
       "    'sequence': 46},\n",
       "   {'gtfs_id': 'JUIN1846296',\n",
       "    'name': 'Saint-Antoine / Arthur-Sauvé',\n",
       "    'osm_id': '-2570',\n",
       "    'sequence': 47},\n",
       "   {'gtfs_id': 'JUIN18CP46297',\n",
       "    'name': 'Jolibourg / Matane',\n",
       "    'osm_id': '-1149',\n",
       "    'sequence': 48},\n",
       "   {'gtfs_id': 'JUIN1846298',\n",
       "    'name': 'Jolibourg / Matane',\n",
       "    'osm_id': '-2355',\n",
       "    'sequence': 49},\n",
       "   {'gtfs_id': 'JUIN1846299',\n",
       "    'name': 'Jolibourg / De Val-Brillant',\n",
       "    'osm_id': '-527',\n",
       "    'sequence': 50},\n",
       "   {'gtfs_id': 'JUIN1841788',\n",
       "    'name': 'Jolibourg / Du Relais',\n",
       "    'osm_id': '-991',\n",
       "    'sequence': 51},\n",
       "   {'gtfs_id': 'JUIN1841783',\n",
       "    'name': 'Jolibourg / Saint-Denis',\n",
       "    'osm_id': '-2066',\n",
       "    'sequence': 52},\n",
       "   {'gtfs_id': 'JUIN1841786',\n",
       "    'name': \"Jolibourg / Du Bord-De-L'eau\",\n",
       "    'osm_id': '-1224',\n",
       "    'sequence': 53},\n",
       "   {'gtfs_id': 'JUIN1841201',\n",
       "    'name': \"Du Bord-De-L'eau / Dupont\",\n",
       "    'osm_id': '-2534',\n",
       "    'sequence': 54},\n",
       "   {'gtfs_id': 'JUIN1843263',\n",
       "    'name': \"Du Bord-De-L'eau / Du Relais\",\n",
       "    'osm_id': '-1127',\n",
       "    'sequence': 55},\n",
       "   {'gtfs_id': 'JUIN1841195',\n",
       "    'name': \"Du Bord-De-L'eau / Face Au 1368\",\n",
       "    'osm_id': '-2165',\n",
       "    'sequence': 56},\n",
       "   {'gtfs_id': 'JUIN18CP49402',\n",
       "    'name': 'Gare Sainte-Dorothée',\n",
       "    'osm_id': '-2296',\n",
       "    'sequence': 57}],\n",
       "  'stops_count': 57,\n",
       "  'tags': {'from': 'Sainte-Rose / Face Au 3261',\n",
       "   'name': 'Direction Gare Sainte-Dorothée',\n",
       "   'network': 'STL',\n",
       "   'operator': 'STL',\n",
       "   'public_transport:version': 2,\n",
       "   'ref': 'SteDorothée',\n",
       "   'round_trip': 'no',\n",
       "   'route': 'bus',\n",
       "   'to': 'Gare Sainte-Dorothée',\n",
       "   'type': 'route'},\n",
       "  'trip_id': 'JUIN18402O2L7507350008'},\n",
       " {'master_route_ref': '402',\n",
       "  'props': {'id': -10157},\n",
       "  'route_id': 'JUIN18402E',\n",
       "  'stops': [{'gtfs_id': 'JUIN18CP41198',\n",
       "    'name': 'Gare Sainte-Dorothée',\n",
       "    'osm_id': '-1903',\n",
       "    'sequence': 1},\n",
       "   {'gtfs_id': 'JUIN1841197',\n",
       "    'name': \"Du Bord-De-L'eau / Face Au 1368\",\n",
       "    'osm_id': '-988',\n",
       "    'sequence': 2},\n",
       "   {'gtfs_id': 'JUIN1843260',\n",
       "    'name': \"Du Bord-De-L'eau / Du Relais\",\n",
       "    'osm_id': '-1478',\n",
       "    'sequence': 3},\n",
       "   {'gtfs_id': 'JUIN1841190',\n",
       "    'name': \"Du Bord-De-L'eau / Dupont\",\n",
       "    'osm_id': '-1550',\n",
       "    'sequence': 4},\n",
       "   {'gtfs_id': 'JUIN1846280',\n",
       "    'name': \"Jolibourg / Du Bord-De-L'eau\",\n",
       "    'osm_id': '-1509',\n",
       "    'sequence': 5},\n",
       "   {'gtfs_id': 'JUIN1841784',\n",
       "    'name': \"Jolibourg / De Val-D'espoir\",\n",
       "    'osm_id': '-1200',\n",
       "    'sequence': 6},\n",
       "   {'gtfs_id': 'JUIN1841785',\n",
       "    'name': \"Jolibourg / De Val-D'espoir\",\n",
       "    'osm_id': '-1516',\n",
       "    'sequence': 7},\n",
       "   {'gtfs_id': 'JUIN1841787',\n",
       "    'name': 'Jolibourg / De Val-Brillant',\n",
       "    'osm_id': '-935',\n",
       "    'sequence': 8},\n",
       "   {'gtfs_id': 'JUIN1846281',\n",
       "    'name': 'Jolibourg / Matane',\n",
       "    'osm_id': '-1569',\n",
       "    'sequence': 9},\n",
       "   {'gtfs_id': 'JUIN18CP46282',\n",
       "    'name': 'Jolibourg / Matane',\n",
       "    'osm_id': '-2354',\n",
       "    'sequence': 10},\n",
       "   {'gtfs_id': 'JUIN1846283',\n",
       "    'name': 'Saint-Antoine / Arthur-Sauvé',\n",
       "    'osm_id': '-937',\n",
       "    'sequence': 11},\n",
       "   {'gtfs_id': 'JUIN1846284',\n",
       "    'name': 'Saint-Antoine / Fernando-Pessoa',\n",
       "    'osm_id': '-2718',\n",
       "    'sequence': 12},\n",
       "   {'gtfs_id': 'JUIN1846285',\n",
       "    'name': 'Saint-Antoine / Fernando-Pessoa',\n",
       "    'osm_id': '-580',\n",
       "    'sequence': 13},\n",
       "   {'gtfs_id': 'JUIN1846286',\n",
       "    'name': 'Saint-Antoine / Face Au Parc Laval-Ouest',\n",
       "    'osm_id': '-1336',\n",
       "    'sequence': 14},\n",
       "   {'gtfs_id': 'JUIN1846287',\n",
       "    'name': 'Saint-Antoine / 17e Avenue',\n",
       "    'osm_id': '-1034',\n",
       "    'sequence': 15},\n",
       "   {'gtfs_id': 'JUIN1846288',\n",
       "    'name': 'Saint-Antoine / Marie-Le Franc',\n",
       "    'osm_id': '-1073',\n",
       "    'sequence': 16},\n",
       "   {'gtfs_id': 'JUIN1846289',\n",
       "    'name': 'Saint-Antoine / 3e Avenue',\n",
       "    'osm_id': '-341',\n",
       "    'sequence': 17},\n",
       "   {'gtfs_id': 'JUIN18CP42920',\n",
       "    'name': 'Sainte-Rose / 3e Avenue',\n",
       "    'osm_id': '-462',\n",
       "    'sequence': 18},\n",
       "   {'gtfs_id': 'JUIN1842940',\n",
       "    'name': 'Sainte-Rose / 7e Avenue',\n",
       "    'osm_id': '-1171',\n",
       "    'sequence': 19},\n",
       "   {'gtfs_id': 'JUIN1842964',\n",
       "    'name': 'Sainte-Rose / 13e Avenue',\n",
       "    'osm_id': '-2118',\n",
       "    'sequence': 20},\n",
       "   {'gtfs_id': 'JUIN1842987',\n",
       "    'name': 'Sainte-Rose / 17e Avenue',\n",
       "    'osm_id': '-1997',\n",
       "    'sequence': 21},\n",
       "   {'gtfs_id': 'JUIN1842885',\n",
       "    'name': 'Sainte-Rose / 21e Avenue',\n",
       "    'osm_id': '-1460',\n",
       "    'sequence': 22},\n",
       "   {'gtfs_id': 'JUIN1842908',\n",
       "    'name': 'Sainte-Rose / 27e Avenue',\n",
       "    'osm_id': '-550',\n",
       "    'sequence': 23},\n",
       "   {'gtfs_id': 'JUIN1842914',\n",
       "    'name': 'Sainte-Rose / 31e Avenue',\n",
       "    'osm_id': '-570',\n",
       "    'sequence': 24},\n",
       "   {'gtfs_id': 'JUIN1842916',\n",
       "    'name': 'Sainte-Rose / 24e Rue',\n",
       "    'osm_id': '-2273',\n",
       "    'sequence': 25},\n",
       "   {'gtfs_id': 'JUIN1842918',\n",
       "    'name': 'Sainte-Rose / 41e Avenue',\n",
       "    'osm_id': '-971',\n",
       "    'sequence': 26},\n",
       "   {'gtfs_id': 'JUIN18CP42921',\n",
       "    'name': 'Sainte-Rose / Arthur-Sauvé',\n",
       "    'osm_id': '-1979',\n",
       "    'sequence': 27},\n",
       "   {'gtfs_id': 'JUIN1842923',\n",
       "    'name': 'Sainte-Rose / 51e Avenue',\n",
       "    'osm_id': '-2457',\n",
       "    'sequence': 28},\n",
       "   {'gtfs_id': 'JUIN1842925',\n",
       "    'name': 'Sainte-Rose / 55e Avenue',\n",
       "    'osm_id': '-582',\n",
       "    'sequence': 29},\n",
       "   {'gtfs_id': 'JUIN1842927',\n",
       "    'name': 'Sainte-Rose / 2e Avenue',\n",
       "    'osm_id': '-485',\n",
       "    'sequence': 30},\n",
       "   {'gtfs_id': 'JUIN1842929',\n",
       "    'name': 'Sainte-Rose / 4e Avenue',\n",
       "    'osm_id': '-1614',\n",
       "    'sequence': 31},\n",
       "   {'gtfs_id': 'JUIN1842932',\n",
       "    'name': 'Sainte-Rose / 8e Avenue',\n",
       "    'osm_id': '-2762',\n",
       "    'sequence': 32},\n",
       "   {'gtfs_id': 'JUIN1842934',\n",
       "    'name': 'Sainte-Rose / 10e Avenue',\n",
       "    'osm_id': '-452',\n",
       "    'sequence': 33},\n",
       "   {'gtfs_id': 'JUIN1842936',\n",
       "    'name': 'Sainte-Rose / 14e Avenue',\n",
       "    'osm_id': '-1852',\n",
       "    'sequence': 34},\n",
       "   {'gtfs_id': 'JUIN1846605',\n",
       "    'name': 'Sainte-Rose / 15e Avenue',\n",
       "    'osm_id': '-277',\n",
       "    'sequence': 35},\n",
       "   {'gtfs_id': 'JUIN1842938',\n",
       "    'name': 'Sainte-Rose / 18e Avenue',\n",
       "    'osm_id': '-435',\n",
       "    'sequence': 36},\n",
       "   {'gtfs_id': 'JUIN1842941',\n",
       "    'name': 'Sainte-Rose / 22e Avenue',\n",
       "    'osm_id': '-1355',\n",
       "    'sequence': 37},\n",
       "   {'gtfs_id': 'JUIN1842943',\n",
       "    'name': 'Sainte-Rose / éluard',\n",
       "    'osm_id': '-777',\n",
       "    'sequence': 38},\n",
       "   {'gtfs_id': 'JUIN1842945',\n",
       "    'name': 'Sainte-Rose / Bellemare',\n",
       "    'osm_id': '-2094',\n",
       "    'sequence': 39},\n",
       "   {'gtfs_id': 'JUIN1842947',\n",
       "    'name': 'Sainte-Rose / 30e Avenue',\n",
       "    'osm_id': '-2706',\n",
       "    'sequence': 40},\n",
       "   {'gtfs_id': 'JUIN1845036',\n",
       "    'name': 'Sainte-Rose / Stéphanie',\n",
       "    'osm_id': '-1160',\n",
       "    'sequence': 41},\n",
       "   {'gtfs_id': 'JUIN1842950',\n",
       "    'name': 'Sainte-Rose / Rosaire',\n",
       "    'osm_id': '-2750',\n",
       "    'sequence': 42},\n",
       "   {'gtfs_id': 'JUIN1842951',\n",
       "    'name': 'Sainte-Rose / Face Au 4200',\n",
       "    'osm_id': '-2432',\n",
       "    'sequence': 43},\n",
       "   {'gtfs_id': 'JUIN1842954',\n",
       "    'name': 'Sainte-Rose / 40e Avenue',\n",
       "    'osm_id': '-2107',\n",
       "    'sequence': 44},\n",
       "   {'gtfs_id': 'JUIN18CP42956',\n",
       "    'name': 'Sainte-Rose / Montée Sauriol',\n",
       "    'osm_id': '-1864',\n",
       "    'sequence': 45},\n",
       "   {'gtfs_id': 'JUIN1842958',\n",
       "    'name': 'Sainte-Rose / Odile',\n",
       "    'osm_id': '-1247',\n",
       "    'sequence': 46},\n",
       "   {'gtfs_id': 'JUIN1842960',\n",
       "    'name': 'Sainte-Rose / De Bordeaux',\n",
       "    'osm_id': '-721',\n",
       "    'sequence': 47},\n",
       "   {'gtfs_id': 'JUIN1843982',\n",
       "    'name': 'Sainte-Rose / Bretigny',\n",
       "    'osm_id': '-1145',\n",
       "    'sequence': 48},\n",
       "   {'gtfs_id': 'JUIN1842962',\n",
       "    'name': 'Sainte-Rose / Marian',\n",
       "    'osm_id': '-1818',\n",
       "    'sequence': 49},\n",
       "   {'gtfs_id': 'JUIN1842965',\n",
       "    'name': 'Sainte-Rose / De Caracas',\n",
       "    'osm_id': '-217',\n",
       "    'sequence': 50},\n",
       "   {'gtfs_id': 'JUIN1842967',\n",
       "    'name': 'Sainte-Rose / Lisette',\n",
       "    'osm_id': '-1188',\n",
       "    'sequence': 51},\n",
       "   {'gtfs_id': 'JUIN18CP42969',\n",
       "    'name': 'Sainte-Rose / Montée Montrougeau',\n",
       "    'osm_id': '-371',\n",
       "    'sequence': 52},\n",
       "   {'gtfs_id': 'JUIN1842971',\n",
       "    'name': \"Sainte-Rose / Face à L'école Poly-Jeunesse\",\n",
       "    'osm_id': '-1769',\n",
       "    'sequence': 53},\n",
       "   {'gtfs_id': 'JUIN1842973',\n",
       "    'name': 'Sainte-Rose / De Gênes',\n",
       "    'osm_id': '-1983',\n",
       "    'sequence': 54},\n",
       "   {'gtfs_id': 'JUIN1842976',\n",
       "    'name': 'Sainte-Rose / De Saint-Sébastien',\n",
       "    'osm_id': '-297',\n",
       "    'sequence': 55},\n",
       "   {'gtfs_id': 'JUIN1842978',\n",
       "    'name': 'Sainte-Rose / Vauquelin',\n",
       "    'osm_id': '-856',\n",
       "    'sequence': 56},\n",
       "   {'gtfs_id': 'JUIN1842980',\n",
       "    'name': 'Sainte-Rose / Kiosque Des Ancètres',\n",
       "    'osm_id': '-267',\n",
       "    'sequence': 57},\n",
       "   {'gtfs_id': 'JUIN18CP42982',\n",
       "    'name': 'Sainte-Rose / Autoroute 15',\n",
       "    'osm_id': '-1942',\n",
       "    'sequence': 58}],\n",
       "  'stops_count': 58,\n",
       "  'tags': {'from': 'Gare Sainte-Dorothée',\n",
       "   'name': 'Direction Fabreville',\n",
       "   'network': 'STL',\n",
       "   'operator': 'STL',\n",
       "   'public_transport:version': 2,\n",
       "   'ref': 'Fabreville',\n",
       "   'round_trip': 'no',\n",
       "   'route': 'bus',\n",
       "   'to': 'Sainte-Rose / Autoroute 15',\n",
       "   'type': 'route'},\n",
       "  'trip_id': 'JUIN18402E1L25418200007'}]"
      ]
     },
     "execution_count": 142,
     "metadata": {},
     "output_type": "execute_result"
    }
   ],
   "source": [
    "filtered_routes['402']"
   ]
  },
  {
   "cell_type": "code",
   "execution_count": 143,
   "metadata": {
    "ExecuteTime": {
     "end_time": "2019-01-21T19:22:40.177244Z",
     "start_time": "2019-01-21T19:22:40.161901Z"
    }
   },
   "outputs": [],
   "source": [
    "for ref, routes in filtered_routes.items():\n",
    "    for route in routes:\n",
    "        members = []\n",
    "        \n",
    "        stops = route['stops']        \n",
    "        stops.sort(key=itemgetter('sequence'))\n",
    "        \n",
    "        for stop in stops:\n",
    "            member = {\n",
    "                \"props\": {\n",
    "                    \"ref\": stop['osm_id'],\n",
    "                    \"type\": \"node\",\n",
    "                    \"role\": \"platform\"\n",
    "                }\n",
    "            }\n",
    "            members.append(member)\n",
    "            \n",
    "        route_relation = {\n",
    "            \"props\": {\n",
    "                \"id\": route['props']['id']\n",
    "            },\n",
    "            \"tags\": route['tags'],\n",
    "            \"members\": members\n",
    "        }\n",
    "        route_relations.append(route_relation)"
   ]
  },
  {
   "cell_type": "code",
   "execution_count": 144,
   "metadata": {
    "ExecuteTime": {
     "end_time": "2019-01-21T19:22:40.879806Z",
     "start_time": "2019-01-21T19:22:40.861986Z"
    }
   },
   "outputs": [
    {
     "data": {
      "text/plain": [
       "{'members': [{'props': {'ref': '-2264', 'role': 'platform', 'type': 'node'}},\n",
       "  {'props': {'ref': '-340', 'role': 'platform', 'type': 'node'}},\n",
       "  {'props': {'ref': '-1190', 'role': 'platform', 'type': 'node'}},\n",
       "  {'props': {'ref': '-923', 'role': 'platform', 'type': 'node'}},\n",
       "  {'props': {'ref': '-1887', 'role': 'platform', 'type': 'node'}},\n",
       "  {'props': {'ref': '-794', 'role': 'platform', 'type': 'node'}},\n",
       "  {'props': {'ref': '-1901', 'role': 'platform', 'type': 'node'}},\n",
       "  {'props': {'ref': '-1203', 'role': 'platform', 'type': 'node'}},\n",
       "  {'props': {'ref': '-1360', 'role': 'platform', 'type': 'node'}},\n",
       "  {'props': {'ref': '-1966', 'role': 'platform', 'type': 'node'}},\n",
       "  {'props': {'ref': '-2386', 'role': 'platform', 'type': 'node'}},\n",
       "  {'props': {'ref': '-964', 'role': 'platform', 'type': 'node'}},\n",
       "  {'props': {'ref': '-1853', 'role': 'platform', 'type': 'node'}},\n",
       "  {'props': {'ref': '-2241', 'role': 'platform', 'type': 'node'}},\n",
       "  {'props': {'ref': '-1286', 'role': 'platform', 'type': 'node'}},\n",
       "  {'props': {'ref': '-753', 'role': 'platform', 'type': 'node'}},\n",
       "  {'props': {'ref': '-1367', 'role': 'platform', 'type': 'node'}},\n",
       "  {'props': {'ref': '-1240', 'role': 'platform', 'type': 'node'}},\n",
       "  {'props': {'ref': '-2510', 'role': 'platform', 'type': 'node'}},\n",
       "  {'props': {'ref': '-356', 'role': 'platform', 'type': 'node'}},\n",
       "  {'props': {'ref': '-849', 'role': 'platform', 'type': 'node'}},\n",
       "  {'props': {'ref': '-17', 'role': 'platform', 'type': 'node'}},\n",
       "  {'props': {'ref': '-144', 'role': 'platform', 'type': 'node'}},\n",
       "  {'props': {'ref': '-2434', 'role': 'platform', 'type': 'node'}},\n",
       "  {'props': {'ref': '-1759', 'role': 'platform', 'type': 'node'}},\n",
       "  {'props': {'ref': '-237', 'role': 'platform', 'type': 'node'}},\n",
       "  {'props': {'ref': '-1231', 'role': 'platform', 'type': 'node'}},\n",
       "  {'props': {'ref': '-2203', 'role': 'platform', 'type': 'node'}},\n",
       "  {'props': {'ref': '-1315', 'role': 'platform', 'type': 'node'}},\n",
       "  {'props': {'ref': '-636', 'role': 'platform', 'type': 'node'}},\n",
       "  {'props': {'ref': '-200', 'role': 'platform', 'type': 'node'}},\n",
       "  {'props': {'ref': '-1032', 'role': 'platform', 'type': 'node'}},\n",
       "  {'props': {'ref': '-2202', 'role': 'platform', 'type': 'node'}},\n",
       "  {'props': {'ref': '-2248', 'role': 'platform', 'type': 'node'}},\n",
       "  {'props': {'ref': '-489', 'role': 'platform', 'type': 'node'}},\n",
       "  {'props': {'ref': '-168', 'role': 'platform', 'type': 'node'}},\n",
       "  {'props': {'ref': '-792', 'role': 'platform', 'type': 'node'}},\n",
       "  {'props': {'ref': '-1613', 'role': 'platform', 'type': 'node'}},\n",
       "  {'props': {'ref': '-688', 'role': 'platform', 'type': 'node'}},\n",
       "  {'props': {'ref': '-578', 'role': 'platform', 'type': 'node'}},\n",
       "  {'props': {'ref': '-1043', 'role': 'platform', 'type': 'node'}},\n",
       "  {'props': {'ref': '-607', 'role': 'platform', 'type': 'node'}},\n",
       "  {'props': {'ref': '-1248', 'role': 'platform', 'type': 'node'}},\n",
       "  {'props': {'ref': '-96', 'role': 'platform', 'type': 'node'}},\n",
       "  {'props': {'ref': '-1647', 'role': 'platform', 'type': 'node'}},\n",
       "  {'props': {'ref': '-1341', 'role': 'platform', 'type': 'node'}},\n",
       "  {'props': {'ref': '-2570', 'role': 'platform', 'type': 'node'}},\n",
       "  {'props': {'ref': '-1149', 'role': 'platform', 'type': 'node'}},\n",
       "  {'props': {'ref': '-2355', 'role': 'platform', 'type': 'node'}},\n",
       "  {'props': {'ref': '-527', 'role': 'platform', 'type': 'node'}},\n",
       "  {'props': {'ref': '-991', 'role': 'platform', 'type': 'node'}},\n",
       "  {'props': {'ref': '-2066', 'role': 'platform', 'type': 'node'}},\n",
       "  {'props': {'ref': '-1224', 'role': 'platform', 'type': 'node'}},\n",
       "  {'props': {'ref': '-2534', 'role': 'platform', 'type': 'node'}},\n",
       "  {'props': {'ref': '-1127', 'role': 'platform', 'type': 'node'}},\n",
       "  {'props': {'ref': '-2165', 'role': 'platform', 'type': 'node'}},\n",
       "  {'props': {'ref': '-2296', 'role': 'platform', 'type': 'node'}}],\n",
       " 'props': {'id': -10107},\n",
       " 'tags': {'from': 'Sainte-Rose / Face Au 3261',\n",
       "  'name': 'Direction Gare Sainte-Dorothée',\n",
       "  'network': 'STL',\n",
       "  'operator': 'STL',\n",
       "  'public_transport:version': 2,\n",
       "  'ref': 'SteDorothée',\n",
       "  'round_trip': 'no',\n",
       "  'route': 'bus',\n",
       "  'to': 'Gare Sainte-Dorothée',\n",
       "  'type': 'route'}}"
      ]
     },
     "execution_count": 144,
     "metadata": {},
     "output_type": "execute_result"
    }
   ],
   "source": [
    "route_relations[0]"
   ]
  },
  {
   "cell_type": "markdown",
   "metadata": {},
   "source": [
    "### Write JOSM files"
   ]
  },
  {
   "cell_type": "code",
   "execution_count": 146,
   "metadata": {
    "ExecuteTime": {
     "end_time": "2019-01-21T19:39:21.593610Z",
     "start_time": "2019-01-21T19:39:21.310637Z"
    }
   },
   "outputs": [],
   "source": [
    "output_file = os.path.join(output_dir, 'gtfs_laval.xml')\n",
    "\n",
    "if os.path.exists(output_file):\n",
    "    os.remove(output_file)\n",
    "\n",
    "root = ET.Element(\"osm\")\n",
    "root.set('version', '0.6')\n",
    "\n",
    "min_lon, max_lon, min_lat, max_lat = multi_point.GetEnvelope()\n",
    "\n",
    "bounds = ET.SubElement(root, 'bounds')\n",
    "bounds.set('minlat', str(min_lat))\n",
    "bounds.set('minlon', str(min_lon))\n",
    "bounds.set('maxlat', str(max_lat))\n",
    "bounds.set('maxlon', str(max_lon))\n",
    "\n",
    "for stop in unique_stops:\n",
    "    node = ET.SubElement(root, 'node')\n",
    "    node.set('version', '1')\n",
    "    \n",
    "    for key, value in stop.items():\n",
    "        if key == 'tags':\n",
    "            for k, v in stop['tags'].items():\n",
    "                tag = ET.SubElement(node, 'tag')\n",
    "                tag.set('k', str(k))\n",
    "                tag.set('v', str(v))\n",
    "        if key == 'props':\n",
    "            for k, v in stop['props'].items():\n",
    "                node.set(k, v)\n",
    "                \n",
    "for route_relation in route_relations:\n",
    "    relation = ET.SubElement(root, 'relation')\n",
    "    relation.set('version', '1')\n",
    "    \n",
    "    for key, value in route_relation.items():\n",
    "        if key == 'tags':\n",
    "            for k, v in route_relation['tags'].items():\n",
    "                tag = ET.SubElement(relation, 'tag')\n",
    "                tag.set('k', str(k))\n",
    "                tag.set('v', str(v))\n",
    "        if key == 'props':\n",
    "            for k, v in route_relation['props'].items():\n",
    "                relation.set(k, str(v))\n",
    "        if key == 'members':\n",
    "            for member in route_relation['members']:\n",
    "                mem = ET.SubElement(relation, 'member')\n",
    "                \n",
    "                for key, value in member.items():\n",
    "                    if key == 'props':\n",
    "                        for k, v in member['props'].items():\n",
    "                            mem.set(k, v)\n",
    "                            \n",
    "tree = ET.ElementTree(root)\n",
    "tree.write(output_file, encoding='unicode')"
   ]
  },
  {
   "cell_type": "code",
   "execution_count": null,
   "metadata": {},
   "outputs": [],
   "source": []
  }
 ],
 "metadata": {
  "kernelspec": {
   "display_name": "Python 3",
   "language": "python",
   "name": "python3"
  },
  "language_info": {
   "codemirror_mode": {
    "name": "ipython",
    "version": 3
   },
   "file_extension": ".py",
   "mimetype": "text/x-python",
   "name": "python",
   "nbconvert_exporter": "python",
   "pygments_lexer": "ipython3",
   "version": "3.5.2"
  },
  "varInspector": {
   "cols": {
    "lenName": 16,
    "lenType": 16,
    "lenVar": 40
   },
   "kernels_config": {
    "python": {
     "delete_cmd_postfix": "",
     "delete_cmd_prefix": "del ",
     "library": "var_list.py",
     "varRefreshCmd": "print(var_dic_list())"
    },
    "r": {
     "delete_cmd_postfix": ") ",
     "delete_cmd_prefix": "rm(",
     "library": "var_list.r",
     "varRefreshCmd": "cat(var_dic_list()) "
    }
   },
   "types_to_exclude": [
    "module",
    "function",
    "builtin_function_or_method",
    "instance",
    "_Feature"
   ],
   "window_display": false
  }
 },
 "nbformat": 4,
 "nbformat_minor": 2
}
