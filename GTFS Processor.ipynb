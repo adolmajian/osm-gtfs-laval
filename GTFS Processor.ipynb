{
 "cells": [
  {
   "cell_type": "markdown",
   "metadata": {
    "heading_collapsed": true
   },
   "source": [
    "### Imports"
   ]
  },
  {
   "cell_type": "code",
   "execution_count": 1,
   "metadata": {
    "ExecuteTime": {
     "end_time": "2019-01-21T11:50:57.891160Z",
     "start_time": "2019-01-21T11:50:57.611016Z"
    },
    "hidden": true
   },
   "outputs": [],
   "source": [
    "import os, shutil\n",
    "import csv, json\n",
    "import ogr, osr\n",
    "from tqdm import tqdm_notebook\n",
    "from collections import defaultdict, Counter\n",
    "from matplotlib import pyplot as plt, figure\n",
    "import copy\n",
    "import numpy as np\n",
    "from operator import itemgetter\n",
    "\n",
    "import overpy\n",
    "\n",
    "import xml.etree.ElementTree as ET\n",
    "\n",
    "ogr.UseExceptions()\n",
    "osr.UseExceptions()"
   ]
  },
  {
   "cell_type": "markdown",
   "metadata": {
    "heading_collapsed": true
   },
   "source": [
    "### Paths"
   ]
  },
  {
   "cell_type": "code",
   "execution_count": 2,
   "metadata": {
    "ExecuteTime": {
     "end_time": "2019-01-21T11:50:59.952575Z",
     "start_time": "2019-01-21T11:50:59.945293Z"
    },
    "hidden": true
   },
   "outputs": [],
   "source": [
    "# Parent directory\n",
    "cwd = os.getcwd()\n",
    "\n",
    "# Child directories\n",
    "boundaries_dir = os.path.join(cwd, 'boundaries')\n",
    "gtfs_dir = os.path.join(cwd, 'gtfs')\n",
    "output_dir = os.path.join(cwd, 'output')\n",
    "\n",
    "# Create output directory\n",
    "if os.path.exists(output_dir):\n",
    "    shutil.rmtree(output_dir)\n",
    "os.makedirs(output_dir)"
   ]
  },
  {
   "cell_type": "markdown",
   "metadata": {
    "heading_collapsed": true
   },
   "source": [
    "###  Functions"
   ]
  },
  {
   "cell_type": "code",
   "execution_count": 4,
   "metadata": {
    "ExecuteTime": {
     "end_time": "2019-01-21T11:51:09.545207Z",
     "start_time": "2019-01-21T11:51:09.425528Z"
    },
    "code_folding": [],
    "hidden": true
   },
   "outputs": [],
   "source": [
    "def dict_to_geojson(data, out_path, geom_field, fields_key=None, epsg_id=None):\n",
    "    \n",
    "    # Create path\n",
    "    if os.path.exists(out_path):\n",
    "        os.remove(out_path)\n",
    "        \n",
    "    # Get GeoJSON driver\n",
    "    driver = ogr.GetDriverByName('GeoJSON')\n",
    "    \n",
    "    ds = driver.CreateDataSource(out_path)\n",
    "    \n",
    "    spatial_ref = osr.SpatialReference()\n",
    "    if epsg_id:\n",
    "        spatial_ref.ImportFromEPSG(4326)\n",
    "    else:\n",
    "        spatial_ref.ImportFromEPSG(epsg_id)\n",
    "        \n",
    "    # Get geom type\n",
    "    geom_type = data[0][geom_field].GetGeometryType()\n",
    "    \n",
    "    layer = ds.CreateLayer(out_path, geom_type=geom_type, srs=spatial_ref)\n",
    "    \n",
    "    # Create the fields\n",
    "    if fields_key:\n",
    "        field_names = data[0][fields_key].keys()\n",
    "        for i, field_name in enumerate(field_names): \n",
    "            layer.CreateField(ogr.FieldDefn(field_name, ogr.OFTString))\n",
    "    \n",
    "    layer_defn = layer.GetLayerDefn()\n",
    "    \n",
    "    for item in data:\n",
    "        feature = ogr.Feature(layer_defn)\n",
    "        \n",
    "        if fields_key:\n",
    "            for field_name in field_names:\n",
    "                feature.SetField(field_name, item[fields_key][field_name])\n",
    "        \n",
    "        feature.SetGeometry(item[geom_field])\n",
    "        \n",
    "        layer.CreateFeature(feature)\n",
    "        \n",
    "def objects_to_xml(path, bounds=None, nodes=None, ways=None, relations=None):\n",
    "    root = ET.Element(\"osm\")\n",
    "    pass\n",
    "\n",
    "def reproject_geometry(geom, in_epsg, out_epsg, return_wkt=False):\n",
    "    import ogr, osr\n",
    "\n",
    "    source = osr.SpatialReference()\n",
    "    source.ImportFromEPSG(in_epsg)\n",
    "\n",
    "    target = osr.SpatialReference()\n",
    "    target.ImportFromEPSG(out_epsg)\n",
    "\n",
    "    transform = osr.CoordinateTransformation(source, target)\n",
    "\n",
    "    geom.Transform(transform)\n",
    "\n",
    "    if return_wkt:\n",
    "        return geom.ExportToWkt()\n",
    "    else:\n",
    "        return geom\n",
    "    \n",
    "def write_geometry_to_geojson(geom, out_path):\n",
    "    if os.path.exists(out_path):\n",
    "        os.remove(out_path)\n",
    "    \n",
    "    driver = ogr.GetDriverByName('GeoJSON')\n",
    "    ds = driver.CreateDataSource(out_path)\n",
    "    \n",
    "    geom_type = geom.GetGeometryType()\n",
    "    \n",
    "    layer = ds.CreateLayer(out_path, geom_type=geom_type)\n",
    "    layer_defn = layer.GetLayerDefn()\n",
    "    \n",
    "    feature = ogr.Feature(layer_defn)\n",
    "    feature.SetGeometry(geom)\n",
    "    layer.CreateFeature(feature)"
   ]
  },
  {
   "cell_type": "markdown",
   "metadata": {
    "ExecuteTime": {
     "end_time": "2019-01-13T08:18:14.967932Z",
     "start_time": "2019-01-13T08:18:14.957921Z"
    },
    "heading_collapsed": true
   },
   "source": [
    "### Overpy Query Templates\n",
    "\n",
    "*Overpass doesn't allow Geocoding like Turbo Overpass does so I've gathered the city relation ids beforehand to use directly with overpass*"
   ]
  },
  {
   "cell_type": "code",
   "execution_count": 5,
   "metadata": {
    "ExecuteTime": {
     "end_time": "2019-01-21T11:51:11.297514Z",
     "start_time": "2019-01-21T11:51:11.289445Z"
    },
    "hidden": true
   },
   "outputs": [],
   "source": [
    "api = overpy.Overpass()\n",
    "\n",
    "relation_to_area_factor = 3600000000\n",
    "\n",
    "region_ids = {\n",
    "    \"Laval\": 3532125 + relation_to_area_factor,\n",
    "    \"Montreal\": 1571328 + relation_to_area_factor\n",
    "}\n",
    "\n",
    "\n",
    "tmpl = \"\"\"\n",
    "    area({})->.searchArea;\n",
    "    (\n",
    "      node[\"amenity\"=\"pub\"](area.searchArea);\n",
    "      way[\"amenity\"=\"pub\"](area.searchArea);\n",
    "      relation[\"amenity\"=\"pub\"](area.searchArea);\n",
    "    );\n",
    "    out body;\n",
    "\"\"\"\n",
    "\n",
    "\n",
    "bus_stop_tmpl = \"\"\"\n",
    "    area({})->.searchArea;\n",
    "    (\n",
    "    node[\"highway\"=\"bus_stop\"](area.searchArea);\n",
    "    way[\"highway\"=\"platform\"](area.searchArea);\n",
    "\n",
    "    node[\"public_transport\"=\"platform\"][\"bus\"=\"yes\"](area.searchArea);\n",
    "    node[\"public_transport\"=\"stop_position\"][\"bus\"=\"yes\"](area.searchArea);\n",
    "    \n",
    "    way[\"amenity\"=\"shelter\"](area.searchArea);\n",
    "    node[\"amenity\"=\"shelter\"](area.searchArea);\n",
    "    );\n",
    "    out body;\n",
    "\"\"\"\n",
    "\n",
    "service_route_tmpl = \"\"\"\n",
    "    area({})->.searchArea;\n",
    "    (\n",
    "    relation[\"type\"=\"route\"][\"route\"=\"bus\"](area.searchArea);\n",
    "    );\n",
    "    out body;\n",
    "\"\"\""
   ]
  },
  {
   "cell_type": "markdown",
   "metadata": {
    "heading_collapsed": true
   },
   "source": [
    "### Load Boundaries into memory"
   ]
  },
  {
   "cell_type": "code",
   "execution_count": 6,
   "metadata": {
    "ExecuteTime": {
     "end_time": "2019-01-21T11:51:13.491541Z",
     "start_time": "2019-01-21T11:51:13.465663Z"
    },
    "hidden": true
   },
   "outputs": [
    {
     "data": {
      "application/vnd.jupyter.widget-view+json": {
       "model_id": "fa0488feef244bf7be850f9aa8ad394d",
       "version_major": 2,
       "version_minor": 0
      },
      "text/html": [
       "<p>Failed to display Jupyter Widget of type <code>HBox</code>.</p>\n",
       "<p>\n",
       "  If you're reading this message in the Jupyter Notebook or JupyterLab Notebook, it may mean\n",
       "  that the widgets JavaScript is still loading. If this message persists, it\n",
       "  likely means that the widgets JavaScript library is either not installed or\n",
       "  not enabled. See the <a href=\"https://ipywidgets.readthedocs.io/en/stable/user_install.html\">Jupyter\n",
       "  Widgets Documentation</a> for setup instructions.\n",
       "</p>\n",
       "<p>\n",
       "  If you're reading this message in another frontend (for example, a static\n",
       "  rendering on GitHub or <a href=\"https://nbviewer.jupyter.org/\">NBViewer</a>),\n",
       "  it may mean that your frontend doesn't currently support widgets.\n",
       "</p>\n"
      ],
      "text/plain": [
       "HBox(children=(IntProgress(value=0, max=2), HTML(value='')))"
      ]
     },
     "metadata": {},
     "output_type": "display_data"
    },
    {
     "name": "stdout",
     "output_type": "stream",
     "text": [
      "\n"
     ]
    }
   ],
   "source": [
    "boundaries = {}\n",
    "\n",
    "boundary_files = os.listdir(boundaries_dir)\n",
    "\n",
    "for boundary_file in tqdm_notebook(boundary_files):\n",
    "    path = os.path.join(boundaries_dir, boundary_file)\n",
    "    city = boundary_file[:-4]\n",
    "    \n",
    "    with open(path) as f:\n",
    "        geom = ogr.CreateGeometryFromWkt(f.read())\n",
    "        boundaries[city] = geom"
   ]
  },
  {
   "cell_type": "markdown",
   "metadata": {
    "heading_collapsed": true
   },
   "source": [
    "### Get existing data from OSM using OverPy"
   ]
  },
  {
   "cell_type": "code",
   "execution_count": 7,
   "metadata": {
    "ExecuteTime": {
     "end_time": "2019-01-21T11:51:27.185992Z",
     "start_time": "2019-01-21T11:51:16.953294Z"
    },
    "hidden": true
   },
   "outputs": [],
   "source": [
    "existing_stops = []\n",
    "\n",
    "stops_result_laval = api.query(bus_stop_tmpl.format(region_ids['Laval']))\n",
    "stops_result_montreal = api.query(bus_stop_tmpl.format(region_ids['Montreal']))"
   ]
  },
  {
   "cell_type": "code",
   "execution_count": 8,
   "metadata": {
    "ExecuteTime": {
     "end_time": "2019-01-21T11:51:46.857359Z",
     "start_time": "2019-01-21T11:51:46.840762Z"
    },
    "hidden": true
   },
   "outputs": [],
   "source": [
    "for node in stops_result_laval.nodes:\n",
    "    existing_stop = {\n",
    "        'id': node.id,\n",
    "        'lat': node.lat,\n",
    "        'lon': node.lon,\n",
    "        'tags': node.tags,\n",
    "        'city': 'Laval'\n",
    "    }\n",
    "    existing_stops.append(existing_stop)\n",
    "    \n",
    "for node in stops_result_montreal.nodes:\n",
    "    existing_stop = {\n",
    "        'id': node.id,\n",
    "        'lat': node.lat,\n",
    "        'lon': node.lon,\n",
    "        'tags': node.tags,\n",
    "        'city': 'Montreal'\n",
    "    }\n",
    "    existing_stops.append(existing_stop)"
   ]
  },
  {
   "cell_type": "markdown",
   "metadata": {},
   "source": [
    "### Load GTFS text files to memory"
   ]
  },
  {
   "cell_type": "code",
   "execution_count": 10,
   "metadata": {
    "ExecuteTime": {
     "end_time": "2019-01-21T11:52:17.693448Z",
     "start_time": "2019-01-21T11:52:15.304638Z"
    }
   },
   "outputs": [
    {
     "data": {
      "application/vnd.jupyter.widget-view+json": {
       "model_id": "80c1e307b3ef4937bcda2e24d6de93a8",
       "version_major": 2,
       "version_minor": 0
      },
      "text/html": [
       "<p>Failed to display Jupyter Widget of type <code>HBox</code>.</p>\n",
       "<p>\n",
       "  If you're reading this message in the Jupyter Notebook or JupyterLab Notebook, it may mean\n",
       "  that the widgets JavaScript is still loading. If this message persists, it\n",
       "  likely means that the widgets JavaScript library is either not installed or\n",
       "  not enabled. See the <a href=\"https://ipywidgets.readthedocs.io/en/stable/user_install.html\">Jupyter\n",
       "  Widgets Documentation</a> for setup instructions.\n",
       "</p>\n",
       "<p>\n",
       "  If you're reading this message in another frontend (for example, a static\n",
       "  rendering on GitHub or <a href=\"https://nbviewer.jupyter.org/\">NBViewer</a>),\n",
       "  it may mean that your frontend doesn't currently support widgets.\n",
       "</p>\n"
      ],
      "text/plain": [
       "HBox(children=(IntProgress(value=0, max=8), HTML(value='')))"
      ]
     },
     "metadata": {},
     "output_type": "display_data"
    },
    {
     "name": "stdout",
     "output_type": "stream",
     "text": [
      "\n"
     ]
    }
   ],
   "source": [
    "gtfs_data = {}\n",
    "\n",
    "filenames = os.listdir(gtfs_dir)\n",
    "\n",
    "for filename in tqdm_notebook(filenames):\n",
    "    table_name = filename[:-4]\n",
    "    path = os.path.join(gtfs_dir, filename)\n",
    "    gtfs_data[table_name] = {\n",
    "        \"path\": path,\n",
    "    }\n",
    "\n",
    "    with open(path, encoding='utf-8') as csvfile:\n",
    "        reader = csv.reader(csvfile)\n",
    "        \n",
    "        field_names = next(reader)\n",
    "        gtfs_data[table_name][\"field_names\"] = field_names\n",
    "        \n",
    "#         first_data_row = next(reader)\n",
    "#         field_types = []\n",
    "#         for i, item in enumerate(first_data_row):\n",
    "#             if len(item) == 1:\n",
    "#                 field_types.append(ogr.OFTInteger)\n",
    "#             elif 'lat' in field_names[i] or 'lon' in field_names[i]:\n",
    "#                 field_types.append(ogr.OFTReal)\n",
    "#             else:\n",
    "#                 field_types.append(ogr.OFTString)\n",
    "#         gtfs_data[table_name][\"field_types\"] = field_types\n",
    "        \n",
    "        dict_reader = csv.DictReader(csvfile, fieldnames=field_names)\n",
    "        data = [row for row in dict_reader]\n",
    "        gtfs_data[table_name][\"data\"] = data"
   ]
  },
  {
   "cell_type": "markdown",
   "metadata": {
    "heading_collapsed": true
   },
   "source": [
    "#### Print the dictionary information for reference"
   ]
  },
  {
   "cell_type": "code",
   "execution_count": 11,
   "metadata": {
    "ExecuteTime": {
     "end_time": "2019-01-21T11:52:21.401357Z",
     "start_time": "2019-01-21T11:52:21.396830Z"
    },
    "hidden": true
   },
   "outputs": [
    {
     "name": "stdout",
     "output_type": "stream",
     "text": [
      "# table: # field names\n",
      "routes: ['route_id', 'agency_id', 'route_short_name', 'route_long_name', 'route_type', 'route_url', 'route_headsign', 'route_color', 'route_text_color']\n",
      "\n",
      "stop_times: ['trip_id', 'arrival_time', 'departure_time', 'stop_id', 'stop_sequence', 'pickup_type', 'drop_off_type']\n",
      "\n",
      "trips: ['route_id', 'service_id', 'trip_id', 'block_id', 'shape_id', 'trip_headsign']\n",
      "\n",
      "calendar_dates: ['service_id', 'date', 'exception_type']\n",
      "\n",
      "shapes: ['shape_id', 'shape_pt_lat', 'shape_pt_lon', 'shape_pt_sequence']\n",
      "\n",
      "agency: ['agency_id', 'agency_name', 'agency_url', 'agency_timezone', 'agency_lang']\n",
      "\n",
      "calendar: ['service_id', 'monday', 'tuesday', 'wednesday', 'thursday', 'friday', 'saturday', 'sunday', 'start_date', 'end_date']\n",
      "\n",
      "stops: ['stop_id', 'stop_code', 'stop_name', 'stop_lon', 'stop_lat', 'location_type', 'stop_display', 'stop_abribus']\n",
      "\n"
     ]
    }
   ],
   "source": [
    "print('# table: # field names')\n",
    "for key, value in gtfs_data.items():\n",
    "    print('{}: {}\\n'.format(key, value['field_names']))\n",
    "#     print('{}: {}\\n{}\\n'.format(key, value['field_names'], value['field_types']))"
   ]
  },
  {
   "cell_type": "markdown",
   "metadata": {},
   "source": [
    "### Deduplicate the stops file\n",
    "1. Split the stop code from the name\n",
    "2. Check for name uniqueness\n",
    "3. Check for location uniqueness (with proximity tolerance - optional)"
   ]
  },
  {
   "cell_type": "markdown",
   "metadata": {
    "heading_collapsed": true
   },
   "source": [
    "#### Visualize the stop **names** and **codes** frequency distribution"
   ]
  },
  {
   "cell_type": "code",
   "execution_count": 12,
   "metadata": {
    "ExecuteTime": {
     "end_time": "2019-01-21T11:52:29.582338Z",
     "start_time": "2019-01-21T11:52:29.536829Z"
    },
    "hidden": true
   },
   "outputs": [
    {
     "data": {
      "application/vnd.jupyter.widget-view+json": {
       "model_id": "bf91c34f3ed84c6b8a932f7d073de071",
       "version_major": 2,
       "version_minor": 0
      },
      "text/html": [
       "<p>Failed to display Jupyter Widget of type <code>HBox</code>.</p>\n",
       "<p>\n",
       "  If you're reading this message in the Jupyter Notebook or JupyterLab Notebook, it may mean\n",
       "  that the widgets JavaScript is still loading. If this message persists, it\n",
       "  likely means that the widgets JavaScript library is either not installed or\n",
       "  not enabled. See the <a href=\"https://ipywidgets.readthedocs.io/en/stable/user_install.html\">Jupyter\n",
       "  Widgets Documentation</a> for setup instructions.\n",
       "</p>\n",
       "<p>\n",
       "  If you're reading this message in another frontend (for example, a static\n",
       "  rendering on GitHub or <a href=\"https://nbviewer.jupyter.org/\">NBViewer</a>),\n",
       "  it may mean that your frontend doesn't currently support widgets.\n",
       "</p>\n"
      ],
      "text/plain": [
       "HBox(children=(IntProgress(value=0, max=5746), HTML(value='')))"
      ]
     },
     "metadata": {},
     "output_type": "display_data"
    },
    {
     "name": "stdout",
     "output_type": "stream",
     "text": [
      "\n"
     ]
    }
   ],
   "source": [
    "stops = gtfs_data['stops']['data']\n",
    "\n",
    "unique_stops = []\n",
    "stop_name_counter = Counter()\n",
    "stop_code_counter = Counter()\n",
    "\n",
    "for stop in tqdm_notebook(stops):\n",
    "    real_name = stop['stop_name'].split('[')[0].strip()\n",
    "    stop_code = stop['stop_code']\n",
    "    stop_name_counter[real_name] += 1\n",
    "    stop_code_counter[stop_code] += 1\n",
    "    \n",
    "names, name_counts = zip(*stop_name_counter.items())\n",
    "codes, code_counts = zip(*stop_code_counter.items())\n",
    "\n",
    "bar_height = 10\n",
    "\n",
    "plot_specs = {\n",
    "    'names': {\n",
    "        'positions': np.arange(len(names)),\n",
    "        'bar_spacing': 2 * np.arange(len(names)) * bar_height,\n",
    "        'labels': names,\n",
    "        'values': name_counts,\n",
    "        'title': 'Distribution of stop names'\n",
    "    },\n",
    "    'codes': {\n",
    "        'positions': np.arange(len(codes)),\n",
    "        'bar_spacing': 2 * np.arange(len(codes)) * bar_height,\n",
    "        'labels': codes,\n",
    "        'values': code_counts,\n",
    "        'title': 'Distribution of stop codes'\n",
    "    }\n",
    "}"
   ]
  },
  {
   "cell_type": "code",
   "execution_count": 13,
   "metadata": {
    "ExecuteTime": {
     "end_time": "2019-01-21T11:52:33.532445Z",
     "start_time": "2019-01-21T11:52:33.528091Z"
    },
    "hidden": true
   },
   "outputs": [],
   "source": [
    "# # Can't get this to work....moving on\n",
    "\n",
    "# # plt.figure(figsize=(50,30))\n",
    "# plt.rcParams.update({'font.size': 10})\n",
    "\n",
    "# for i, (plot_name, spec) in enumerate(plot_specs.items(), 1):\n",
    "#     plt.subplot(1, 2, i)\n",
    "#     plt.barh(spec['positions'], spec['values'], height=bar_height)\n",
    "#     plt.yticks(spec['bar_spacing'], spec['labels'])\n",
    "#     plt.title(spec['title'])\n",
    "#     plt.autoscale()\n",
    "# plt.tight_layout()\n",
    "# plt.show()"
   ]
  },
  {
   "cell_type": "markdown",
   "metadata": {
    "ExecuteTime": {
     "end_time": "2019-01-12T13:30:29.191793Z",
     "start_time": "2019-01-12T13:30:29.180259Z"
    }
   },
   "source": [
    "#### Create unique stops list"
   ]
  },
  {
   "cell_type": "code",
   "execution_count": 14,
   "metadata": {
    "ExecuteTime": {
     "end_time": "2019-01-21T11:56:43.704060Z",
     "start_time": "2019-01-21T11:53:14.448477Z"
    }
   },
   "outputs": [
    {
     "data": {
      "application/vnd.jupyter.widget-view+json": {
       "model_id": "d6ed2c2a4b6d4bff9e1476234b92d51e",
       "version_major": 2,
       "version_minor": 0
      },
      "text/html": [
       "<p>Failed to display Jupyter Widget of type <code>HBox</code>.</p>\n",
       "<p>\n",
       "  If you're reading this message in the Jupyter Notebook or JupyterLab Notebook, it may mean\n",
       "  that the widgets JavaScript is still loading. If this message persists, it\n",
       "  likely means that the widgets JavaScript library is either not installed or\n",
       "  not enabled. See the <a href=\"https://ipywidgets.readthedocs.io/en/stable/user_install.html\">Jupyter\n",
       "  Widgets Documentation</a> for setup instructions.\n",
       "</p>\n",
       "<p>\n",
       "  If you're reading this message in another frontend (for example, a static\n",
       "  rendering on GitHub or <a href=\"https://nbviewer.jupyter.org/\">NBViewer</a>),\n",
       "  it may mean that your frontend doesn't currently support widgets.\n",
       "</p>\n"
      ],
      "text/plain": [
       "HBox(children=(IntProgress(value=0, max=2773), HTML(value='')))"
      ]
     },
     "metadata": {},
     "output_type": "display_data"
    },
    {
     "name": "stdout",
     "output_type": "stream",
     "text": [
      "\n"
     ]
    }
   ],
   "source": [
    "stops = gtfs_data['stops']['data']\n",
    "\n",
    "# existing_count_laval = 0\n",
    "# existing_count_montreal = 0\n",
    "existing_count_total = 0\n",
    "\n",
    "# Extent\n",
    "multi_point = ogr.Geometry(ogr.wkbMultiPoint)\n",
    "\n",
    "# Dictionary to group stops by unique location\n",
    "unique_locations = defaultdict(list)\n",
    "\n",
    "# List of stops rearranged with uniqueness\n",
    "unique_stops = []\n",
    "\n",
    "# Aggregate unique locations\n",
    "for stop in stops:\n",
    "    unique_locations[(stop['stop_lon'], stop['stop_lat'])].append(stop)\n",
    "\n",
    "# Aggregate attributes using unique locations into new stop objects\n",
    "for i, (unique_location, stops) in enumerate(tqdm_notebook(unique_locations.items()), 1):\n",
    "\n",
    "    ids = list(set([stop['stop_id'] for stop in stops]))\n",
    "    codes = list(set([stop['stop_code'] for stop in stops]))\n",
    "\n",
    "    lon = float(stops[0]['stop_lon'])\n",
    "    lat = float(stops[0]['stop_lat'])\n",
    "\n",
    "    # Create point to add to MultiPoint (for JOSM extent later...)\n",
    "    point = ogr.Geometry(ogr.wkbPoint)\n",
    "    point.AddPoint(lon, lat)\n",
    "    multi_point.AddGeometry(point)\n",
    "\n",
    "    # Create the unique stop according to JOSM format\n",
    "    action = None\n",
    "\n",
    "    # While checking for:\n",
    "    # 1. What city it is ine\n",
    "    # 2. If a node with the same geometry already exists in OSM\n",
    "    # 2.1 If node is in Laval, replace the tags\n",
    "    # 2.2 If node is in Montreal, append, code and name tags\n",
    "\n",
    "    # Get the city of the GTFS stop\n",
    "    city = None\n",
    "    for city_name, city_geom in boundaries.items():\n",
    "        if point.Intersects(city_geom):\n",
    "            city = city_name\n",
    "\n",
    "    osm_id = None\n",
    "    osm_lat = None\n",
    "    osm_lon = None\n",
    "\n",
    "    # Determine if node already exists\n",
    "    for existing_stop in existing_stops:\n",
    "        existing_point = ogr.Geometry(ogr.wkbPoint)\n",
    "        existing_point.AddPoint(\n",
    "            float(existing_stop['lon']), float(existing_stop['lat']))\n",
    "\n",
    "        if point.Equals(existing_point):\n",
    "            #             print('Equal point found')\n",
    "            existing_count_total += 1\n",
    "\n",
    "            osm_id = existing_stop['id']\n",
    "            osm_lat = existing_stop['lat']\n",
    "            osm_lon = existing_stop['lon']\n",
    "            action = 'modify'\n",
    "\n",
    "#             print(osm_id)\n",
    "        else:\n",
    "            osm_id = str(i * -1)\n",
    "            osm_lat = str(lat)\n",
    "            osm_lon = str(lon)\n",
    "\n",
    "    unique_stop = {\n",
    "        # props\n",
    "        'props': {\n",
    "            'id': osm_id,\n",
    "            'lon': osm_lon,\n",
    "            'lat': osm_lat,\n",
    "        },\n",
    "        # tags\n",
    "        'tags': {\n",
    "            'bus': 'yes',\n",
    "            'highway': 'bus_stop',\n",
    "            'name': stops[0]['stop_name'].split('[')[0].strip(),\n",
    "            'public_transport': 'platform',\n",
    "            'ref': ';'.join(codes),\n",
    "            'shelter': 'yes' if stops[0]['stop_abribus'] == '1' else 'no',\n",
    "        },\n",
    "        \"geom\": point,\n",
    "        # GTFS fields\n",
    "        \"gtfs_props\": {\n",
    "            'stop_id': ','.join(ids),\n",
    "            'stop_code': ','.join(codes),\n",
    "            'stop_name': stops[0]['stop_name'].split('[')[0].strip(),\n",
    "            'stop_lon': lon,\n",
    "            'stop_lat': lat,\n",
    "            'location_type': stops[0]['location_type'],\n",
    "            'stop_display': stops[0]['stop_display'],\n",
    "            'stop_abribus': stops[0]['stop_abribus'],\n",
    "        }\n",
    "    }\n",
    "    if action:\n",
    "        unique_stop['props']['action'] = action\n",
    "        \n",
    "    unique_stops.append(unique_stop)"
   ]
  },
  {
   "cell_type": "markdown",
   "metadata": {},
   "source": [
    "#### Merge stops by proximity (tolerance)"
   ]
  },
  {
   "cell_type": "code",
   "execution_count": 15,
   "metadata": {
    "ExecuteTime": {
     "end_time": "2019-01-21T11:57:22.095541Z",
     "start_time": "2019-01-21T11:57:19.623306Z"
    }
   },
   "outputs": [],
   "source": [
    "buffer_distance = 2  # meter\n",
    "multi_point_utm = reproject_geometry(multi_point.Clone(), 4326, 32618)\n",
    "buffered_points = multi_point_utm.Buffer(5)\n",
    "buffered_points_dissolved = buffered_points.UnionCascaded()\n",
    "buffered_points_dissolved_geo = reproject_geometry(buffered_points_dissolved.Clone(), 32618, 4326)\n",
    "\n",
    "buffers_file = os.path.join(output_dir, 'buffers.geojson')\n",
    "write_geometry_to_geojson(buffered_points_dissolved_geo, buffers_file)\n",
    "\n",
    "stops_file = os.path.join(output_dir, 'gtfs_stops.geojson')\n",
    "dict_to_geojson(unique_stops, stops_file, 'geom', fields_key='gtfs_props', epsg_id=4326)"
   ]
  },
  {
   "cell_type": "code",
   "execution_count": 16,
   "metadata": {
    "ExecuteTime": {
     "end_time": "2019-01-21T11:58:50.326982Z",
     "start_time": "2019-01-21T11:57:29.970107Z"
    }
   },
   "outputs": [
    {
     "data": {
      "application/vnd.jupyter.widget-view+json": {
       "model_id": "e040045f26f04be495c17e712d5e4d63",
       "version_major": 2,
       "version_minor": 0
      },
      "text/html": [
       "<p>Failed to display Jupyter Widget of type <code>HBox</code>.</p>\n",
       "<p>\n",
       "  If you're reading this message in the Jupyter Notebook or JupyterLab Notebook, it may mean\n",
       "  that the widgets JavaScript is still loading. If this message persists, it\n",
       "  likely means that the widgets JavaScript library is either not installed or\n",
       "  not enabled. See the <a href=\"https://ipywidgets.readthedocs.io/en/stable/user_install.html\">Jupyter\n",
       "  Widgets Documentation</a> for setup instructions.\n",
       "</p>\n",
       "<p>\n",
       "  If you're reading this message in another frontend (for example, a static\n",
       "  rendering on GitHub or <a href=\"https://nbviewer.jupyter.org/\">NBViewer</a>),\n",
       "  it may mean that your frontend doesn't currently support widgets.\n",
       "</p>\n"
      ],
      "text/plain": [
       "HBox(children=(IntProgress(value=1, bar_style='info', max=1), HTML(value='')))"
      ]
     },
     "metadata": {},
     "output_type": "display_data"
    },
    {
     "name": "stdout",
     "output_type": "stream",
     "text": [
      "\n",
      "Unique stops before merge: 2773\n",
      "Unique stops after merge: 2681\n"
     ]
    }
   ],
   "source": [
    "unique_stops_merged = []\n",
    "\n",
    "for i, buffer in tqdm_notebook(enumerate(buffered_points_dissolved_geo)):\n",
    "    stops_to_merge = []\n",
    "    for stop in unique_stops:\n",
    "        if stop['geom'].Within(buffer):\n",
    "            stops_to_merge.append(stop)\n",
    "            \n",
    "    if len(stops_to_merge) > 1:\n",
    "        new_stop = stops_to_merge[0].copy()\n",
    "        merged_codes = []\n",
    "        merged_ids = []\n",
    "        \n",
    "        for stop_to_merge in stops_to_merge:\n",
    "            merged_codes.extend(stop_to_merge['gtfs_props']['stop_code'].split(','))\n",
    "            merged_ids.extend(stop_to_merge['gtfs_props']['stop_id'].split(','))\n",
    "            \n",
    "            # Copy the first stop in the list and update the keys\n",
    "            new_stop['gtfs_props']['stop_code'] = ','.join(merged_codes)\n",
    "            new_stop['gtfs_props']['stop_id'] = ','.join(merged_ids)\n",
    "            new_stop['tags']['ref'] = ';'.join(merged_codes)\n",
    "            \n",
    "        unique_stops_merged.append(new_stop)\n",
    "        \n",
    "    if len(stops_to_merge) == 1:\n",
    "        unique_stops_merged.append(stops_to_merge[0])\n",
    "            \n",
    "print('Unique stops before merge: {}'.format(len(unique_stops)))\n",
    "print('Unique stops after merge: {}'.format(len(unique_stops_merged)))\n",
    "                "
   ]
  },
  {
   "cell_type": "code",
   "execution_count": 17,
   "metadata": {
    "ExecuteTime": {
     "end_time": "2019-01-21T11:59:57.356981Z",
     "start_time": "2019-01-21T11:59:57.213707Z"
    }
   },
   "outputs": [],
   "source": [
    "unique_stops_merged_file = os.path.join(output_dir, 'unique_stops_merged.geojson')\n",
    "dict_to_geojson(unique_stops_merged, unique_stops_merged_file, 'geom', 'gtfs_props', 4326)"
   ]
  },
  {
   "cell_type": "markdown",
   "metadata": {},
   "source": [
    "### Consolidate GTFS routes"
   ]
  },
  {
   "cell_type": "code",
   "execution_count": 42,
   "metadata": {
    "ExecuteTime": {
     "end_time": "2019-01-21T12:08:54.470993Z",
     "start_time": "2019-01-21T12:08:54.467539Z"
    }
   },
   "outputs": [],
   "source": [
    "routes_data = gtfs_data['routes']['data']\n",
    "stop_times_data = gtfs_data['stop_times']['data']\n",
    "trips_data = gtfs_data['trips']['data']"
   ]
  },
  {
   "cell_type": "code",
   "execution_count": 43,
   "metadata": {
    "ExecuteTime": {
     "end_time": "2019-01-21T12:09:04.004982Z",
     "start_time": "2019-01-21T12:09:03.993835Z"
    }
   },
   "outputs": [],
   "source": [
    "# Find all trips for a route\n",
    "route_trips = defaultdict(set)\n",
    "\n",
    "for trip in trips_data:\n",
    "    route_trips[trip['route_id']].add(trip['trip_id'])\n",
    "    \n",
    "# route_trips = dict(route_trips)\n",
    "    \n",
    "# for route_id, trip_ids_set in route_trips.items():\n",
    "#     route_trips[route_id] = list(trip_ids_set)"
   ]
  },
  {
   "cell_type": "code",
   "execution_count": 44,
   "metadata": {
    "ExecuteTime": {
     "end_time": "2019-01-21T12:09:13.891546Z",
     "start_time": "2019-01-21T12:09:13.385635Z"
    }
   },
   "outputs": [
    {
     "data": {
      "application/vnd.jupyter.widget-view+json": {
       "model_id": "73a0d6abfdab41d1a61002b46f359719",
       "version_major": 2,
       "version_minor": 0
      },
      "text/html": [
       "<p>Failed to display Jupyter Widget of type <code>HBox</code>.</p>\n",
       "<p>\n",
       "  If you're reading this message in the Jupyter Notebook or JupyterLab Notebook, it may mean\n",
       "  that the widgets JavaScript is still loading. If this message persists, it\n",
       "  likely means that the widgets JavaScript library is either not installed or\n",
       "  not enabled. See the <a href=\"https://ipywidgets.readthedocs.io/en/stable/user_install.html\">Jupyter\n",
       "  Widgets Documentation</a> for setup instructions.\n",
       "</p>\n",
       "<p>\n",
       "  If you're reading this message in another frontend (for example, a static\n",
       "  rendering on GitHub or <a href=\"https://nbviewer.jupyter.org/\">NBViewer</a>),\n",
       "  it may mean that your frontend doesn't currently support widgets.\n",
       "</p>\n"
      ],
      "text/plain": [
       "HBox(children=(IntProgress(value=0, max=667586), HTML(value='')))"
      ]
     },
     "metadata": {},
     "output_type": "display_data"
    },
    {
     "name": "stdout",
     "output_type": "stream",
     "text": [
      "\n"
     ]
    }
   ],
   "source": [
    "# Count the number of stops per trip\n",
    "stops_counter = Counter()\n",
    "\n",
    "for stop_time in tqdm_notebook(stop_times_data):\n",
    "    stops_counter[stop_time['trip_id']] += 1\n",
    "\n",
    "stops_counter = dict(stops_counter)"
   ]
  },
  {
   "cell_type": "code",
   "execution_count": 45,
   "metadata": {
    "ExecuteTime": {
     "end_time": "2019-01-21T12:09:23.727186Z",
     "start_time": "2019-01-21T12:09:23.376919Z"
    }
   },
   "outputs": [
    {
     "data": {
      "application/vnd.jupyter.widget-view+json": {
       "model_id": "90a1f68f105f4eb2a674e616180535eb",
       "version_major": 2,
       "version_minor": 0
      },
      "text/html": [
       "<p>Failed to display Jupyter Widget of type <code>HBox</code>.</p>\n",
       "<p>\n",
       "  If you're reading this message in the Jupyter Notebook or JupyterLab Notebook, it may mean\n",
       "  that the widgets JavaScript is still loading. If this message persists, it\n",
       "  likely means that the widgets JavaScript library is either not installed or\n",
       "  not enabled. See the <a href=\"https://ipywidgets.readthedocs.io/en/stable/user_install.html\">Jupyter\n",
       "  Widgets Documentation</a> for setup instructions.\n",
       "</p>\n",
       "<p>\n",
       "  If you're reading this message in another frontend (for example, a static\n",
       "  rendering on GitHub or <a href=\"https://nbviewer.jupyter.org/\">NBViewer</a>),\n",
       "  it may mean that your frontend doesn't currently support widgets.\n",
       "</p>\n"
      ],
      "text/plain": [
       "HBox(children=(IntProgress(value=0, max=178), HTML(value='')))"
      ]
     },
     "metadata": {},
     "output_type": "display_data"
    },
    {
     "name": "stdout",
     "output_type": "stream",
     "text": [
      "\n"
     ]
    }
   ],
   "source": [
    "# Find the longest trip per route\n",
    "longest_route_trips = []\n",
    "\n",
    "for route_id, trip_ids in tqdm_notebook(route_trips.items()):\n",
    "    trips = []\n",
    "    \n",
    "    for trip_id, stop_count in stops_counter.items():\n",
    "        if trip_id in trip_ids:\n",
    "            trips.append((trip_id, stop_count))\n",
    "            \n",
    "    trips.sort(key=itemgetter(1), reverse=True)\n",
    "    \n",
    "    longest_route_trips.append({\n",
    "        \"route_id\": route_id,\n",
    "        \"trip_id\": trips[0][0],\n",
    "        \"stops_count\": trips[0][1]\n",
    "    })"
   ]
  },
  {
   "cell_type": "code",
   "execution_count": 46,
   "metadata": {
    "ExecuteTime": {
     "end_time": "2019-01-21T12:09:33.157791Z",
     "start_time": "2019-01-21T12:09:33.153950Z"
    }
   },
   "outputs": [
    {
     "data": {
      "text/plain": [
       "{'route_id': 'AOUT1840O',\n",
       " 'stops_count': 37,\n",
       " 'trip_id': 'AOUT1840O1L14508350027'}"
      ]
     },
     "execution_count": 46,
     "metadata": {},
     "output_type": "execute_result"
    }
   ],
   "source": [
    "longest_route_trips[0]"
   ]
  },
  {
   "cell_type": "code",
   "execution_count": 47,
   "metadata": {
    "ExecuteTime": {
     "end_time": "2019-01-21T12:09:55.500344Z",
     "start_time": "2019-01-21T12:09:42.796641Z"
    }
   },
   "outputs": [
    {
     "data": {
      "application/vnd.jupyter.widget-view+json": {
       "model_id": "63bc9b6bf27844f38c4428a5914f32ca",
       "version_major": 2,
       "version_minor": 0
      },
      "text/html": [
       "<p>Failed to display Jupyter Widget of type <code>HBox</code>.</p>\n",
       "<p>\n",
       "  If you're reading this message in the Jupyter Notebook or JupyterLab Notebook, it may mean\n",
       "  that the widgets JavaScript is still loading. If this message persists, it\n",
       "  likely means that the widgets JavaScript library is either not installed or\n",
       "  not enabled. See the <a href=\"https://ipywidgets.readthedocs.io/en/stable/user_install.html\">Jupyter\n",
       "  Widgets Documentation</a> for setup instructions.\n",
       "</p>\n",
       "<p>\n",
       "  If you're reading this message in another frontend (for example, a static\n",
       "  rendering on GitHub or <a href=\"https://nbviewer.jupyter.org/\">NBViewer</a>),\n",
       "  it may mean that your frontend doesn't currently support widgets.\n",
       "</p>\n"
      ],
      "text/plain": [
       "HBox(children=(IntProgress(value=0, max=178), HTML(value='')))"
      ]
     },
     "metadata": {},
     "output_type": "display_data"
    },
    {
     "name": "stdout",
     "output_type": "stream",
     "text": [
      "\n"
     ]
    }
   ],
   "source": [
    "# Add the stop ids to the longest route\n",
    "for longest_trip in tqdm_notebook(longest_route_trips):\n",
    "    trip_id = longest_trip['trip_id']\n",
    "    stops = []\n",
    "    \n",
    "    for stop_time in stop_times_data:\n",
    "        if stop_time['trip_id'] == trip_id:\n",
    "            stops.append({\n",
    "                \"gtfs_id\": stop_time['stop_id'],\n",
    "                \"sequence\": int(stop_time['stop_sequence'])\n",
    "            })\n",
    "            \n",
    "    stops.sort(key=itemgetter('sequence'))\n",
    "    longest_trip['stops'] = stops"
   ]
  },
  {
   "cell_type": "code",
   "execution_count": 48,
   "metadata": {
    "ExecuteTime": {
     "end_time": "2019-01-21T12:10:05.063924Z",
     "start_time": "2019-01-21T12:10:05.059262Z"
    }
   },
   "outputs": [
    {
     "data": {
      "text/plain": [
       "{'route_id': 'AOUT1840O',\n",
       " 'stops': [{'gtfs_id': 'AOUT18CP48040', 'sequence': 1},\n",
       "  {'gtfs_id': 'AOUT1843343', 'sequence': 2},\n",
       "  {'gtfs_id': 'AOUT1843146', 'sequence': 3},\n",
       "  {'gtfs_id': 'AOUT1843145', 'sequence': 4},\n",
       "  {'gtfs_id': 'AOUT1843143', 'sequence': 5},\n",
       "  {'gtfs_id': 'AOUT1843438', 'sequence': 6},\n",
       "  {'gtfs_id': 'AOUT1843139', 'sequence': 7},\n",
       "  {'gtfs_id': 'AOUT1843136', 'sequence': 8},\n",
       "  {'gtfs_id': 'AOUT1843134', 'sequence': 9},\n",
       "  {'gtfs_id': 'AOUT1843132', 'sequence': 10},\n",
       "  {'gtfs_id': 'AOUT1843130', 'sequence': 11},\n",
       "  {'gtfs_id': 'AOUT1843128', 'sequence': 12},\n",
       "  {'gtfs_id': 'AOUT1843125', 'sequence': 13},\n",
       "  {'gtfs_id': 'AOUT18CP43123', 'sequence': 14},\n",
       "  {'gtfs_id': 'AOUT1843121', 'sequence': 15},\n",
       "  {'gtfs_id': 'AOUT1843119', 'sequence': 16},\n",
       "  {'gtfs_id': 'AOUT1843117', 'sequence': 17},\n",
       "  {'gtfs_id': 'AOUT1843115', 'sequence': 18},\n",
       "  {'gtfs_id': 'AOUT1843113', 'sequence': 19},\n",
       "  {'gtfs_id': 'AOUT1843111', 'sequence': 20},\n",
       "  {'gtfs_id': 'AOUT1843109', 'sequence': 21},\n",
       "  {'gtfs_id': 'AOUT1843107', 'sequence': 22},\n",
       "  {'gtfs_id': 'AOUT1843158', 'sequence': 23},\n",
       "  {'gtfs_id': 'AOUT1843156', 'sequence': 24},\n",
       "  {'gtfs_id': 'AOUT1843138', 'sequence': 25},\n",
       "  {'gtfs_id': 'AOUT1846408', 'sequence': 26},\n",
       "  {'gtfs_id': 'AOUT1841313', 'sequence': 27},\n",
       "  {'gtfs_id': 'AOUT1846409', 'sequence': 28},\n",
       "  {'gtfs_id': 'AOUT1846441', 'sequence': 29},\n",
       "  {'gtfs_id': 'AOUT1846410', 'sequence': 30},\n",
       "  {'gtfs_id': 'AOUT1846432', 'sequence': 31},\n",
       "  {'gtfs_id': 'AOUT18CP43392', 'sequence': 32},\n",
       "  {'gtfs_id': 'AOUT1843393', 'sequence': 33},\n",
       "  {'gtfs_id': 'AOUT1843394', 'sequence': 34},\n",
       "  {'gtfs_id': 'AOUT1843395', 'sequence': 35},\n",
       "  {'gtfs_id': 'AOUT1843396', 'sequence': 36},\n",
       "  {'gtfs_id': 'AOUT18CP49040', 'sequence': 37}],\n",
       " 'stops_count': 37,\n",
       " 'trip_id': 'AOUT1840O1L14508350027'}"
      ]
     },
     "execution_count": 48,
     "metadata": {},
     "output_type": "execute_result"
    }
   ],
   "source": [
    "longest_route_trips[0]"
   ]
  },
  {
   "cell_type": "code",
   "execution_count": 49,
   "metadata": {
    "ExecuteTime": {
     "end_time": "2019-01-21T12:10:54.399078Z",
     "start_time": "2019-01-21T12:10:30.067050Z"
    }
   },
   "outputs": [
    {
     "data": {
      "application/vnd.jupyter.widget-view+json": {
       "model_id": "008f30291a2f4aa4af1e9e10ecfc541e",
       "version_major": 2,
       "version_minor": 0
      },
      "text/html": [
       "<p>Failed to display Jupyter Widget of type <code>HBox</code>.</p>\n",
       "<p>\n",
       "  If you're reading this message in the Jupyter Notebook or JupyterLab Notebook, it may mean\n",
       "  that the widgets JavaScript is still loading. If this message persists, it\n",
       "  likely means that the widgets JavaScript library is either not installed or\n",
       "  not enabled. See the <a href=\"https://ipywidgets.readthedocs.io/en/stable/user_install.html\">Jupyter\n",
       "  Widgets Documentation</a> for setup instructions.\n",
       "</p>\n",
       "<p>\n",
       "  If you're reading this message in another frontend (for example, a static\n",
       "  rendering on GitHub or <a href=\"https://nbviewer.jupyter.org/\">NBViewer</a>),\n",
       "  it may mean that your frontend doesn't currently support widgets.\n",
       "</p>\n"
      ],
      "text/plain": [
       "HBox(children=(IntProgress(value=0, max=178), HTML(value='')))"
      ]
     },
     "metadata": {},
     "output_type": "display_data"
    },
    {
     "name": "stdout",
     "output_type": "stream",
     "text": [
      "\n"
     ]
    }
   ],
   "source": [
    "# Map the GTFS stops to the merged unique stops\n",
    "for longest_trip in tqdm_notebook(longest_route_trips):\n",
    "    for gtfs_stop in longest_trip['stops']:\n",
    "        for unique_stop in unique_stops_merged:\n",
    "            unique_stop_ids = unique_stop['gtfs_props']['stop_id'].split(',')\n",
    "            osm_id = unique_stop['props']['id']\n",
    "            name = unique_stop['tags']['name']\n",
    "            if gtfs_stop['gtfs_id'] in unique_stop_ids:\n",
    "                gtfs_stop.update({\n",
    "                    \"osm_id\": osm_id,\n",
    "                    \"name\": name\n",
    "                })"
   ]
  },
  {
   "cell_type": "code",
   "execution_count": 50,
   "metadata": {
    "ExecuteTime": {
     "end_time": "2019-01-21T12:11:06.692734Z",
     "start_time": "2019-01-21T12:11:06.683003Z"
    }
   },
   "outputs": [
    {
     "data": {
      "text/plain": [
       "[{'gtfs_id': 'AOUT18CP48040',\n",
       "  'name': 'Métro Montmorency Quai:9',\n",
       "  'osm_id': '-684',\n",
       "  'sequence': 1},\n",
       " {'gtfs_id': 'AOUT1843343',\n",
       "  'name': \"Du Souvenir / De L'avenir\",\n",
       "  'osm_id': '-1167',\n",
       "  'sequence': 2},\n",
       " {'gtfs_id': 'AOUT1843146',\n",
       "  'name': 'Du Souvenir / Le Corbusier',\n",
       "  'osm_id': '-1045',\n",
       "  'sequence': 3},\n",
       " {'gtfs_id': 'AOUT1843145',\n",
       "  'name': 'Du Souvenir / Centre Laval',\n",
       "  'osm_id': '-2693',\n",
       "  'sequence': 4},\n",
       " {'gtfs_id': 'AOUT1843143',\n",
       "  'name': 'Du Souvenir / Armand-Frappier',\n",
       "  'osm_id': '-1849',\n",
       "  'sequence': 5},\n",
       " {'gtfs_id': 'AOUT1843438',\n",
       "  'name': 'Du Souvenir / Daniel-Johnson',\n",
       "  'osm_id': '-1533',\n",
       "  'sequence': 6},\n",
       " {'gtfs_id': 'AOUT1843139',\n",
       "  'name': \"Du Souvenir / Face à L'école Liberty\",\n",
       "  'osm_id': '-1096',\n",
       "  'sequence': 7},\n",
       " {'gtfs_id': 'AOUT1843136',\n",
       "  'name': 'Du Souvenir / Chomedey',\n",
       "  'osm_id': '-1130',\n",
       "  'sequence': 8},\n",
       " {'gtfs_id': 'AOUT1843134',\n",
       "  'name': 'Du Souvenir / Face Au 3475',\n",
       "  'osm_id': '-212',\n",
       "  'sequence': 9},\n",
       " {'gtfs_id': 'AOUT1843132',\n",
       "  'name': 'Du Souvenir / Pie-X',\n",
       "  'osm_id': '-95',\n",
       "  'sequence': 10},\n",
       " {'gtfs_id': 'AOUT1843130',\n",
       "  'name': 'Du Souvenir / Lapalme',\n",
       "  'osm_id': '-958',\n",
       "  'sequence': 11},\n",
       " {'gtfs_id': 'AOUT1843128',\n",
       "  'name': 'Du Souvenir / Jolliet',\n",
       "  'osm_id': '-2174',\n",
       "  'sequence': 12},\n",
       " {'gtfs_id': 'AOUT1843125',\n",
       "  'name': 'Du Souvenir / Hébert',\n",
       "  'osm_id': '-523',\n",
       "  'sequence': 13},\n",
       " {'gtfs_id': 'AOUT18CP43123',\n",
       "  'name': 'Du Souvenir / Curé-Labelle',\n",
       "  'osm_id': '-2654',\n",
       "  'sequence': 14},\n",
       " {'gtfs_id': 'AOUT1843121',\n",
       "  'name': 'Du Souvenir / Du Couvent',\n",
       "  'osm_id': '-66',\n",
       "  'sequence': 15},\n",
       " {'gtfs_id': 'AOUT1843119',\n",
       "  'name': 'Du Souvenir / Lebrun',\n",
       "  'osm_id': '-1631',\n",
       "  'sequence': 16},\n",
       " {'gtfs_id': 'AOUT1843117',\n",
       "  'name': 'Du Souvenir / élisabeth',\n",
       "  'osm_id': '-929',\n",
       "  'sequence': 17},\n",
       " {'gtfs_id': 'AOUT1843115',\n",
       "  'name': 'Du Souvenir / Léo',\n",
       "  'osm_id': '-2728',\n",
       "  'sequence': 18},\n",
       " {'gtfs_id': 'AOUT1843113',\n",
       "  'name': 'Du Souvenir / Webb',\n",
       "  'osm_id': '-1822',\n",
       "  'sequence': 19},\n",
       " {'gtfs_id': 'AOUT1843111',\n",
       "  'name': 'Du Souvenir / 100e Avenue',\n",
       "  'osm_id': '-1716',\n",
       "  'sequence': 20},\n",
       " {'gtfs_id': 'AOUT1843109',\n",
       "  'name': 'Du Souvenir / Emerson',\n",
       "  'osm_id': '-1637',\n",
       "  'sequence': 21},\n",
       " {'gtfs_id': 'AOUT1843107',\n",
       "  'name': \"Du Souvenir / D'effingham\",\n",
       "  'osm_id': '-307',\n",
       "  'sequence': 22},\n",
       " {'gtfs_id': 'AOUT1843158',\n",
       "  'name': 'Du Souvenir / Bertin',\n",
       "  'osm_id': '-1129',\n",
       "  'sequence': 23},\n",
       " {'gtfs_id': 'AOUT1843156',\n",
       "  'name': 'Du Souvenir / Châtelaine',\n",
       "  'osm_id': '-1046',\n",
       "  'sequence': 24},\n",
       " {'gtfs_id': 'AOUT1843138',\n",
       "  'name': 'Du Souvenir / Carmel',\n",
       "  'osm_id': '-2089',\n",
       "  'sequence': 25},\n",
       " {'gtfs_id': 'AOUT1846408',\n",
       "  'name': 'Du Souvenir / Face Au 5275',\n",
       "  'osm_id': '-1031',\n",
       "  'sequence': 26},\n",
       " {'gtfs_id': 'AOUT1841313',\n",
       "  'name': 'Clarendon / Notre-Dame',\n",
       "  'osm_id': '-1645',\n",
       "  'sequence': 27},\n",
       " {'gtfs_id': 'AOUT1846409',\n",
       "  'name': \"Élodie-Boucher / Face à L'académie étoile Du Nord\",\n",
       "  'osm_id': '-402',\n",
       "  'sequence': 28},\n",
       " {'gtfs_id': 'AOUT1846441',\n",
       "  'name': 'Élodie-Boucher / Derrière Clarins',\n",
       "  'osm_id': '-990',\n",
       "  'sequence': 29},\n",
       " {'gtfs_id': 'AOUT1846410',\n",
       "  'name': 'Élodie-Boucher / Derrière Ats',\n",
       "  'osm_id': '-2534',\n",
       "  'sequence': 30},\n",
       " {'gtfs_id': 'AOUT1846432',\n",
       "  'name': 'Élodie-Boucher / Samson',\n",
       "  'osm_id': '-1555',\n",
       "  'sequence': 31},\n",
       " {'gtfs_id': 'AOUT18CP43392',\n",
       "  'name': 'Moreau / Autoroute 13',\n",
       "  'osm_id': '-2550',\n",
       "  'sequence': 32},\n",
       " {'gtfs_id': 'AOUT1843393',\n",
       "  'name': 'Moreau / Montgolfier',\n",
       "  'osm_id': '-314',\n",
       "  'sequence': 33},\n",
       " {'gtfs_id': 'AOUT1843394',\n",
       "  'name': 'Montgolfier / Bertin',\n",
       "  'osm_id': '-1200',\n",
       "  'sequence': 34},\n",
       " {'gtfs_id': 'AOUT1843395',\n",
       "  'name': 'Montgolfier / Grolier',\n",
       "  'osm_id': '-583',\n",
       "  'sequence': 35},\n",
       " {'gtfs_id': 'AOUT1843396',\n",
       "  'name': 'Montgolfier / Binet',\n",
       "  'osm_id': '-2072',\n",
       "  'sequence': 36},\n",
       " {'gtfs_id': 'AOUT18CP49040',\n",
       "  'name': 'Montgolfier / Notre-Dame',\n",
       "  'osm_id': '-323',\n",
       "  'sequence': 37}]"
      ]
     },
     "execution_count": 50,
     "metadata": {},
     "output_type": "execute_result"
    }
   ],
   "source": [
    "longest_route_trips[0]['stops']"
   ]
  },
  {
   "cell_type": "code",
   "execution_count": 51,
   "metadata": {
    "ExecuteTime": {
     "end_time": "2019-01-21T12:11:23.472078Z",
     "start_time": "2019-01-21T12:11:23.467244Z"
    }
   },
   "outputs": [],
   "source": [
    "for route in longest_route_trips:\n",
    "    for stop in route['stops']:\n",
    "        if 'name' not in stop:\n",
    "            print('no name')\n",
    "            print(stop)"
   ]
  },
  {
   "cell_type": "markdown",
   "metadata": {},
   "source": [
    "#### Get the route names and other info"
   ]
  },
  {
   "cell_type": "code",
   "execution_count": 52,
   "metadata": {
    "ExecuteTime": {
     "end_time": "2019-01-21T12:11:33.209273Z",
     "start_time": "2019-01-21T12:11:33.159190Z"
    }
   },
   "outputs": [
    {
     "data": {
      "application/vnd.jupyter.widget-view+json": {
       "model_id": "f2a8a32c0be744599dee3e9b39ae2429",
       "version_major": 2,
       "version_minor": 0
      },
      "text/html": [
       "<p>Failed to display Jupyter Widget of type <code>HBox</code>.</p>\n",
       "<p>\n",
       "  If you're reading this message in the Jupyter Notebook or JupyterLab Notebook, it may mean\n",
       "  that the widgets JavaScript is still loading. If this message persists, it\n",
       "  likely means that the widgets JavaScript library is either not installed or\n",
       "  not enabled. See the <a href=\"https://ipywidgets.readthedocs.io/en/stable/user_install.html\">Jupyter\n",
       "  Widgets Documentation</a> for setup instructions.\n",
       "</p>\n",
       "<p>\n",
       "  If you're reading this message in another frontend (for example, a static\n",
       "  rendering on GitHub or <a href=\"https://nbviewer.jupyter.org/\">NBViewer</a>),\n",
       "  it may mean that your frontend doesn't currently support widgets.\n",
       "</p>\n"
      ],
      "text/plain": [
       "HBox(children=(IntProgress(value=0, max=178), HTML(value='')))"
      ]
     },
     "metadata": {},
     "output_type": "display_data"
    },
    {
     "name": "stdout",
     "output_type": "stream",
     "text": [
      "\n"
     ]
    }
   ],
   "source": [
    "osm_new_route_id = -10000\n",
    "\n",
    "for i, longest_route in enumerate(tqdm_notebook(longest_route_trips)):\n",
    "    route_id = longest_route['route_id']\n",
    "    route_stops = longest_route['stops']\n",
    "    \n",
    "    first_stop = route_stops[0]['name']\n",
    "    last_stop = route_stops[-1]['name']\n",
    "\n",
    "    loop_route = 'no'\n",
    "\n",
    "    if first_stop == last_stop:\n",
    "        loop_route = 'yes'\n",
    "        print('loop route found')\n",
    "\n",
    "    for route in routes_data:\n",
    "        if route_id == route['route_id']:\n",
    "            osm_new_route_id -= 1\n",
    "            longest_route.update({\n",
    "                \"props\": {\n",
    "                    \"id\": osm_new_route_id\n",
    "                },\n",
    "                \"tags\": {\n",
    "                    \"name\": route['route_long_name'],\n",
    "                    \"ref\": route[\"route_headsign\"],\n",
    "                    \"type\": \"route\",\n",
    "                    \"route\": \"bus\",\n",
    "                    \"network\": \"STL\",\n",
    "                    \"operator\": \"STL\",\n",
    "                    \"from\": first_stop,\n",
    "                    \"to\": last_stop,\n",
    "                    \"round_trip\": loop_route,\n",
    "                    \"public_transport:version\": 2\n",
    "                },\n",
    "                \"master_route_ref\": route['route_short_name']\n",
    "            })"
   ]
  },
  {
   "cell_type": "code",
   "execution_count": 54,
   "metadata": {
    "ExecuteTime": {
     "end_time": "2019-01-21T12:11:52.403139Z",
     "start_time": "2019-01-21T12:11:52.399073Z"
    }
   },
   "outputs": [],
   "source": [
    "master_routes = defaultdict(list)\n",
    "\n",
    "for route in routes_data:\n",
    "    master_routes[route['route_short_name']].append(route)"
   ]
  },
  {
   "cell_type": "code",
   "execution_count": 55,
   "metadata": {
    "ExecuteTime": {
     "end_time": "2019-01-21T12:12:01.952888Z",
     "start_time": "2019-01-21T12:12:01.950636Z"
    }
   },
   "outputs": [],
   "source": [
    "route_relations = []\n",
    "route_master_relations = []"
   ]
  },
  {
   "cell_type": "code",
   "execution_count": 56,
   "metadata": {
    "ExecuteTime": {
     "end_time": "2019-01-21T12:12:11.391227Z",
     "start_time": "2019-01-21T12:12:11.372219Z"
    }
   },
   "outputs": [
    {
     "name": "stdout",
     "output_type": "stream",
     "text": [
      "Start and End have same name...\n",
      "Start and End have same name...\n"
     ]
    }
   ],
   "source": [
    "osm_new_master_route_id = -100000\n",
    "\n",
    "for ref, routes in master_routes.items():\n",
    "    osm_new_master_route_id -= 1\n",
    "    names = set()\n",
    "    route_ids = []\n",
    "    for route in routes:\n",
    "        names.add(route['route_long_name'].split('Direction')[1].strip())\n",
    "        route_ids.append(route['route_id'])\n",
    "\n",
    "    names = list(names)\n",
    "\n",
    "    if len(names) == 2:\n",
    "        name = '{} - {}'.format(names[0], names[1])\n",
    "    elif len(names) == 1:\n",
    "        name = names[0]\n",
    "        print('Start and End have same name...')\n",
    "    else:\n",
    "        print('error')\n",
    "\n",
    "    route_master_relation = {\n",
    "        \"props\": {\n",
    "            \"id\": osm_new_master_route_id\n",
    "        },\n",
    "        \"tags\": {\n",
    "            \"name\": name,\n",
    "            \"ref\": ref,\n",
    "            \"network\": 'STL',\n",
    "            \"operator\": 'STL',\n",
    "            \"type\": \"route_master\",\n",
    "            \"public_transport:version\": 2\n",
    "        }\n",
    "    }\n",
    "    route_master_relations.append(route_master_relation)"
   ]
  },
  {
   "cell_type": "code",
   "execution_count": 59,
   "metadata": {
    "ExecuteTime": {
     "end_time": "2019-01-21T12:12:42.438098Z",
     "start_time": "2019-01-21T12:12:42.433880Z"
    }
   },
   "outputs": [
    {
     "data": {
      "text/plain": [
       "{'props': {'id': -100001},\n",
       " 'tags': {'name': 'Terminus Henri-Bourassa - Laval-Ouest',\n",
       "  'network': 'STL',\n",
       "  'operator': 'STL',\n",
       "  'public_transport:version': 2,\n",
       "  'ref': '55',\n",
       "  'type': 'route_master'}}"
      ]
     },
     "execution_count": 59,
     "metadata": {},
     "output_type": "execute_result"
    }
   ],
   "source": [
    "route_master_relations[0]"
   ]
  },
  {
   "cell_type": "code",
   "execution_count": 68,
   "metadata": {
    "ExecuteTime": {
     "end_time": "2019-01-21T12:22:31.153233Z",
     "start_time": "2019-01-21T12:22:31.127794Z"
    }
   },
   "outputs": [
    {
     "data": {
      "application/vnd.jupyter.widget-view+json": {
       "model_id": "91693b061abd4fbc826b5b1152c6901c",
       "version_major": 2,
       "version_minor": 0
      },
      "text/html": [
       "<p>Failed to display Jupyter Widget of type <code>HBox</code>.</p>\n",
       "<p>\n",
       "  If you're reading this message in the Jupyter Notebook or JupyterLab Notebook, it may mean\n",
       "  that the widgets JavaScript is still loading. If this message persists, it\n",
       "  likely means that the widgets JavaScript library is either not installed or\n",
       "  not enabled. See the <a href=\"https://ipywidgets.readthedocs.io/en/stable/user_install.html\">Jupyter\n",
       "  Widgets Documentation</a> for setup instructions.\n",
       "</p>\n",
       "<p>\n",
       "  If you're reading this message in another frontend (for example, a static\n",
       "  rendering on GitHub or <a href=\"https://nbviewer.jupyter.org/\">NBViewer</a>),\n",
       "  it may mean that your frontend doesn't currently support widgets.\n",
       "</p>\n"
      ],
      "text/plain": [
       "HBox(children=(IntProgress(value=0, max=46), HTML(value='')))"
      ]
     },
     "metadata": {},
     "output_type": "display_data"
    },
    {
     "name": "stdout",
     "output_type": "stream",
     "text": [
      "\n"
     ]
    }
   ],
   "source": [
    "# add members to route master relations\n",
    "for route_master_relation in tqdm_notebook(route_master_relations):\n",
    "    members = []\n",
    "    for longest_route in longest_route_trips:\n",
    "        if longest_route['master_route_ref'] == route_master_relation['tags']['ref']:\n",
    "#             print(longest_route['tags'])\n",
    "            member = {\n",
    "                \"props\": {\n",
    "                    \"type\": 'node',\n",
    "                    \"ref\": longest_route[\"props\"][\"id\"],\n",
    "                    \"role\": ''\n",
    "                }\n",
    "            }\n",
    "            members.append(member)\n",
    "            route_master_relation['members'] = members"
   ]
  },
  {
   "cell_type": "code",
   "execution_count": 69,
   "metadata": {
    "ExecuteTime": {
     "end_time": "2019-01-21T12:22:57.125515Z",
     "start_time": "2019-01-21T12:22:57.119369Z"
    }
   },
   "outputs": [
    {
     "name": "stdout",
     "output_type": "stream",
     "text": [
      "4\n",
      "4\n",
      "2\n",
      "4\n",
      "2\n",
      "4\n",
      "4\n",
      "4\n",
      "2\n",
      "4\n",
      "4\n",
      "4\n",
      "4\n",
      "4\n",
      "4\n",
      "4\n",
      "4\n",
      "4\n",
      "4\n",
      "4\n",
      "4\n",
      "4\n",
      "4\n",
      "4\n",
      "4\n",
      "4\n",
      "4\n",
      "4\n",
      "4\n",
      "4\n",
      "4\n",
      "4\n",
      "4\n",
      "4\n",
      "4\n",
      "4\n",
      "4\n",
      "4\n",
      "4\n",
      "4\n",
      "4\n",
      "4\n",
      "4\n",
      "4\n",
      "4\n",
      "4\n"
     ]
    }
   ],
   "source": [
    "# route_master_relations[3]\n",
    "for route_master_relation in route_master_relations:\n",
    "    print(len(route_master_relation['members']))"
   ]
  },
  {
   "cell_type": "markdown",
   "metadata": {},
   "source": [
    "### Write JOSM files"
   ]
  },
  {
   "cell_type": "code",
   "execution_count": null,
   "metadata": {
    "ExecuteTime": {
     "end_time": "2019-01-13T16:27:35.199585Z",
     "start_time": "2019-01-13T16:27:34.931646Z"
    }
   },
   "outputs": [],
   "source": [
    "root = ET.Element(\"osm\")\n",
    "root.set('version', '0.6')\n",
    "\n",
    "min_lon, max_lon, min_lat, max_lat = multi_point.GetEnvelope()\n",
    "\n",
    "bounds = ET.SubElement(root, 'bounds')\n",
    "bounds.set('minlat', str(min_lat))\n",
    "bounds.set('minlon', str(min_lon))\n",
    "bounds.set('maxlat', str(max_lat))\n",
    "bounds.set('maxlon', str(max_lon))\n",
    "\n",
    "for stop in unique_stops_osm:\n",
    "    node = ET.SubElement(root, 'node')\n",
    "    node.set('version', '1')\n",
    "    \n",
    "    for key, value in stop.items():\n",
    "        if key == 'tags':\n",
    "            for k, v in stop['tags'].items():\n",
    "                tag = ET.SubElement(node, 'tag')\n",
    "                tag.set('k', str(k))\n",
    "                tag.set('v', str(v))\n",
    "        else:\n",
    "            node.set(key, value)\n",
    "\n",
    "tree = ET.ElementTree(root)\n",
    "tree.write(\"gtfs_laval.xml\", encoding='unicode')"
   ]
  }
 ],
 "metadata": {
  "kernelspec": {
   "display_name": "Python 3",
   "language": "python",
   "name": "python3"
  },
  "language_info": {
   "codemirror_mode": {
    "name": "ipython",
    "version": 3
   },
   "file_extension": ".py",
   "mimetype": "text/x-python",
   "name": "python",
   "nbconvert_exporter": "python",
   "pygments_lexer": "ipython3",
   "version": "3.5.2"
  },
  "varInspector": {
   "cols": {
    "lenName": 16,
    "lenType": 16,
    "lenVar": 40
   },
   "kernels_config": {
    "python": {
     "delete_cmd_postfix": "",
     "delete_cmd_prefix": "del ",
     "library": "var_list.py",
     "varRefreshCmd": "print(var_dic_list())"
    },
    "r": {
     "delete_cmd_postfix": ") ",
     "delete_cmd_prefix": "rm(",
     "library": "var_list.r",
     "varRefreshCmd": "cat(var_dic_list()) "
    }
   },
   "types_to_exclude": [
    "module",
    "function",
    "builtin_function_or_method",
    "instance",
    "_Feature"
   ],
   "window_display": false
  }
 },
 "nbformat": 4,
 "nbformat_minor": 2
}
