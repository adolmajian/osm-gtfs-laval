{
 "cells": [
  {
   "cell_type": "markdown",
   "metadata": {},
   "source": [
    "### Imports"
   ]
  },
  {
   "cell_type": "code",
   "execution_count": 1,
   "metadata": {
    "ExecuteTime": {
     "end_time": "2019-01-26T13:45:19.530493Z",
     "start_time": "2019-01-26T13:45:19.233950Z"
    }
   },
   "outputs": [],
   "source": [
    "import os, shutil\n",
    "import csv, json\n",
    "import ogr, osr\n",
    "from tqdm import tqdm_notebook\n",
    "from collections import defaultdict, Counter\n",
    "from matplotlib import pyplot as plt, figure\n",
    "import copy\n",
    "import numpy as np\n",
    "from operator import itemgetter\n",
    "\n",
    "import overpy\n",
    "\n",
    "import xml.etree.ElementTree as ET\n",
    "\n",
    "ogr.UseExceptions()\n",
    "osr.UseExceptions()"
   ]
  },
  {
   "cell_type": "markdown",
   "metadata": {},
   "source": [
    "### Paths"
   ]
  },
  {
   "cell_type": "code",
   "execution_count": 2,
   "metadata": {
    "ExecuteTime": {
     "end_time": "2019-01-26T13:45:33.412587Z",
     "start_time": "2019-01-26T13:45:33.227313Z"
    }
   },
   "outputs": [],
   "source": [
    "# Parent directory\n",
    "cwd = os.getcwd()\n",
    "\n",
    "# zipfile\n",
    "zipfile = os.path.join(cwd, 'gtfs.zip')\n",
    "\n",
    "# Child directories\n",
    "boundaries_dir = os.path.join(cwd, 'boundaries')\n",
    "gtfs_dir = os.path.join(cwd, 'gtfs')\n",
    "output_dir = os.path.join(cwd, 'output')\n",
    "\n",
    "# Create output directory\n",
    "if os.path.exists(output_dir):\n",
    "    shutil.rmtree(output_dir)\n",
    "os.makedirs(output_dir)\n",
    "\n",
    "# Create gtfs directory\n",
    "if os.path.exists(gtfs_dir):\n",
    "    shutil.rmtree(gtfs_dir)\n",
    "os.makedirs(gtfs_dir)\n",
    "\n",
    "# Unzip GTFS\n",
    "shutil.unpack_archive(zipfile, gtfs_dir)"
   ]
  },
  {
   "cell_type": "markdown",
   "metadata": {},
   "source": [
    "###  Functions"
   ]
  },
  {
   "cell_type": "code",
   "execution_count": 3,
   "metadata": {
    "ExecuteTime": {
     "end_time": "2019-01-26T13:45:40.988130Z",
     "start_time": "2019-01-26T13:45:40.849593Z"
    },
    "code_folding": []
   },
   "outputs": [],
   "source": [
    "def dict_to_geojson(data, out_path, geom_field, fields_key=None, epsg_id=None):\n",
    "    \n",
    "    # Create path\n",
    "    if os.path.exists(out_path):\n",
    "        os.remove(out_path)\n",
    "        \n",
    "    # Get GeoJSON driver\n",
    "    driver = ogr.GetDriverByName('GeoJSON')\n",
    "    \n",
    "    ds = driver.CreateDataSource(out_path)\n",
    "    \n",
    "    spatial_ref = osr.SpatialReference()\n",
    "    if epsg_id:\n",
    "        spatial_ref.ImportFromEPSG(4326)\n",
    "    else:\n",
    "        spatial_ref.ImportFromEPSG(epsg_id)\n",
    "        \n",
    "    # Get geom type\n",
    "    geom_type = data[0][geom_field].GetGeometryType()\n",
    "    \n",
    "    layer = ds.CreateLayer(out_path, geom_type=geom_type, srs=spatial_ref)\n",
    "    \n",
    "    # Create the fields\n",
    "    if fields_key:\n",
    "        field_names = data[0][fields_key].keys()\n",
    "        for i, field_name in enumerate(field_names): \n",
    "            layer.CreateField(ogr.FieldDefn(field_name, ogr.OFTString))\n",
    "    \n",
    "    layer_defn = layer.GetLayerDefn()\n",
    "    \n",
    "    for item in data:\n",
    "        feature = ogr.Feature(layer_defn)\n",
    "        \n",
    "        if fields_key:\n",
    "            for field_name in field_names:\n",
    "                feature.SetField(field_name, item[fields_key][field_name])\n",
    "        \n",
    "        feature.SetGeometry(item[geom_field])\n",
    "        \n",
    "        layer.CreateFeature(feature)\n",
    "        \n",
    "def objects_to_xml(path, bounds=None, nodes=None, ways=None, relations=None):\n",
    "    root = ET.Element(\"osm\")\n",
    "    pass\n",
    "\n",
    "def reproject_geometry(geom, in_epsg, out_epsg, return_wkt=False):\n",
    "    import ogr, osr\n",
    "\n",
    "    source = osr.SpatialReference()\n",
    "    source.ImportFromEPSG(in_epsg)\n",
    "\n",
    "    target = osr.SpatialReference()\n",
    "    target.ImportFromEPSG(out_epsg)\n",
    "\n",
    "    transform = osr.CoordinateTransformation(source, target)\n",
    "\n",
    "    geom.Transform(transform)\n",
    "\n",
    "    if return_wkt:\n",
    "        return geom.ExportToWkt()\n",
    "    else:\n",
    "        return geom\n",
    "    \n",
    "def write_geometry_to_geojson(geom, out_path):\n",
    "    if os.path.exists(out_path):\n",
    "        os.remove(out_path)\n",
    "    \n",
    "    driver = ogr.GetDriverByName('GeoJSON')\n",
    "    ds = driver.CreateDataSource(out_path)\n",
    "    \n",
    "    geom_type = geom.GetGeometryType()\n",
    "    \n",
    "    layer = ds.CreateLayer(out_path, geom_type=geom_type)\n",
    "    layer_defn = layer.GetLayerDefn()\n",
    "    \n",
    "    feature = ogr.Feature(layer_defn)\n",
    "    feature.SetGeometry(geom)\n",
    "    layer.CreateFeature(feature)"
   ]
  },
  {
   "cell_type": "markdown",
   "metadata": {
    "ExecuteTime": {
     "end_time": "2019-01-13T08:18:14.967932Z",
     "start_time": "2019-01-13T08:18:14.957921Z"
    }
   },
   "source": [
    "### Overpy Query Templates\n",
    "\n",
    "*Overpass doesn't allow Geocoding like Turbo Overpass does so I've gathered the city relation ids beforehand to use directly with overpass*"
   ]
  },
  {
   "cell_type": "code",
   "execution_count": 8,
   "metadata": {
    "ExecuteTime": {
     "end_time": "2019-01-26T14:03:56.434789Z",
     "start_time": "2019-01-26T14:03:56.425315Z"
    }
   },
   "outputs": [],
   "source": [
    "api = overpy.Overpass()\n",
    "\n",
    "relation_to_area_factor = 3600000000\n",
    "\n",
    "region_ids = {\n",
    "    \"Laval\": 3532125 + relation_to_area_factor,\n",
    "    \"Montreal\": 1571328 + relation_to_area_factor\n",
    "}\n",
    "\n",
    "\n",
    "tmpl = \"\"\"\n",
    "    area({})->.searchArea;\n",
    "    (\n",
    "      node[\"amenity\"=\"pub\"](area.searchArea);\n",
    "      way[\"amenity\"=\"pub\"](area.searchArea);\n",
    "      relation[\"amenity\"=\"pub\"](area.searchArea);\n",
    "    );\n",
    "    out body;\n",
    "\"\"\"\n",
    "\n",
    "\n",
    "bus_stop_tmpl = \"\"\"\n",
    "    area({})->.searchArea;\n",
    "    (\n",
    "    node[\"highway\"=\"bus_stop\"](area.searchArea);\n",
    "    way[\"highway\"=\"platform\"](area.searchArea);\n",
    "\n",
    "    node[\"public_transport\"=\"platform\"][\"bus\"=\"yes\"](area.searchArea);\n",
    "    node[\"public_transport\"=\"stop_position\"][\"bus\"=\"yes\"](area.searchArea);\n",
    "    \n",
    "    way[\"amenity\"=\"shelter\"](area.searchArea);\n",
    "    node[\"amenity\"=\"shelter\"](area.searchArea);\n",
    "    );\n",
    "    out body;\n",
    "\"\"\"\n",
    "\n",
    "service_route_tmpl = \"\"\"\n",
    "    area({})->.searchArea;\n",
    "    (\n",
    "    relation[\"type\"=\"route\"][\"route\"=\"bus\"](area.searchArea);\n",
    "    );\n",
    "    out body;\n",
    "\"\"\"\n",
    "\n",
    "master_route_tmpl = \"\"\"\n",
    "    area({})->.searchArea;\n",
    "    (\n",
    "    relation[\"type\"=\"master_route\"][\"route_master\"=\"bus\"](area.searchArea);\n",
    "    );\n",
    "    out body;\n",
    "\"\"\""
   ]
  },
  {
   "cell_type": "markdown",
   "metadata": {},
   "source": [
    "### Load Boundaries into memory"
   ]
  },
  {
   "cell_type": "code",
   "execution_count": 5,
   "metadata": {
    "ExecuteTime": {
     "end_time": "2019-01-26T13:48:04.488335Z",
     "start_time": "2019-01-26T13:48:04.445759Z"
    }
   },
   "outputs": [
    {
     "data": {
      "application/vnd.jupyter.widget-view+json": {
       "model_id": "9d8a1f6ad244409b9fa1fcf39f252e5a",
       "version_major": 2,
       "version_minor": 0
      },
      "text/html": [
       "<p>Failed to display Jupyter Widget of type <code>HBox</code>.</p>\n",
       "<p>\n",
       "  If you're reading this message in the Jupyter Notebook or JupyterLab Notebook, it may mean\n",
       "  that the widgets JavaScript is still loading. If this message persists, it\n",
       "  likely means that the widgets JavaScript library is either not installed or\n",
       "  not enabled. See the <a href=\"https://ipywidgets.readthedocs.io/en/stable/user_install.html\">Jupyter\n",
       "  Widgets Documentation</a> for setup instructions.\n",
       "</p>\n",
       "<p>\n",
       "  If you're reading this message in another frontend (for example, a static\n",
       "  rendering on GitHub or <a href=\"https://nbviewer.jupyter.org/\">NBViewer</a>),\n",
       "  it may mean that your frontend doesn't currently support widgets.\n",
       "</p>\n"
      ],
      "text/plain": [
       "HBox(children=(IntProgress(value=0, max=2), HTML(value='')))"
      ]
     },
     "metadata": {},
     "output_type": "display_data"
    },
    {
     "name": "stdout",
     "output_type": "stream",
     "text": [
      "\n"
     ]
    }
   ],
   "source": [
    "boundaries = {}\n",
    "\n",
    "boundary_files = os.listdir(boundaries_dir)\n",
    "\n",
    "for boundary_file in tqdm_notebook(boundary_files):\n",
    "    path = os.path.join(boundaries_dir, boundary_file)\n",
    "    city = boundary_file[:-4]\n",
    "    \n",
    "    with open(path) as f:\n",
    "        geom = ogr.CreateGeometryFromWkt(f.read())\n",
    "        boundaries[city] = geom"
   ]
  },
  {
   "cell_type": "markdown",
   "metadata": {},
   "source": [
    "### Get existing data from OSM using OverPy"
   ]
  },
  {
   "cell_type": "markdown",
   "metadata": {},
   "source": [
    "#### Get existing stops"
   ]
  },
  {
   "cell_type": "code",
   "execution_count": 7,
   "metadata": {
    "ExecuteTime": {
     "end_time": "2019-01-23T07:15:20.894880Z",
     "start_time": "2019-01-23T07:15:10.075988Z"
    }
   },
   "outputs": [],
   "source": [
    "existing_stops = []\n",
    "\n",
    "stops_result_laval = api.query(bus_stop_tmpl.format(region_ids['Laval']))\n",
    "stops_result_montreal = api.query(bus_stop_tmpl.format(region_ids['Montreal']))"
   ]
  },
  {
   "cell_type": "code",
   "execution_count": 8,
   "metadata": {
    "ExecuteTime": {
     "end_time": "2019-01-23T07:15:23.653059Z",
     "start_time": "2019-01-23T07:15:23.636981Z"
    }
   },
   "outputs": [],
   "source": [
    "for node in stops_result_laval.nodes:\n",
    "    existing_stop = {\n",
    "        'id': node.id,\n",
    "        'lat': node.lat,\n",
    "        'lon': node.lon,\n",
    "        'tags': node.tags,\n",
    "        'city': 'Laval'\n",
    "    }\n",
    "    existing_stops.append(existing_stop)\n",
    "    \n",
    "for node in stops_result_montreal.nodes:\n",
    "    existing_stop = {\n",
    "        'id': node.id,\n",
    "        'lat': node.lat,\n",
    "        'lon': node.lon,\n",
    "        'tags': node.tags,\n",
    "        'city': 'Montreal'\n",
    "    }\n",
    "    existing_stops.append(existing_stop)"
   ]
  },
  {
   "cell_type": "markdown",
   "metadata": {},
   "source": [
    "#### Get existing routes"
   ]
  },
  {
   "cell_type": "code",
   "execution_count": 10,
   "metadata": {
    "ExecuteTime": {
     "end_time": "2019-01-26T14:04:35.145956Z",
     "start_time": "2019-01-26T14:04:29.444964Z"
    }
   },
   "outputs": [],
   "source": [
    "existing_routes = []\n",
    "existing_route_masters = []\n",
    "\n",
    "routes_result_laval = api.query(service_route_tmpl.format(region_ids['Laval']))\n",
    "route_master_result_laval = api.query(master_route_tmpl.format(region_ids['Laval']))"
   ]
  },
  {
   "cell_type": "code",
   "execution_count": 15,
   "metadata": {
    "ExecuteTime": {
     "end_time": "2019-01-26T14:12:12.599483Z",
     "start_time": "2019-01-26T14:12:12.595776Z"
    }
   },
   "outputs": [
    {
     "data": {
      "text/plain": [
       "[<overpy.Relation id=1306431>,\n",
       " <overpy.Relation id=3472432>,\n",
       " <overpy.Relation id=3484875>,\n",
       " <overpy.Relation id=3886754>,\n",
       " <overpy.Relation id=3888221>,\n",
       " <overpy.Relation id=3888406>,\n",
       " <overpy.Relation id=3888407>,\n",
       " <overpy.Relation id=3888408>,\n",
       " <overpy.Relation id=7230468>,\n",
       " <overpy.Relation id=8670609>,\n",
       " <overpy.Relation id=9081952>,\n",
       " <overpy.Relation id=9082034>,\n",
       " <overpy.Relation id=9084228>,\n",
       " <overpy.Relation id=9084341>,\n",
       " <overpy.Relation id=9122487>,\n",
       " <overpy.Relation id=9122571>]"
      ]
     },
     "execution_count": 15,
     "metadata": {},
     "output_type": "execute_result"
    }
   ],
   "source": [
    "routes_result_laval.relations"
   ]
  },
  {
   "cell_type": "markdown",
   "metadata": {},
   "source": [
    "### Load GTFS text files to memory"
   ]
  },
  {
   "cell_type": "code",
   "execution_count": 9,
   "metadata": {
    "ExecuteTime": {
     "end_time": "2019-01-23T07:15:30.386249Z",
     "start_time": "2019-01-23T07:15:27.955545Z"
    }
   },
   "outputs": [
    {
     "data": {
      "application/vnd.jupyter.widget-view+json": {
       "model_id": "c8cc21b2349a475f9bedbfd744f1357d",
       "version_major": 2,
       "version_minor": 0
      },
      "text/html": [
       "<p>Failed to display Jupyter Widget of type <code>HBox</code>.</p>\n",
       "<p>\n",
       "  If you're reading this message in the Jupyter Notebook or JupyterLab Notebook, it may mean\n",
       "  that the widgets JavaScript is still loading. If this message persists, it\n",
       "  likely means that the widgets JavaScript library is either not installed or\n",
       "  not enabled. See the <a href=\"https://ipywidgets.readthedocs.io/en/stable/user_install.html\">Jupyter\n",
       "  Widgets Documentation</a> for setup instructions.\n",
       "</p>\n",
       "<p>\n",
       "  If you're reading this message in another frontend (for example, a static\n",
       "  rendering on GitHub or <a href=\"https://nbviewer.jupyter.org/\">NBViewer</a>),\n",
       "  it may mean that your frontend doesn't currently support widgets.\n",
       "</p>\n"
      ],
      "text/plain": [
       "HBox(children=(IntProgress(value=0, max=8), HTML(value='')))"
      ]
     },
     "metadata": {},
     "output_type": "display_data"
    },
    {
     "name": "stdout",
     "output_type": "stream",
     "text": [
      "\n"
     ]
    }
   ],
   "source": [
    "gtfs_data = {}\n",
    "\n",
    "filenames = os.listdir(gtfs_dir)\n",
    "\n",
    "for filename in tqdm_notebook(filenames):\n",
    "    table_name = filename[:-4]\n",
    "    path = os.path.join(gtfs_dir, filename)\n",
    "    gtfs_data[table_name] = {\n",
    "        \"path\": path,\n",
    "    }\n",
    "\n",
    "    with open(path, encoding='utf-8') as csvfile:\n",
    "        reader = csv.reader(csvfile)\n",
    "        \n",
    "        field_names = next(reader)\n",
    "        gtfs_data[table_name][\"field_names\"] = field_names\n",
    "        \n",
    "#         first_data_row = next(reader)\n",
    "#         field_types = []\n",
    "#         for i, item in enumerate(first_data_row):\n",
    "#             if len(item) == 1:\n",
    "#                 field_types.append(ogr.OFTInteger)\n",
    "#             elif 'lat' in field_names[i] or 'lon' in field_names[i]:\n",
    "#                 field_types.append(ogr.OFTReal)\n",
    "#             else:\n",
    "#                 field_types.append(ogr.OFTString)\n",
    "#         gtfs_data[table_name][\"field_types\"] = field_types\n",
    "        \n",
    "        dict_reader = csv.DictReader(csvfile, fieldnames=field_names)\n",
    "        data = [row for row in dict_reader]\n",
    "        gtfs_data[table_name][\"data\"] = data"
   ]
  },
  {
   "cell_type": "markdown",
   "metadata": {},
   "source": [
    "#### Print the dictionary information for reference"
   ]
  },
  {
   "cell_type": "code",
   "execution_count": 10,
   "metadata": {
    "ExecuteTime": {
     "end_time": "2019-01-23T07:15:40.112585Z",
     "start_time": "2019-01-23T07:15:40.106819Z"
    }
   },
   "outputs": [
    {
     "name": "stdout",
     "output_type": "stream",
     "text": [
      "# table: # field names\n",
      "stops: ['stop_id', 'stop_code', 'stop_name', 'stop_lon', 'stop_lat', 'location_type', 'stop_display', 'stop_abribus']\n",
      "\n",
      "calendar: ['service_id', 'monday', 'tuesday', 'wednesday', 'thursday', 'friday', 'saturday', 'sunday', 'start_date', 'end_date']\n",
      "\n",
      "routes: ['route_id', 'agency_id', 'route_short_name', 'route_long_name', 'route_type', 'route_url', 'route_headsign', 'route_color', 'route_text_color']\n",
      "\n",
      "agency: ['agency_id', 'agency_name', 'agency_url', 'agency_timezone', 'agency_lang']\n",
      "\n",
      "shapes: ['shape_id', 'shape_pt_lat', 'shape_pt_lon', 'shape_pt_sequence']\n",
      "\n",
      "trips: ['route_id', 'service_id', 'trip_id', 'block_id', 'shape_id', 'trip_headsign']\n",
      "\n",
      "calendar_dates: ['service_id', 'date', 'exception_type']\n",
      "\n",
      "stop_times: ['trip_id', 'arrival_time', 'departure_time', 'stop_id', 'stop_sequence', 'pickup_type', 'drop_off_type']\n",
      "\n"
     ]
    }
   ],
   "source": [
    "print('# table: # field names')\n",
    "for key, value in gtfs_data.items():\n",
    "    print('{}: {}\\n'.format(key, value['field_names']))\n",
    "#     print('{}: {}\\n{}\\n'.format(key, value['field_names'], value['field_types']))"
   ]
  },
  {
   "cell_type": "markdown",
   "metadata": {},
   "source": [
    "### Deduplicate the stops file\n",
    "1. Split the stop code from the name\n",
    "2. Check for name uniqueness\n",
    "3. Check for location uniqueness (with proximity tolerance - optional)"
   ]
  },
  {
   "cell_type": "markdown",
   "metadata": {},
   "source": [
    "#### Visualize the stop **names** and **codes** frequency distribution"
   ]
  },
  {
   "cell_type": "code",
   "execution_count": 11,
   "metadata": {
    "ExecuteTime": {
     "end_time": "2019-01-23T07:15:47.836240Z",
     "start_time": "2019-01-23T07:15:47.762543Z"
    }
   },
   "outputs": [
    {
     "data": {
      "application/vnd.jupyter.widget-view+json": {
       "model_id": "e9e6d1f6a56b4e7987a954cd74a21f1d",
       "version_major": 2,
       "version_minor": 0
      },
      "text/html": [
       "<p>Failed to display Jupyter Widget of type <code>HBox</code>.</p>\n",
       "<p>\n",
       "  If you're reading this message in the Jupyter Notebook or JupyterLab Notebook, it may mean\n",
       "  that the widgets JavaScript is still loading. If this message persists, it\n",
       "  likely means that the widgets JavaScript library is either not installed or\n",
       "  not enabled. See the <a href=\"https://ipywidgets.readthedocs.io/en/stable/user_install.html\">Jupyter\n",
       "  Widgets Documentation</a> for setup instructions.\n",
       "</p>\n",
       "<p>\n",
       "  If you're reading this message in another frontend (for example, a static\n",
       "  rendering on GitHub or <a href=\"https://nbviewer.jupyter.org/\">NBViewer</a>),\n",
       "  it may mean that your frontend doesn't currently support widgets.\n",
       "</p>\n"
      ],
      "text/plain": [
       "HBox(children=(IntProgress(value=0, max=5746), HTML(value='')))"
      ]
     },
     "metadata": {},
     "output_type": "display_data"
    },
    {
     "name": "stdout",
     "output_type": "stream",
     "text": [
      "\n"
     ]
    }
   ],
   "source": [
    "stops = gtfs_data['stops']['data']\n",
    "\n",
    "unique_stops = []\n",
    "stop_name_counter = Counter()\n",
    "stop_code_counter = Counter()\n",
    "\n",
    "for stop in tqdm_notebook(stops):\n",
    "    real_name = stop['stop_name'].split('[')[0].strip()\n",
    "    stop_code = stop['stop_code']\n",
    "    stop_name_counter[real_name] += 1\n",
    "    stop_code_counter[stop_code] += 1\n",
    "    \n",
    "names, name_counts = zip(*stop_name_counter.items())\n",
    "codes, code_counts = zip(*stop_code_counter.items())\n",
    "\n",
    "bar_height = 10\n",
    "\n",
    "plot_specs = {\n",
    "    'names': {\n",
    "        'positions': np.arange(len(names)),\n",
    "        'bar_spacing': 2 * np.arange(len(names)) * bar_height,\n",
    "        'labels': names,\n",
    "        'values': name_counts,\n",
    "        'title': 'Distribution of stop names'\n",
    "    },\n",
    "    'codes': {\n",
    "        'positions': np.arange(len(codes)),\n",
    "        'bar_spacing': 2 * np.arange(len(codes)) * bar_height,\n",
    "        'labels': codes,\n",
    "        'values': code_counts,\n",
    "        'title': 'Distribution of stop codes'\n",
    "    }\n",
    "}"
   ]
  },
  {
   "cell_type": "code",
   "execution_count": 12,
   "metadata": {
    "ExecuteTime": {
     "end_time": "2019-01-23T07:15:53.376986Z",
     "start_time": "2019-01-23T07:15:53.373979Z"
    }
   },
   "outputs": [],
   "source": [
    "# # Can't get this to work....moving on\n",
    "\n",
    "# # plt.figure(figsize=(50,30))\n",
    "# plt.rcParams.update({'font.size': 10})\n",
    "\n",
    "# for i, (plot_name, spec) in enumerate(plot_specs.items(), 1):\n",
    "#     plt.subplot(1, 2, i)\n",
    "#     plt.barh(spec['positions'], spec['values'], height=bar_height)\n",
    "#     plt.yticks(spec['bar_spacing'], spec['labels'])\n",
    "#     plt.title(spec['title'])\n",
    "#     plt.autoscale()\n",
    "# plt.tight_layout()\n",
    "# plt.show()"
   ]
  },
  {
   "cell_type": "markdown",
   "metadata": {
    "ExecuteTime": {
     "end_time": "2019-01-12T13:30:29.191793Z",
     "start_time": "2019-01-12T13:30:29.180259Z"
    }
   },
   "source": [
    "#### Create unique stops list"
   ]
  },
  {
   "cell_type": "code",
   "execution_count": 13,
   "metadata": {
    "ExecuteTime": {
     "end_time": "2019-01-23T07:19:33.177355Z",
     "start_time": "2019-01-23T07:15:58.914428Z"
    }
   },
   "outputs": [
    {
     "data": {
      "application/vnd.jupyter.widget-view+json": {
       "model_id": "89d7e95c8dc74f74a869cf46783fefcb",
       "version_major": 2,
       "version_minor": 0
      },
      "text/html": [
       "<p>Failed to display Jupyter Widget of type <code>HBox</code>.</p>\n",
       "<p>\n",
       "  If you're reading this message in the Jupyter Notebook or JupyterLab Notebook, it may mean\n",
       "  that the widgets JavaScript is still loading. If this message persists, it\n",
       "  likely means that the widgets JavaScript library is either not installed or\n",
       "  not enabled. See the <a href=\"https://ipywidgets.readthedocs.io/en/stable/user_install.html\">Jupyter\n",
       "  Widgets Documentation</a> for setup instructions.\n",
       "</p>\n",
       "<p>\n",
       "  If you're reading this message in another frontend (for example, a static\n",
       "  rendering on GitHub or <a href=\"https://nbviewer.jupyter.org/\">NBViewer</a>),\n",
       "  it may mean that your frontend doesn't currently support widgets.\n",
       "</p>\n"
      ],
      "text/plain": [
       "HBox(children=(IntProgress(value=0, max=2773), HTML(value='')))"
      ]
     },
     "metadata": {},
     "output_type": "display_data"
    },
    {
     "name": "stdout",
     "output_type": "stream",
     "text": [
      "\n"
     ]
    }
   ],
   "source": [
    "stops = gtfs_data['stops']['data']\n",
    "\n",
    "# existing_count_laval = 0\n",
    "# existing_count_montreal = 0\n",
    "existing_count_total = 0\n",
    "\n",
    "# Extent\n",
    "multi_point = ogr.Geometry(ogr.wkbMultiPoint)\n",
    "\n",
    "# Dictionary to group stops by unique location\n",
    "unique_locations = defaultdict(list)\n",
    "\n",
    "# List of stops rearranged with uniqueness\n",
    "unique_stops = []\n",
    "\n",
    "# Aggregate unique locations\n",
    "for stop in stops:\n",
    "    unique_locations[(stop['stop_lon'], stop['stop_lat'])].append(stop)\n",
    "\n",
    "# Aggregate attributes using unique locations into new stop objects\n",
    "for i, (unique_location, stops) in enumerate(tqdm_notebook(unique_locations.items()), 1):\n",
    "\n",
    "    ids = list(set([stop['stop_id'] for stop in stops]))\n",
    "    codes = list(set([stop['stop_code'] for stop in stops]))\n",
    "\n",
    "    lon = float(stops[0]['stop_lon'])\n",
    "    lat = float(stops[0]['stop_lat'])\n",
    "\n",
    "    # Create point to add to MultiPoint (for JOSM extent later...)\n",
    "    point = ogr.Geometry(ogr.wkbPoint)\n",
    "    point.AddPoint(lon, lat)\n",
    "    multi_point.AddGeometry(point)\n",
    "\n",
    "    # Create the unique stop according to JOSM format\n",
    "    action = None\n",
    "\n",
    "    # While checking for:\n",
    "    # 1. What city it is ine\n",
    "    # 2. If a node with the same geometry already exists in OSM\n",
    "    # 2.1 If node is in Laval, replace the tags\n",
    "    # 2.2 If node is in Montreal, append, code and name tags\n",
    "\n",
    "    # Get the city of the GTFS stop\n",
    "    city = None\n",
    "    for city_name, city_geom in boundaries.items():\n",
    "        if point.Intersects(city_geom):\n",
    "            city = city_name\n",
    "\n",
    "    osm_id = None\n",
    "    osm_lat = None\n",
    "    osm_lon = None\n",
    "\n",
    "    # Determine if node already exists\n",
    "    for existing_stop in existing_stops:\n",
    "        existing_point = ogr.Geometry(ogr.wkbPoint)\n",
    "        existing_point.AddPoint(\n",
    "            float(existing_stop['lon']), float(existing_stop['lat']))\n",
    "\n",
    "        if point.Equals(existing_point):\n",
    "            #             print('Equal point found')\n",
    "            existing_count_total += 1\n",
    "\n",
    "            osm_id = existing_stop['id']\n",
    "            osm_lat = existing_stop['lat']\n",
    "            osm_lon = existing_stop['lon']\n",
    "            action = 'modify'\n",
    "\n",
    "#             print(osm_id)\n",
    "        else:\n",
    "            osm_id = str(i * -1)\n",
    "            osm_lat = str(lat)\n",
    "            osm_lon = str(lon)\n",
    "\n",
    "    unique_stop = {\n",
    "        # props\n",
    "        'props': {\n",
    "            'id': osm_id,\n",
    "            'lon': osm_lon,\n",
    "            'lat': osm_lat,\n",
    "        },\n",
    "        # tags\n",
    "        'tags': {\n",
    "            'bus': 'yes',\n",
    "            'highway': 'bus_stop',\n",
    "            'name': stops[0]['stop_name'].split('[')[0].strip(),\n",
    "            'public_transport': 'platform',\n",
    "            'ref': ';'.join(codes),\n",
    "            'shelter': 'yes' if stops[0]['stop_abribus'] == '1' else 'no',\n",
    "        },\n",
    "        \"geom\": point,\n",
    "        # GTFS fields\n",
    "        \"gtfs_props\": {\n",
    "            'stop_id': ','.join(ids),\n",
    "            'stop_code': ','.join(codes),\n",
    "            'stop_name': stops[0]['stop_name'].split('[')[0].strip(),\n",
    "            'stop_lon': lon,\n",
    "            'stop_lat': lat,\n",
    "            'location_type': stops[0]['location_type'],\n",
    "            'stop_display': stops[0]['stop_display'],\n",
    "            'stop_abribus': stops[0]['stop_abribus'],\n",
    "        }\n",
    "    }\n",
    "    if action:\n",
    "        unique_stop['props']['action'] = action\n",
    "        \n",
    "    unique_stops.append(unique_stop)"
   ]
  },
  {
   "cell_type": "markdown",
   "metadata": {},
   "source": [
    "#### Merge stops by proximity (tolerance)"
   ]
  },
  {
   "cell_type": "code",
   "execution_count": 14,
   "metadata": {
    "ExecuteTime": {
     "end_time": "2019-01-23T07:20:51.908748Z",
     "start_time": "2019-01-23T07:20:49.428419Z"
    }
   },
   "outputs": [],
   "source": [
    "buffer_distance = 2  # meter\n",
    "multi_point_utm = reproject_geometry(multi_point.Clone(), 4326, 32618)\n",
    "buffered_points = multi_point_utm.Buffer(5)\n",
    "buffered_points_dissolved = buffered_points.UnionCascaded()\n",
    "buffered_points_dissolved_geo = reproject_geometry(buffered_points_dissolved.Clone(), 32618, 4326)\n",
    "\n",
    "buffers_file = os.path.join(output_dir, 'buffers.geojson')\n",
    "write_geometry_to_geojson(buffered_points_dissolved_geo, buffers_file)\n",
    "\n",
    "stops_file = os.path.join(output_dir, 'gtfs_stops.geojson')\n",
    "dict_to_geojson(unique_stops, stops_file, 'geom', fields_key='gtfs_props', epsg_id=4326)"
   ]
  },
  {
   "cell_type": "code",
   "execution_count": 15,
   "metadata": {
    "ExecuteTime": {
     "end_time": "2019-01-23T07:22:25.546789Z",
     "start_time": "2019-01-23T07:21:01.558758Z"
    }
   },
   "outputs": [
    {
     "data": {
      "application/vnd.jupyter.widget-view+json": {
       "model_id": "92ffb39476e141f2a879756bbbc06bbe",
       "version_major": 2,
       "version_minor": 0
      },
      "text/html": [
       "<p>Failed to display Jupyter Widget of type <code>HBox</code>.</p>\n",
       "<p>\n",
       "  If you're reading this message in the Jupyter Notebook or JupyterLab Notebook, it may mean\n",
       "  that the widgets JavaScript is still loading. If this message persists, it\n",
       "  likely means that the widgets JavaScript library is either not installed or\n",
       "  not enabled. See the <a href=\"https://ipywidgets.readthedocs.io/en/stable/user_install.html\">Jupyter\n",
       "  Widgets Documentation</a> for setup instructions.\n",
       "</p>\n",
       "<p>\n",
       "  If you're reading this message in another frontend (for example, a static\n",
       "  rendering on GitHub or <a href=\"https://nbviewer.jupyter.org/\">NBViewer</a>),\n",
       "  it may mean that your frontend doesn't currently support widgets.\n",
       "</p>\n"
      ],
      "text/plain": [
       "HBox(children=(IntProgress(value=1, bar_style='info', max=1), HTML(value='')))"
      ]
     },
     "metadata": {},
     "output_type": "display_data"
    },
    {
     "name": "stdout",
     "output_type": "stream",
     "text": [
      "\n",
      "Unique stops before merge: 2773\n",
      "Unique stops after merge: 2681\n"
     ]
    }
   ],
   "source": [
    "unique_stops_merged = []\n",
    "\n",
    "for i, buffer in tqdm_notebook(enumerate(buffered_points_dissolved_geo)):\n",
    "    stops_to_merge = []\n",
    "    for stop in unique_stops:\n",
    "        if stop['geom'].Within(buffer):\n",
    "            stops_to_merge.append(stop)\n",
    "            \n",
    "    if len(stops_to_merge) > 1:\n",
    "        new_stop = stops_to_merge[0].copy()\n",
    "        merged_codes = []\n",
    "        merged_ids = []\n",
    "        \n",
    "        for stop_to_merge in stops_to_merge:\n",
    "            merged_codes.extend(stop_to_merge['gtfs_props']['stop_code'].split(','))\n",
    "            merged_ids.extend(stop_to_merge['gtfs_props']['stop_id'].split(','))\n",
    "            \n",
    "            # Copy the first stop in the list and update the keys\n",
    "            new_stop['gtfs_props']['stop_code'] = ','.join(merged_codes)\n",
    "            new_stop['gtfs_props']['stop_id'] = ','.join(merged_ids)\n",
    "            new_stop['tags']['ref'] = ';'.join(merged_codes)\n",
    "            \n",
    "        unique_stops_merged.append(new_stop)\n",
    "        \n",
    "    if len(stops_to_merge) == 1:\n",
    "        unique_stops_merged.append(stops_to_merge[0])\n",
    "            \n",
    "print('Unique stops before merge: {}'.format(len(unique_stops)))\n",
    "print('Unique stops after merge: {}'.format(len(unique_stops_merged)))\n",
    "                "
   ]
  },
  {
   "cell_type": "code",
   "execution_count": 16,
   "metadata": {
    "ExecuteTime": {
     "end_time": "2019-01-23T07:22:35.568159Z",
     "start_time": "2019-01-23T07:22:35.434217Z"
    }
   },
   "outputs": [],
   "source": [
    "unique_stops_merged_file = os.path.join(output_dir, 'unique_stops_merged.geojson')\n",
    "dict_to_geojson(unique_stops_merged, unique_stops_merged_file, 'geom', 'gtfs_props', 4326)"
   ]
  },
  {
   "cell_type": "markdown",
   "metadata": {},
   "source": [
    "### Consolidate GTFS routes"
   ]
  },
  {
   "cell_type": "code",
   "execution_count": 45,
   "metadata": {
    "ExecuteTime": {
     "end_time": "2019-01-23T08:07:39.189251Z",
     "start_time": "2019-01-23T08:07:39.186134Z"
    }
   },
   "outputs": [],
   "source": [
    "routes_data = gtfs_data['routes']['data']\n",
    "stop_times_data = gtfs_data['stop_times']['data']\n",
    "trips_data = gtfs_data['trips']['data']"
   ]
  },
  {
   "cell_type": "code",
   "execution_count": 46,
   "metadata": {
    "ExecuteTime": {
     "end_time": "2019-01-23T08:07:48.928293Z",
     "start_time": "2019-01-23T08:07:48.922575Z"
    }
   },
   "outputs": [],
   "source": [
    "# Find all trips for a route\n",
    "route_trips = defaultdict(set)\n",
    "\n",
    "for trip in trips_data:\n",
    "    route_trips[trip['route_id']].add(trip['trip_id'])"
   ]
  },
  {
   "cell_type": "code",
   "execution_count": 47,
   "metadata": {
    "ExecuteTime": {
     "end_time": "2019-01-23T08:08:52.954130Z",
     "start_time": "2019-01-23T08:08:52.480852Z"
    }
   },
   "outputs": [
    {
     "data": {
      "application/vnd.jupyter.widget-view+json": {
       "model_id": "c97ae4422b524f72899d23c42f1d6fb1",
       "version_major": 2,
       "version_minor": 0
      },
      "text/html": [
       "<p>Failed to display Jupyter Widget of type <code>HBox</code>.</p>\n",
       "<p>\n",
       "  If you're reading this message in the Jupyter Notebook or JupyterLab Notebook, it may mean\n",
       "  that the widgets JavaScript is still loading. If this message persists, it\n",
       "  likely means that the widgets JavaScript library is either not installed or\n",
       "  not enabled. See the <a href=\"https://ipywidgets.readthedocs.io/en/stable/user_install.html\">Jupyter\n",
       "  Widgets Documentation</a> for setup instructions.\n",
       "</p>\n",
       "<p>\n",
       "  If you're reading this message in another frontend (for example, a static\n",
       "  rendering on GitHub or <a href=\"https://nbviewer.jupyter.org/\">NBViewer</a>),\n",
       "  it may mean that your frontend doesn't currently support widgets.\n",
       "</p>\n"
      ],
      "text/plain": [
       "HBox(children=(IntProgress(value=0, max=667586), HTML(value='')))"
      ]
     },
     "metadata": {},
     "output_type": "display_data"
    },
    {
     "name": "stdout",
     "output_type": "stream",
     "text": [
      "\n"
     ]
    }
   ],
   "source": [
    "# Count the number of stops per trip\n",
    "stops_counter = Counter()\n",
    "\n",
    "for stop_time in tqdm_notebook(stop_times_data):\n",
    "    stops_counter[stop_time['trip_id']] += 1\n",
    "\n",
    "stops_counter = dict(stops_counter)"
   ]
  },
  {
   "cell_type": "code",
   "execution_count": 48,
   "metadata": {
    "ExecuteTime": {
     "end_time": "2019-01-23T08:09:03.082440Z",
     "start_time": "2019-01-23T08:09:02.639876Z"
    }
   },
   "outputs": [
    {
     "data": {
      "application/vnd.jupyter.widget-view+json": {
       "model_id": "bca70750d3ea49228d433e56630212fd",
       "version_major": 2,
       "version_minor": 0
      },
      "text/html": [
       "<p>Failed to display Jupyter Widget of type <code>HBox</code>.</p>\n",
       "<p>\n",
       "  If you're reading this message in the Jupyter Notebook or JupyterLab Notebook, it may mean\n",
       "  that the widgets JavaScript is still loading. If this message persists, it\n",
       "  likely means that the widgets JavaScript library is either not installed or\n",
       "  not enabled. See the <a href=\"https://ipywidgets.readthedocs.io/en/stable/user_install.html\">Jupyter\n",
       "  Widgets Documentation</a> for setup instructions.\n",
       "</p>\n",
       "<p>\n",
       "  If you're reading this message in another frontend (for example, a static\n",
       "  rendering on GitHub or <a href=\"https://nbviewer.jupyter.org/\">NBViewer</a>),\n",
       "  it may mean that your frontend doesn't currently support widgets.\n",
       "</p>\n"
      ],
      "text/plain": [
       "HBox(children=(IntProgress(value=0, max=178), HTML(value='')))"
      ]
     },
     "metadata": {},
     "output_type": "display_data"
    },
    {
     "name": "stdout",
     "output_type": "stream",
     "text": [
      "\n"
     ]
    }
   ],
   "source": [
    "# Find the longest trip per route\n",
    "longest_route_trips = []\n",
    "\n",
    "for route_id, trip_ids in tqdm_notebook(route_trips.items()):\n",
    "    trips = []\n",
    "    \n",
    "    for trip_id, stop_count in stops_counter.items():\n",
    "        if trip_id in trip_ids:\n",
    "            trips.append((trip_id, stop_count))\n",
    "            \n",
    "    trips.sort(key=itemgetter(1), reverse=True)\n",
    "    \n",
    "    longest_route_trips.append({\n",
    "        \"route_id\": route_id,\n",
    "        \"trip_id\": trips[0][0],\n",
    "        \"stops_count\": trips[0][1]\n",
    "    })"
   ]
  },
  {
   "cell_type": "code",
   "execution_count": 49,
   "metadata": {
    "ExecuteTime": {
     "end_time": "2019-01-23T08:09:12.620923Z",
     "start_time": "2019-01-23T08:09:12.616763Z"
    }
   },
   "outputs": [
    {
     "data": {
      "text/plain": [
       "{'route_id': 'AOUT1840O',\n",
       " 'stops_count': 37,\n",
       " 'trip_id': 'AOUT1840O1L14508350027'}"
      ]
     },
     "execution_count": 49,
     "metadata": {},
     "output_type": "execute_result"
    }
   ],
   "source": [
    "longest_route_trips[0]"
   ]
  },
  {
   "cell_type": "code",
   "execution_count": 50,
   "metadata": {
    "ExecuteTime": {
     "end_time": "2019-01-23T08:10:13.049422Z",
     "start_time": "2019-01-23T08:10:01.064024Z"
    }
   },
   "outputs": [
    {
     "data": {
      "application/vnd.jupyter.widget-view+json": {
       "model_id": "ea29bad86c124fcea9eed44d9c49ce95",
       "version_major": 2,
       "version_minor": 0
      },
      "text/html": [
       "<p>Failed to display Jupyter Widget of type <code>HBox</code>.</p>\n",
       "<p>\n",
       "  If you're reading this message in the Jupyter Notebook or JupyterLab Notebook, it may mean\n",
       "  that the widgets JavaScript is still loading. If this message persists, it\n",
       "  likely means that the widgets JavaScript library is either not installed or\n",
       "  not enabled. See the <a href=\"https://ipywidgets.readthedocs.io/en/stable/user_install.html\">Jupyter\n",
       "  Widgets Documentation</a> for setup instructions.\n",
       "</p>\n",
       "<p>\n",
       "  If you're reading this message in another frontend (for example, a static\n",
       "  rendering on GitHub or <a href=\"https://nbviewer.jupyter.org/\">NBViewer</a>),\n",
       "  it may mean that your frontend doesn't currently support widgets.\n",
       "</p>\n"
      ],
      "text/plain": [
       "HBox(children=(IntProgress(value=0, max=178), HTML(value='')))"
      ]
     },
     "metadata": {},
     "output_type": "display_data"
    },
    {
     "name": "stdout",
     "output_type": "stream",
     "text": [
      "\n"
     ]
    }
   ],
   "source": [
    "# Add the stop ids to the longest route\n",
    "for longest_trip in tqdm_notebook(longest_route_trips):\n",
    "    trip_id = longest_trip['trip_id']\n",
    "    stops = []\n",
    "    \n",
    "    for stop_time in stop_times_data:\n",
    "        if stop_time['trip_id'] == trip_id:\n",
    "            stops.append({\n",
    "                \"gtfs_id\": stop_time['stop_id'],\n",
    "                \"sequence\": int(stop_time['stop_sequence'])\n",
    "            })\n",
    "            \n",
    "    stops.sort(key=itemgetter('sequence'))\n",
    "    longest_trip['stops'] = stops"
   ]
  },
  {
   "cell_type": "code",
   "execution_count": 51,
   "metadata": {
    "ExecuteTime": {
     "end_time": "2019-01-23T08:10:22.691059Z",
     "start_time": "2019-01-23T08:10:22.686057Z"
    }
   },
   "outputs": [
    {
     "data": {
      "text/plain": [
       "{'route_id': 'AOUT1840O',\n",
       " 'stops': [{'gtfs_id': 'AOUT18CP48040', 'sequence': 1},\n",
       "  {'gtfs_id': 'AOUT1843343', 'sequence': 2},\n",
       "  {'gtfs_id': 'AOUT1843146', 'sequence': 3},\n",
       "  {'gtfs_id': 'AOUT1843145', 'sequence': 4},\n",
       "  {'gtfs_id': 'AOUT1843143', 'sequence': 5},\n",
       "  {'gtfs_id': 'AOUT1843438', 'sequence': 6},\n",
       "  {'gtfs_id': 'AOUT1843139', 'sequence': 7},\n",
       "  {'gtfs_id': 'AOUT1843136', 'sequence': 8},\n",
       "  {'gtfs_id': 'AOUT1843134', 'sequence': 9},\n",
       "  {'gtfs_id': 'AOUT1843132', 'sequence': 10},\n",
       "  {'gtfs_id': 'AOUT1843130', 'sequence': 11},\n",
       "  {'gtfs_id': 'AOUT1843128', 'sequence': 12},\n",
       "  {'gtfs_id': 'AOUT1843125', 'sequence': 13},\n",
       "  {'gtfs_id': 'AOUT18CP43123', 'sequence': 14},\n",
       "  {'gtfs_id': 'AOUT1843121', 'sequence': 15},\n",
       "  {'gtfs_id': 'AOUT1843119', 'sequence': 16},\n",
       "  {'gtfs_id': 'AOUT1843117', 'sequence': 17},\n",
       "  {'gtfs_id': 'AOUT1843115', 'sequence': 18},\n",
       "  {'gtfs_id': 'AOUT1843113', 'sequence': 19},\n",
       "  {'gtfs_id': 'AOUT1843111', 'sequence': 20},\n",
       "  {'gtfs_id': 'AOUT1843109', 'sequence': 21},\n",
       "  {'gtfs_id': 'AOUT1843107', 'sequence': 22},\n",
       "  {'gtfs_id': 'AOUT1843158', 'sequence': 23},\n",
       "  {'gtfs_id': 'AOUT1843156', 'sequence': 24},\n",
       "  {'gtfs_id': 'AOUT1843138', 'sequence': 25},\n",
       "  {'gtfs_id': 'AOUT1846408', 'sequence': 26},\n",
       "  {'gtfs_id': 'AOUT1841313', 'sequence': 27},\n",
       "  {'gtfs_id': 'AOUT1846409', 'sequence': 28},\n",
       "  {'gtfs_id': 'AOUT1846441', 'sequence': 29},\n",
       "  {'gtfs_id': 'AOUT1846410', 'sequence': 30},\n",
       "  {'gtfs_id': 'AOUT1846432', 'sequence': 31},\n",
       "  {'gtfs_id': 'AOUT18CP43392', 'sequence': 32},\n",
       "  {'gtfs_id': 'AOUT1843393', 'sequence': 33},\n",
       "  {'gtfs_id': 'AOUT1843394', 'sequence': 34},\n",
       "  {'gtfs_id': 'AOUT1843395', 'sequence': 35},\n",
       "  {'gtfs_id': 'AOUT1843396', 'sequence': 36},\n",
       "  {'gtfs_id': 'AOUT18CP49040', 'sequence': 37}],\n",
       " 'stops_count': 37,\n",
       " 'trip_id': 'AOUT1840O1L14508350027'}"
      ]
     },
     "execution_count": 51,
     "metadata": {},
     "output_type": "execute_result"
    }
   ],
   "source": [
    "longest_route_trips[0]"
   ]
  },
  {
   "cell_type": "code",
   "execution_count": 52,
   "metadata": {
    "ExecuteTime": {
     "end_time": "2019-01-23T08:10:32.387599Z",
     "start_time": "2019-01-23T08:10:32.343452Z"
    }
   },
   "outputs": [
    {
     "name": "stdout",
     "output_type": "stream",
     "text": [
      "178\n"
     ]
    },
    {
     "data": {
      "application/vnd.jupyter.widget-view+json": {
       "model_id": "581a739ff5bb494db54a835d3df93096",
       "version_major": 2,
       "version_minor": 0
      },
      "text/html": [
       "<p>Failed to display Jupyter Widget of type <code>HBox</code>.</p>\n",
       "<p>\n",
       "  If you're reading this message in the Jupyter Notebook or JupyterLab Notebook, it may mean\n",
       "  that the widgets JavaScript is still loading. If this message persists, it\n",
       "  likely means that the widgets JavaScript library is either not installed or\n",
       "  not enabled. See the <a href=\"https://ipywidgets.readthedocs.io/en/stable/user_install.html\">Jupyter\n",
       "  Widgets Documentation</a> for setup instructions.\n",
       "</p>\n",
       "<p>\n",
       "  If you're reading this message in another frontend (for example, a static\n",
       "  rendering on GitHub or <a href=\"https://nbviewer.jupyter.org/\">NBViewer</a>),\n",
       "  it may mean that your frontend doesn't currently support widgets.\n",
       "</p>\n"
      ],
      "text/plain": [
       "HBox(children=(IntProgress(value=0, max=178), HTML(value='')))"
      ]
     },
     "metadata": {},
     "output_type": "display_data"
    },
    {
     "name": "stdout",
     "output_type": "stream",
     "text": [
      "37\n",
      "19\n",
      "26\n",
      "59\n",
      "58\n",
      "44\n",
      "34\n",
      "68\n",
      "18\n",
      "48\n",
      "55\n",
      "24\n",
      "37\n",
      "67\n",
      "101\n",
      "85\n",
      "56\n",
      "93\n",
      "63\n",
      "52\n",
      "66\n",
      "28\n",
      "72\n",
      "43\n",
      "101\n",
      "34\n",
      "72\n",
      "58\n",
      "20\n",
      "57\n",
      "67\n",
      "58\n",
      "72\n",
      "59\n",
      "63\n",
      "91\n",
      "71\n",
      "55\n",
      "73\n",
      "56\n",
      "68\n",
      "20\n",
      "56\n",
      "88\n",
      "91\n",
      "58\n",
      "48\n",
      "42\n",
      "56\n",
      "38\n",
      "63\n",
      "54\n",
      "55\n",
      "57\n",
      "52\n",
      "57\n",
      "66\n",
      "54\n",
      "58\n",
      "39\n",
      "10\n",
      "79\n",
      "57\n",
      "43\n",
      "66\n",
      "73\n",
      "73\n",
      "62\n",
      "71\n",
      "53\n",
      "49\n",
      "56\n",
      "50\n",
      "87\n",
      "76\n",
      "52\n",
      "50\n",
      "48\n",
      "74\n",
      "61\n",
      "37\n",
      "51\n",
      "60\n",
      "52\n",
      "57\n",
      "42\n",
      "55\n",
      "74\n",
      "63\n",
      "56\n",
      "107\n",
      "4\n",
      "80\n",
      "37\n",
      "93\n",
      "48\n",
      "107\n",
      "48\n",
      "4\n",
      "61\n",
      "56\n",
      "18\n",
      "54\n",
      "48\n",
      "73\n",
      "76\n",
      "39\n",
      "87\n",
      "54\n",
      "28\n",
      "59\n",
      "93\n",
      "54\n",
      "56\n",
      "19\n",
      "26\n",
      "61\n",
      "74\n",
      "52\n",
      "56\n",
      "66\n",
      "93\n",
      "57\n",
      "72\n",
      "105\n",
      "39\n",
      "52\n",
      "56\n",
      "52\n",
      "58\n",
      "105\n",
      "69\n",
      "44\n",
      "48\n",
      "62\n",
      "52\n",
      "61\n",
      "60\n",
      "51\n",
      "53\n",
      "56\n",
      "34\n",
      "49\n",
      "20\n",
      "56\n",
      "10\n",
      "52\n",
      "48\n",
      "37\n",
      "37\n",
      "69\n",
      "58\n",
      "24\n",
      "37\n",
      "80\n",
      "39\n",
      "88\n",
      "37\n",
      "55\n",
      "54\n",
      "106\n",
      "20\n",
      "52\n",
      "106\n",
      "62\n",
      "59\n",
      "62\n",
      "53\n",
      "79\n",
      "50\n",
      "50\n",
      "74\n",
      "38\n",
      "55\n",
      "58\n",
      "39\n",
      "53\n",
      "85\n",
      "\n"
     ]
    }
   ],
   "source": [
    "print(len(longest_route_trips))\n",
    "for longest_route in tqdm_notebook(longest_route_trips):\n",
    "    print(len(longest_route['stops']))"
   ]
  },
  {
   "cell_type": "code",
   "execution_count": 53,
   "metadata": {
    "ExecuteTime": {
     "end_time": "2019-01-23T08:11:23.585969Z",
     "start_time": "2019-01-23T08:10:56.242108Z"
    }
   },
   "outputs": [
    {
     "data": {
      "application/vnd.jupyter.widget-view+json": {
       "model_id": "e9b4355d033b4f6e9531647accd5ed38",
       "version_major": 2,
       "version_minor": 0
      },
      "text/html": [
       "<p>Failed to display Jupyter Widget of type <code>HBox</code>.</p>\n",
       "<p>\n",
       "  If you're reading this message in the Jupyter Notebook or JupyterLab Notebook, it may mean\n",
       "  that the widgets JavaScript is still loading. If this message persists, it\n",
       "  likely means that the widgets JavaScript library is either not installed or\n",
       "  not enabled. See the <a href=\"https://ipywidgets.readthedocs.io/en/stable/user_install.html\">Jupyter\n",
       "  Widgets Documentation</a> for setup instructions.\n",
       "</p>\n",
       "<p>\n",
       "  If you're reading this message in another frontend (for example, a static\n",
       "  rendering on GitHub or <a href=\"https://nbviewer.jupyter.org/\">NBViewer</a>),\n",
       "  it may mean that your frontend doesn't currently support widgets.\n",
       "</p>\n"
      ],
      "text/plain": [
       "HBox(children=(IntProgress(value=0, max=178), HTML(value='')))"
      ]
     },
     "metadata": {},
     "output_type": "display_data"
    },
    {
     "name": "stdout",
     "output_type": "stream",
     "text": [
      "\n"
     ]
    }
   ],
   "source": [
    "# Map the GTFS stops to the merged unique stops\n",
    "for longest_trip in tqdm_notebook(longest_route_trips):\n",
    "    for gtfs_stop in longest_trip['stops']:\n",
    "        for unique_stop in unique_stops_merged:\n",
    "            unique_stop_ids = unique_stop['gtfs_props']['stop_id'].split(',')\n",
    "            osm_id = unique_stop['props']['id']\n",
    "            name = unique_stop['tags']['name']\n",
    "            if gtfs_stop['gtfs_id'] in unique_stop_ids:\n",
    "                gtfs_stop.update({\n",
    "                    \"osm_id\": osm_id,\n",
    "                    \"name\": name\n",
    "                })"
   ]
  },
  {
   "cell_type": "code",
   "execution_count": 54,
   "metadata": {
    "ExecuteTime": {
     "end_time": "2019-01-23T08:11:40.008895Z",
     "start_time": "2019-01-23T08:11:40.001756Z"
    }
   },
   "outputs": [
    {
     "data": {
      "text/plain": [
       "[{'gtfs_id': 'AOUT18CP48040',\n",
       "  'name': 'Métro Montmorency Quai:9',\n",
       "  'osm_id': '-858',\n",
       "  'sequence': 1},\n",
       " {'gtfs_id': 'AOUT1843343',\n",
       "  'name': \"Du Souvenir / De L'avenir\",\n",
       "  'osm_id': '-146',\n",
       "  'sequence': 2},\n",
       " {'gtfs_id': 'AOUT1843146',\n",
       "  'name': 'Du Souvenir / Le Corbusier',\n",
       "  'osm_id': '-311',\n",
       "  'sequence': 3},\n",
       " {'gtfs_id': 'AOUT1843145',\n",
       "  'name': 'Du Souvenir / Centre Laval',\n",
       "  'osm_id': '-77',\n",
       "  'sequence': 4},\n",
       " {'gtfs_id': 'AOUT1843143',\n",
       "  'name': 'Du Souvenir / Armand-Frappier',\n",
       "  'osm_id': '-202',\n",
       "  'sequence': 5},\n",
       " {'gtfs_id': 'AOUT1843438',\n",
       "  'name': 'Du Souvenir / Daniel-Johnson',\n",
       "  'osm_id': '-2677',\n",
       "  'sequence': 6},\n",
       " {'gtfs_id': 'AOUT1843139',\n",
       "  'name': \"Du Souvenir / Face à L'école Liberty\",\n",
       "  'osm_id': '-1716',\n",
       "  'sequence': 7},\n",
       " {'gtfs_id': 'AOUT1843136',\n",
       "  'name': 'Du Souvenir / Chomedey',\n",
       "  'osm_id': '-1269',\n",
       "  'sequence': 8},\n",
       " {'gtfs_id': 'AOUT1843134',\n",
       "  'name': 'Du Souvenir / Face Au 3475',\n",
       "  'osm_id': '-2120',\n",
       "  'sequence': 9},\n",
       " {'gtfs_id': 'AOUT1843132',\n",
       "  'name': 'Du Souvenir / Pie-X',\n",
       "  'osm_id': '-1099',\n",
       "  'sequence': 10},\n",
       " {'gtfs_id': 'AOUT1843130',\n",
       "  'name': 'Du Souvenir / Lapalme',\n",
       "  'osm_id': '-660',\n",
       "  'sequence': 11},\n",
       " {'gtfs_id': 'AOUT1843128',\n",
       "  'name': 'Du Souvenir / Jolliet',\n",
       "  'osm_id': '-1321',\n",
       "  'sequence': 12},\n",
       " {'gtfs_id': 'AOUT1843125',\n",
       "  'name': 'Du Souvenir / Hébert',\n",
       "  'osm_id': '-2414',\n",
       "  'sequence': 13},\n",
       " {'gtfs_id': 'AOUT18CP43123',\n",
       "  'name': 'Du Souvenir / Curé-Labelle',\n",
       "  'osm_id': '-2473',\n",
       "  'sequence': 14},\n",
       " {'gtfs_id': 'AOUT1843121',\n",
       "  'name': 'Du Souvenir / Du Couvent',\n",
       "  'osm_id': '-1148',\n",
       "  'sequence': 15},\n",
       " {'gtfs_id': 'AOUT1843119',\n",
       "  'name': 'Du Souvenir / Lebrun',\n",
       "  'osm_id': '-230',\n",
       "  'sequence': 16},\n",
       " {'gtfs_id': 'AOUT1843117',\n",
       "  'name': 'Du Souvenir / élisabeth',\n",
       "  'osm_id': '-683',\n",
       "  'sequence': 17},\n",
       " {'gtfs_id': 'AOUT1843115',\n",
       "  'name': 'Du Souvenir / Léo',\n",
       "  'osm_id': '-2454',\n",
       "  'sequence': 18},\n",
       " {'gtfs_id': 'AOUT1843113',\n",
       "  'name': 'Du Souvenir / Webb',\n",
       "  'osm_id': '-861',\n",
       "  'sequence': 19},\n",
       " {'gtfs_id': 'AOUT1843111',\n",
       "  'name': 'Du Souvenir / 100e Avenue',\n",
       "  'osm_id': '-1680',\n",
       "  'sequence': 20},\n",
       " {'gtfs_id': 'AOUT1843109',\n",
       "  'name': 'Du Souvenir / Emerson',\n",
       "  'osm_id': '-595',\n",
       "  'sequence': 21},\n",
       " {'gtfs_id': 'AOUT1843107',\n",
       "  'name': \"Du Souvenir / D'effingham\",\n",
       "  'osm_id': '-731',\n",
       "  'sequence': 22},\n",
       " {'gtfs_id': 'AOUT1843158',\n",
       "  'name': 'Du Souvenir / Bertin',\n",
       "  'osm_id': '-342',\n",
       "  'sequence': 23},\n",
       " {'gtfs_id': 'AOUT1843156',\n",
       "  'name': 'Du Souvenir / Châtelaine',\n",
       "  'osm_id': '-911',\n",
       "  'sequence': 24},\n",
       " {'gtfs_id': 'AOUT1843138',\n",
       "  'name': 'Du Souvenir / Carmel',\n",
       "  'osm_id': '-1208',\n",
       "  'sequence': 25},\n",
       " {'gtfs_id': 'AOUT1846408',\n",
       "  'name': 'Du Souvenir / Face Au 5275',\n",
       "  'osm_id': '-539',\n",
       "  'sequence': 26},\n",
       " {'gtfs_id': 'AOUT1841313',\n",
       "  'name': 'Clarendon / Notre-Dame',\n",
       "  'osm_id': '-2069',\n",
       "  'sequence': 27},\n",
       " {'gtfs_id': 'AOUT1846409',\n",
       "  'name': \"Élodie-Boucher / Face à L'académie étoile Du Nord\",\n",
       "  'osm_id': '-36',\n",
       "  'sequence': 28},\n",
       " {'gtfs_id': 'AOUT1846441',\n",
       "  'name': 'Élodie-Boucher / Derrière Clarins',\n",
       "  'osm_id': '-1977',\n",
       "  'sequence': 29},\n",
       " {'gtfs_id': 'AOUT1846410',\n",
       "  'name': 'Élodie-Boucher / Derrière Ats',\n",
       "  'osm_id': '-755',\n",
       "  'sequence': 30},\n",
       " {'gtfs_id': 'AOUT1846432',\n",
       "  'name': 'Élodie-Boucher / Samson',\n",
       "  'osm_id': '-205',\n",
       "  'sequence': 31},\n",
       " {'gtfs_id': 'AOUT18CP43392',\n",
       "  'name': 'Moreau / Autoroute 13',\n",
       "  'osm_id': '-447',\n",
       "  'sequence': 32},\n",
       " {'gtfs_id': 'AOUT1843393',\n",
       "  'name': 'Moreau / Montgolfier',\n",
       "  'osm_id': '-2356',\n",
       "  'sequence': 33},\n",
       " {'gtfs_id': 'AOUT1843394',\n",
       "  'name': 'Montgolfier / Bertin',\n",
       "  'osm_id': '-2568',\n",
       "  'sequence': 34},\n",
       " {'gtfs_id': 'AOUT1843395',\n",
       "  'name': 'Montgolfier / Grolier',\n",
       "  'osm_id': '-74',\n",
       "  'sequence': 35},\n",
       " {'gtfs_id': 'AOUT1843396',\n",
       "  'name': 'Montgolfier / Binet',\n",
       "  'osm_id': '-42',\n",
       "  'sequence': 36},\n",
       " {'gtfs_id': 'AOUT18CP49040',\n",
       "  'name': 'Montgolfier / Notre-Dame',\n",
       "  'osm_id': '-629',\n",
       "  'sequence': 37}]"
      ]
     },
     "execution_count": 54,
     "metadata": {},
     "output_type": "execute_result"
    }
   ],
   "source": [
    "longest_route_trips[0]['stops']"
   ]
  },
  {
   "cell_type": "code",
   "execution_count": 55,
   "metadata": {
    "ExecuteTime": {
     "end_time": "2019-01-23T08:11:50.852950Z",
     "start_time": "2019-01-23T08:11:50.847833Z"
    }
   },
   "outputs": [],
   "source": [
    "for route in longest_route_trips:\n",
    "    for stop in route['stops']:\n",
    "        if 'name' not in stop:\n",
    "            print('no name')\n",
    "            print(stop)"
   ]
  },
  {
   "cell_type": "markdown",
   "metadata": {},
   "source": [
    "#### Get the route names and other info"
   ]
  },
  {
   "cell_type": "code",
   "execution_count": 56,
   "metadata": {
    "ExecuteTime": {
     "end_time": "2019-01-23T08:12:00.745345Z",
     "start_time": "2019-01-23T08:12:00.703316Z"
    }
   },
   "outputs": [
    {
     "data": {
      "application/vnd.jupyter.widget-view+json": {
       "model_id": "fe8f1b4e94ea4ddfbe8410e6da8f43f6",
       "version_major": 2,
       "version_minor": 0
      },
      "text/html": [
       "<p>Failed to display Jupyter Widget of type <code>HBox</code>.</p>\n",
       "<p>\n",
       "  If you're reading this message in the Jupyter Notebook or JupyterLab Notebook, it may mean\n",
       "  that the widgets JavaScript is still loading. If this message persists, it\n",
       "  likely means that the widgets JavaScript library is either not installed or\n",
       "  not enabled. See the <a href=\"https://ipywidgets.readthedocs.io/en/stable/user_install.html\">Jupyter\n",
       "  Widgets Documentation</a> for setup instructions.\n",
       "</p>\n",
       "<p>\n",
       "  If you're reading this message in another frontend (for example, a static\n",
       "  rendering on GitHub or <a href=\"https://nbviewer.jupyter.org/\">NBViewer</a>),\n",
       "  it may mean that your frontend doesn't currently support widgets.\n",
       "</p>\n"
      ],
      "text/plain": [
       "HBox(children=(IntProgress(value=0, max=178), HTML(value='')))"
      ]
     },
     "metadata": {},
     "output_type": "display_data"
    },
    {
     "name": "stdout",
     "output_type": "stream",
     "text": [
      "\n"
     ]
    }
   ],
   "source": [
    "osm_new_route_id = -10000\n",
    "\n",
    "for i, longest_route in enumerate(tqdm_notebook(longest_route_trips)):\n",
    "    route_id = longest_route['route_id']\n",
    "    route_stops = longest_route['stops']\n",
    "    \n",
    "    first_stop = route_stops[0]['name']\n",
    "    last_stop = route_stops[-1]['name']\n",
    "\n",
    "    loop_route = 'no'\n",
    "\n",
    "    if first_stop == last_stop:\n",
    "        loop_route = 'yes'\n",
    "        print('loop route found')\n",
    "\n",
    "    for route in routes_data:\n",
    "        if route_id == route['route_id']:\n",
    "            osm_new_route_id -= 1\n",
    "            longest_route.update({\n",
    "                \"props\": {\n",
    "                    \"id\": osm_new_route_id\n",
    "                },\n",
    "                \"tags\": {\n",
    "                    \"name\": route['route_long_name'],\n",
    "#                     \"ref\": route[\"route_headsign\"],\n",
    "                    \"ref\": route['route_url'].split('route_id=')[1],\n",
    "                    \"type\": \"route\",\n",
    "                    \"route\": \"bus\",\n",
    "                    \"network\": \"STL\",\n",
    "                    \"operator\": \"STL\",\n",
    "                    \"from\": first_stop,\n",
    "                    \"to\": last_stop,\n",
    "                    \"round_trip\": loop_route,\n",
    "                    \"public_transport:version\": 2\n",
    "                },\n",
    "                \"master_route_ref\": route['route_short_name']\n",
    "            })"
   ]
  },
  {
   "cell_type": "code",
   "execution_count": 57,
   "metadata": {
    "ExecuteTime": {
     "end_time": "2019-01-23T08:12:10.547330Z",
     "start_time": "2019-01-23T08:12:10.541819Z"
    }
   },
   "outputs": [
    {
     "data": {
      "text/plain": [
       "Counter({'12': 4,\n",
       "         '144': 4,\n",
       "         '151': 4,\n",
       "         '17': 4,\n",
       "         '2': 4,\n",
       "         '20': 4,\n",
       "         '22': 4,\n",
       "         '222': 4,\n",
       "         '24': 4,\n",
       "         '252': 4,\n",
       "         '26': 4,\n",
       "         '27': 4,\n",
       "         '31': 4,\n",
       "         '33': 4,\n",
       "         '36': 4,\n",
       "         '360': 2,\n",
       "         '37': 4,\n",
       "         '39': 4,\n",
       "         '40': 4,\n",
       "         '402': 4,\n",
       "         '404': 2,\n",
       "         '41': 4,\n",
       "         '42': 4,\n",
       "         '43': 4,\n",
       "         '45': 4,\n",
       "         '46': 4,\n",
       "         '48': 4,\n",
       "         '50': 4,\n",
       "         '52': 4,\n",
       "         '55': 4,\n",
       "         '56': 4,\n",
       "         '58': 4,\n",
       "         '60': 4,\n",
       "         '61': 4,\n",
       "         '63': 4,\n",
       "         '65': 4,\n",
       "         '66': 4,\n",
       "         '70': 4,\n",
       "         '73': 4,\n",
       "         '74': 4,\n",
       "         '76': 4,\n",
       "         '901': 4,\n",
       "         '902': 4,\n",
       "         '903': 4,\n",
       "         '925': 4,\n",
       "         '942': 2})"
      ]
     },
     "execution_count": 57,
     "metadata": {},
     "output_type": "execute_result"
    }
   ],
   "source": [
    "# Sometimes the routes file containes unique ids for trimesters\n",
    "\n",
    "route_ref_counter = Counter()\n",
    "\n",
    "for longest_route in longest_route_trips:\n",
    "    route_ref_counter[longest_route['master_route_ref']] += 1\n",
    "\n",
    "route_ref_counter"
   ]
  },
  {
   "cell_type": "code",
   "execution_count": 58,
   "metadata": {
    "ExecuteTime": {
     "end_time": "2019-01-23T08:36:47.946518Z",
     "start_time": "2019-01-23T08:36:47.942646Z"
    }
   },
   "outputs": [
    {
     "data": {
      "text/plain": [
       "46"
      ]
     },
     "execution_count": 58,
     "metadata": {},
     "output_type": "execute_result"
    }
   ],
   "source": [
    "len(route_ref_counter.keys())"
   ]
  },
  {
   "cell_type": "code",
   "execution_count": 59,
   "metadata": {
    "ExecuteTime": {
     "end_time": "2019-01-23T08:36:57.800479Z",
     "start_time": "2019-01-23T08:36:57.797418Z"
    }
   },
   "outputs": [
    {
     "data": {
      "text/plain": [
       "178"
      ]
     },
     "execution_count": 59,
     "metadata": {},
     "output_type": "execute_result"
    }
   ],
   "source": [
    "sum(route_ref_counter.values())"
   ]
  },
  {
   "cell_type": "code",
   "execution_count": 60,
   "metadata": {
    "ExecuteTime": {
     "end_time": "2019-01-23T08:38:35.366804Z",
     "start_time": "2019-01-23T08:38:35.362100Z"
    }
   },
   "outputs": [],
   "source": [
    "# need to reduce to 2 routes per ref max\n",
    "aggregate_longest_routes = defaultdict(list)\n",
    "\n",
    "for longest_route in longest_route_trips:\n",
    "    ref = longest_route['master_route_ref']\n",
    "    aggregate_longest_routes[ref].append(longest_route)"
   ]
  },
  {
   "cell_type": "code",
   "execution_count": 61,
   "metadata": {
    "ExecuteTime": {
     "end_time": "2019-01-23T08:38:45.148789Z",
     "start_time": "2019-01-23T08:38:45.145982Z"
    }
   },
   "outputs": [
    {
     "data": {
      "text/plain": [
       "dict_keys(['901', '36', '144', '12', '76', '56', '942', '2', '66', '45', '46', '40', '26', '52', '902', '925', '31', '37', '24', '60', '222', '50', '73', '404', '74', '27', '55', '61', '151', '58', '70', '43', '41', '252', '33', '360', '20', '48', '65', '903', '63', '402', '22', '17', '39', '42'])"
      ]
     },
     "execution_count": 61,
     "metadata": {},
     "output_type": "execute_result"
    }
   ],
   "source": [
    "aggregate_longest_routes.keys()"
   ]
  },
  {
   "cell_type": "code",
   "execution_count": 62,
   "metadata": {
    "ExecuteTime": {
     "end_time": "2019-01-23T08:38:54.968716Z",
     "start_time": "2019-01-23T08:38:54.954509Z"
    }
   },
   "outputs": [],
   "source": [
    "# for ref, routes in aggregate_longest_routes.items():\n",
    "# #     route_ids = [route['route_id'] for route in routes]\n",
    "# #     print(ref, route_ids)\n",
    "    \n",
    "#     a_routes = []\n",
    "#     j_routes = []\n",
    "    \n",
    "#     for route in routes:\n",
    "#         if route['route_id'].startswith('A'):\n",
    "#             a_routes.append(route)\n",
    "#         else:\n",
    "#             j_routes.append(route)\n",
    "            \n",
    "#     for a_route in a_routes:\n",
    "#         print('a routes:')\n",
    "#         print(len(a_route['stops']))\n",
    "#     for j_route in j_routes:\n",
    "#         print('j routes:')\n",
    "#         print(len(j_route['stops']))\n",
    "\n",
    "\n",
    "# Delete August routes\n",
    "filtered_routes = defaultdict(list)\n",
    "for ref, routes in aggregate_longest_routes.items():\n",
    "    if len(routes) == 4:\n",
    "        for route in routes:\n",
    "            if route['route_id'].startswith('J'):\n",
    "                filtered_routes[ref].append(route)\n",
    "    else:\n",
    "        for route in routes:\n",
    "            filtered_routes[ref].append(route)"
   ]
  },
  {
   "cell_type": "code",
   "execution_count": 63,
   "metadata": {
    "ExecuteTime": {
     "end_time": "2019-01-23T08:39:04.947069Z",
     "start_time": "2019-01-23T08:39:04.936186Z"
    }
   },
   "outputs": [
    {
     "name": "stdout",
     "output_type": "stream",
     "text": [
      "901 2\n",
      "36 2\n",
      "144 2\n",
      "12 2\n",
      "76 2\n",
      "56 2\n",
      "942 2\n",
      "65 2\n",
      "2 2\n",
      "66 2\n",
      "45 2\n",
      "46 2\n",
      "40 2\n",
      "26 2\n",
      "52 2\n",
      "902 2\n",
      "925 2\n",
      "31 2\n",
      "37 2\n",
      "33 2\n",
      "222 2\n",
      "50 2\n",
      "73 2\n",
      "404 2\n",
      "74 2\n",
      "27 2\n",
      "55 2\n",
      "61 2\n",
      "151 2\n",
      "58 2\n",
      "70 2\n",
      "43 2\n",
      "41 2\n",
      "252 2\n",
      "24 2\n",
      "360 2\n",
      "20 2\n",
      "48 2\n",
      "60 2\n",
      "903 2\n",
      "63 2\n",
      "402 2\n",
      "22 2\n",
      "17 2\n",
      "39 2\n",
      "42 2\n",
      "46\n"
     ]
    }
   ],
   "source": [
    "for ref, routes in filtered_routes.items():\n",
    "    print(ref, len(routes))\n",
    "\n",
    "print(len(filtered_routes.keys()))"
   ]
  },
  {
   "cell_type": "code",
   "execution_count": 64,
   "metadata": {
    "ExecuteTime": {
     "end_time": "2019-01-23T08:41:21.327981Z",
     "start_time": "2019-01-23T08:41:21.325683Z"
    }
   },
   "outputs": [],
   "source": [
    "# master_routes = defaultdict(list)\n",
    "\n",
    "# for route in routes_data:\n",
    "#     if route['route_id'].startswith('J'):\n",
    "#         master_routes[route['route_short_name']].append(route)"
   ]
  },
  {
   "cell_type": "code",
   "execution_count": 65,
   "metadata": {
    "ExecuteTime": {
     "end_time": "2019-01-23T08:41:31.144965Z",
     "start_time": "2019-01-23T08:41:31.143037Z"
    }
   },
   "outputs": [],
   "source": [
    "# master_routes"
   ]
  },
  {
   "cell_type": "code",
   "execution_count": 66,
   "metadata": {
    "ExecuteTime": {
     "end_time": "2019-01-23T08:41:40.898362Z",
     "start_time": "2019-01-23T08:41:40.893986Z"
    }
   },
   "outputs": [],
   "source": [
    "route_relations = []\n",
    "route_master_relations = []"
   ]
  },
  {
   "cell_type": "code",
   "execution_count": 67,
   "metadata": {
    "ExecuteTime": {
     "end_time": "2019-01-23T08:41:50.648347Z",
     "start_time": "2019-01-23T08:41:50.601961Z"
    }
   },
   "outputs": [
    {
     "name": "stdout",
     "output_type": "stream",
     "text": [
      "Start and End have same name...\n",
      "Start and End have same name...\n"
     ]
    }
   ],
   "source": [
    "osm_new_master_route_id = -100000\n",
    "\n",
    "for ref, routes in filtered_routes.items():\n",
    "    osm_new_master_route_id -= 1\n",
    "    names = set()\n",
    "    members = []\n",
    "#     route_ids = []\n",
    "    for route in routes:\n",
    "        for gtfs_route in routes_data:\n",
    "            if route['route_id'] == gtfs_route['route_id']:\n",
    "                names.add(gtfs_route['route_long_name'].split('Direction')[1].strip())\n",
    "#                 route_ids.append(route['route_id'])\n",
    "\n",
    "        member = {\n",
    "            \"props\": {\n",
    "                \"type\": 'relation',\n",
    "                \"ref\": route[\"props\"][\"id\"],\n",
    "                \"role\": ''\n",
    "            }\n",
    "        }\n",
    "        members.append(member)\n",
    "\n",
    "    names = list(names)\n",
    "\n",
    "    if len(names) == 2:\n",
    "        name = '{} - {}'.format(names[0], names[1])\n",
    "    elif len(names) == 1:\n",
    "        name = names[0]\n",
    "        print('Start and End have same name...')\n",
    "    else:\n",
    "        print('error')\n",
    "\n",
    "    route_master_relation = {\n",
    "        \"props\": {\n",
    "            \"id\": osm_new_master_route_id\n",
    "        },\n",
    "        \"tags\": {\n",
    "            \"name\": name,\n",
    "            \"ref\": ref,\n",
    "            \"network\": 'STL',\n",
    "            \"operator\": 'STL',\n",
    "            \"type\": \"route_master\",\n",
    "            \"public_transport:version\": 2\n",
    "        },\n",
    "        \"members\": members\n",
    "    }\n",
    "    route_master_relations.append(route_master_relation)"
   ]
  },
  {
   "cell_type": "code",
   "execution_count": 68,
   "metadata": {
    "ExecuteTime": {
     "end_time": "2019-01-23T08:42:00.498802Z",
     "start_time": "2019-01-23T08:42:00.493730Z"
    }
   },
   "outputs": [
    {
     "data": {
      "text/plain": [
       "{'members': [{'props': {'ref': -10002, 'role': '', 'type': 'relation'}},\n",
       "  {'props': {'ref': -10009, 'role': '', 'type': 'relation'}}],\n",
       " 'props': {'id': -100001},\n",
       " 'tags': {'name': 'Métro Cartier - Saint-François',\n",
       "  'network': 'STL',\n",
       "  'operator': 'STL',\n",
       "  'public_transport:version': 2,\n",
       "  'ref': '901',\n",
       "  'type': 'route_master'}}"
      ]
     },
     "execution_count": 68,
     "metadata": {},
     "output_type": "execute_result"
    }
   ],
   "source": [
    "route_master_relations[0]"
   ]
  },
  {
   "cell_type": "code",
   "execution_count": 69,
   "metadata": {
    "ExecuteTime": {
     "end_time": "2019-01-23T08:47:13.895742Z",
     "start_time": "2019-01-23T08:47:13.882437Z"
    }
   },
   "outputs": [
    {
     "data": {
      "text/plain": [
       "[{'master_route_ref': '402',\n",
       "  'props': {'id': -10032},\n",
       "  'route_id': 'JUIN18402E',\n",
       "  'stops': [{'gtfs_id': 'JUIN18CP41198',\n",
       "    'name': 'Gare Sainte-Dorothée',\n",
       "    'osm_id': '-2209',\n",
       "    'sequence': 1},\n",
       "   {'gtfs_id': 'JUIN1841197',\n",
       "    'name': \"Du Bord-De-L'eau / Face Au 1368\",\n",
       "    'osm_id': '-1087',\n",
       "    'sequence': 2},\n",
       "   {'gtfs_id': 'JUIN1843260',\n",
       "    'name': \"Du Bord-De-L'eau / Du Relais\",\n",
       "    'osm_id': '-1959',\n",
       "    'sequence': 3},\n",
       "   {'gtfs_id': 'JUIN1841190',\n",
       "    'name': \"Du Bord-De-L'eau / Dupont\",\n",
       "    'osm_id': '-1236',\n",
       "    'sequence': 4},\n",
       "   {'gtfs_id': 'JUIN1846280',\n",
       "    'name': \"Jolibourg / Du Bord-De-L'eau\",\n",
       "    'osm_id': '-1450',\n",
       "    'sequence': 5},\n",
       "   {'gtfs_id': 'JUIN1841784',\n",
       "    'name': \"Jolibourg / De Val-D'espoir\",\n",
       "    'osm_id': '-677',\n",
       "    'sequence': 6},\n",
       "   {'gtfs_id': 'JUIN1841785',\n",
       "    'name': \"Jolibourg / De Val-D'espoir\",\n",
       "    'osm_id': '-2441',\n",
       "    'sequence': 7},\n",
       "   {'gtfs_id': 'JUIN1841787',\n",
       "    'name': 'Jolibourg / De Val-Brillant',\n",
       "    'osm_id': '-1354',\n",
       "    'sequence': 8},\n",
       "   {'gtfs_id': 'JUIN1846281',\n",
       "    'name': 'Jolibourg / Matane',\n",
       "    'osm_id': '-1454',\n",
       "    'sequence': 9},\n",
       "   {'gtfs_id': 'JUIN18CP46282',\n",
       "    'name': 'Jolibourg / Matane',\n",
       "    'osm_id': '-824',\n",
       "    'sequence': 10},\n",
       "   {'gtfs_id': 'JUIN1846283',\n",
       "    'name': 'Saint-Antoine / Arthur-Sauvé',\n",
       "    'osm_id': '-1009',\n",
       "    'sequence': 11},\n",
       "   {'gtfs_id': 'JUIN1846284',\n",
       "    'name': 'Saint-Antoine / Fernando-Pessoa',\n",
       "    'osm_id': '-937',\n",
       "    'sequence': 12},\n",
       "   {'gtfs_id': 'JUIN1846285',\n",
       "    'name': 'Saint-Antoine / Fernando-Pessoa',\n",
       "    'osm_id': '-735',\n",
       "    'sequence': 13},\n",
       "   {'gtfs_id': 'JUIN1846286',\n",
       "    'name': 'Saint-Antoine / Face Au Parc Laval-Ouest',\n",
       "    'osm_id': '-1944',\n",
       "    'sequence': 14},\n",
       "   {'gtfs_id': 'JUIN1846287',\n",
       "    'name': 'Saint-Antoine / 17e Avenue',\n",
       "    'osm_id': '-1199',\n",
       "    'sequence': 15},\n",
       "   {'gtfs_id': 'JUIN1846288',\n",
       "    'name': 'Saint-Antoine / Marie-Le Franc',\n",
       "    'osm_id': '-34',\n",
       "    'sequence': 16},\n",
       "   {'gtfs_id': 'JUIN1846289',\n",
       "    'name': 'Saint-Antoine / 3e Avenue',\n",
       "    'osm_id': '-2530',\n",
       "    'sequence': 17},\n",
       "   {'gtfs_id': 'JUIN18CP42920',\n",
       "    'name': 'Sainte-Rose / 3e Avenue',\n",
       "    'osm_id': '-29',\n",
       "    'sequence': 18},\n",
       "   {'gtfs_id': 'JUIN1842940',\n",
       "    'name': 'Sainte-Rose / 7e Avenue',\n",
       "    'osm_id': '-1769',\n",
       "    'sequence': 19},\n",
       "   {'gtfs_id': 'JUIN1842964',\n",
       "    'name': 'Sainte-Rose / 13e Avenue',\n",
       "    'osm_id': '-2192',\n",
       "    'sequence': 20},\n",
       "   {'gtfs_id': 'JUIN1842987',\n",
       "    'name': 'Sainte-Rose / 17e Avenue',\n",
       "    'osm_id': '-1548',\n",
       "    'sequence': 21},\n",
       "   {'gtfs_id': 'JUIN1842885',\n",
       "    'name': 'Sainte-Rose / 21e Avenue',\n",
       "    'osm_id': '-1875',\n",
       "    'sequence': 22},\n",
       "   {'gtfs_id': 'JUIN1842908',\n",
       "    'name': 'Sainte-Rose / 27e Avenue',\n",
       "    'osm_id': '-1933',\n",
       "    'sequence': 23},\n",
       "   {'gtfs_id': 'JUIN1842914',\n",
       "    'name': 'Sainte-Rose / 31e Avenue',\n",
       "    'osm_id': '-531',\n",
       "    'sequence': 24},\n",
       "   {'gtfs_id': 'JUIN1842916',\n",
       "    'name': 'Sainte-Rose / 24e Rue',\n",
       "    'osm_id': '-1596',\n",
       "    'sequence': 25},\n",
       "   {'gtfs_id': 'JUIN1842918',\n",
       "    'name': 'Sainte-Rose / 41e Avenue',\n",
       "    'osm_id': '-1138',\n",
       "    'sequence': 26},\n",
       "   {'gtfs_id': 'JUIN18CP42921',\n",
       "    'name': 'Sainte-Rose / Arthur-Sauvé',\n",
       "    'osm_id': '-1765',\n",
       "    'sequence': 27},\n",
       "   {'gtfs_id': 'JUIN1842923',\n",
       "    'name': 'Sainte-Rose / 51e Avenue',\n",
       "    'osm_id': '-215',\n",
       "    'sequence': 28},\n",
       "   {'gtfs_id': 'JUIN1842925',\n",
       "    'name': 'Sainte-Rose / 55e Avenue',\n",
       "    'osm_id': '-51',\n",
       "    'sequence': 29},\n",
       "   {'gtfs_id': 'JUIN1842927',\n",
       "    'name': 'Sainte-Rose / 2e Avenue',\n",
       "    'osm_id': '-1620',\n",
       "    'sequence': 30},\n",
       "   {'gtfs_id': 'JUIN1842929',\n",
       "    'name': 'Sainte-Rose / 4e Avenue',\n",
       "    'osm_id': '-2767',\n",
       "    'sequence': 31},\n",
       "   {'gtfs_id': 'JUIN1842932',\n",
       "    'name': 'Sainte-Rose / 8e Avenue',\n",
       "    'osm_id': '-604',\n",
       "    'sequence': 32},\n",
       "   {'gtfs_id': 'JUIN1842934',\n",
       "    'name': 'Sainte-Rose / 10e Avenue',\n",
       "    'osm_id': '-1310',\n",
       "    'sequence': 33},\n",
       "   {'gtfs_id': 'JUIN1842936',\n",
       "    'name': 'Sainte-Rose / 14e Avenue',\n",
       "    'osm_id': '-2097',\n",
       "    'sequence': 34},\n",
       "   {'gtfs_id': 'JUIN1846605',\n",
       "    'name': 'Sainte-Rose / 15e Avenue',\n",
       "    'osm_id': '-291',\n",
       "    'sequence': 35},\n",
       "   {'gtfs_id': 'JUIN1842938',\n",
       "    'name': 'Sainte-Rose / 18e Avenue',\n",
       "    'osm_id': '-1774',\n",
       "    'sequence': 36},\n",
       "   {'gtfs_id': 'JUIN1842941',\n",
       "    'name': 'Sainte-Rose / 22e Avenue',\n",
       "    'osm_id': '-1547',\n",
       "    'sequence': 37},\n",
       "   {'gtfs_id': 'JUIN1842943',\n",
       "    'name': 'Sainte-Rose / éluard',\n",
       "    'osm_id': '-133',\n",
       "    'sequence': 38},\n",
       "   {'gtfs_id': 'JUIN1842945',\n",
       "    'name': 'Sainte-Rose / Bellemare',\n",
       "    'osm_id': '-1841',\n",
       "    'sequence': 39},\n",
       "   {'gtfs_id': 'JUIN1842947',\n",
       "    'name': 'Sainte-Rose / 30e Avenue',\n",
       "    'osm_id': '-1501',\n",
       "    'sequence': 40},\n",
       "   {'gtfs_id': 'JUIN1845036',\n",
       "    'name': 'Sainte-Rose / Stéphanie',\n",
       "    'osm_id': '-2450',\n",
       "    'sequence': 41},\n",
       "   {'gtfs_id': 'JUIN1842950',\n",
       "    'name': 'Sainte-Rose / Rosaire',\n",
       "    'osm_id': '-896',\n",
       "    'sequence': 42},\n",
       "   {'gtfs_id': 'JUIN1842951',\n",
       "    'name': 'Sainte-Rose / Face Au 4200',\n",
       "    'osm_id': '-1226',\n",
       "    'sequence': 43},\n",
       "   {'gtfs_id': 'JUIN1842954',\n",
       "    'name': 'Sainte-Rose / 40e Avenue',\n",
       "    'osm_id': '-1496',\n",
       "    'sequence': 44},\n",
       "   {'gtfs_id': 'JUIN18CP42956',\n",
       "    'name': 'Sainte-Rose / Montée Sauriol',\n",
       "    'osm_id': '-908',\n",
       "    'sequence': 45},\n",
       "   {'gtfs_id': 'JUIN1842958',\n",
       "    'name': 'Sainte-Rose / Odile',\n",
       "    'osm_id': '-1952',\n",
       "    'sequence': 46},\n",
       "   {'gtfs_id': 'JUIN1842960',\n",
       "    'name': 'Sainte-Rose / De Bordeaux',\n",
       "    'osm_id': '-2538',\n",
       "    'sequence': 47},\n",
       "   {'gtfs_id': 'JUIN1843982',\n",
       "    'name': 'Sainte-Rose / Bretigny',\n",
       "    'osm_id': '-462',\n",
       "    'sequence': 48},\n",
       "   {'gtfs_id': 'JUIN1842962',\n",
       "    'name': 'Sainte-Rose / Marian',\n",
       "    'osm_id': '-1292',\n",
       "    'sequence': 49},\n",
       "   {'gtfs_id': 'JUIN1842965',\n",
       "    'name': 'Sainte-Rose / De Caracas',\n",
       "    'osm_id': '-1964',\n",
       "    'sequence': 50},\n",
       "   {'gtfs_id': 'JUIN1842967',\n",
       "    'name': 'Sainte-Rose / Lisette',\n",
       "    'osm_id': '-2139',\n",
       "    'sequence': 51},\n",
       "   {'gtfs_id': 'JUIN18CP42969',\n",
       "    'name': 'Sainte-Rose / Montée Montrougeau',\n",
       "    'osm_id': '-2090',\n",
       "    'sequence': 52},\n",
       "   {'gtfs_id': 'JUIN1842971',\n",
       "    'name': \"Sainte-Rose / Face à L'école Poly-Jeunesse\",\n",
       "    'osm_id': '-2533',\n",
       "    'sequence': 53},\n",
       "   {'gtfs_id': 'JUIN1842973',\n",
       "    'name': 'Sainte-Rose / De Gênes',\n",
       "    'osm_id': '-592',\n",
       "    'sequence': 54},\n",
       "   {'gtfs_id': 'JUIN1842976',\n",
       "    'name': 'Sainte-Rose / De Saint-Sébastien',\n",
       "    'osm_id': '-785',\n",
       "    'sequence': 55},\n",
       "   {'gtfs_id': 'JUIN1842978',\n",
       "    'name': 'Sainte-Rose / Vauquelin',\n",
       "    'osm_id': '-2156',\n",
       "    'sequence': 56},\n",
       "   {'gtfs_id': 'JUIN1842980',\n",
       "    'name': 'Sainte-Rose / Kiosque Des Ancètres',\n",
       "    'osm_id': '-44',\n",
       "    'sequence': 57},\n",
       "   {'gtfs_id': 'JUIN18CP42982',\n",
       "    'name': 'Sainte-Rose / Autoroute 15',\n",
       "    'osm_id': '-2488',\n",
       "    'sequence': 58}],\n",
       "  'stops_count': 58,\n",
       "  'tags': {'from': 'Gare Sainte-Dorothée',\n",
       "   'name': 'Direction Fabreville',\n",
       "   'network': 'STL',\n",
       "   'operator': 'STL',\n",
       "   'public_transport:version': 2,\n",
       "   'ref': '402E',\n",
       "   'round_trip': 'no',\n",
       "   'route': 'bus',\n",
       "   'to': 'Sainte-Rose / Autoroute 15',\n",
       "   'type': 'route'},\n",
       "  'trip_id': 'JUIN18402E1L25418200007'},\n",
       " {'master_route_ref': '402',\n",
       "  'props': {'id': -10054},\n",
       "  'route_id': 'JUIN18402O',\n",
       "  'stops': [{'gtfs_id': 'JUIN18CP42981',\n",
       "    'name': 'Sainte-Rose / Face Au 3261',\n",
       "    'osm_id': '-2149',\n",
       "    'sequence': 1},\n",
       "   {'gtfs_id': 'JUIN1842979',\n",
       "    'name': 'Sainte-Rose / Face Au Kiosque Des Ancètres',\n",
       "    'osm_id': '-1151',\n",
       "    'sequence': 2},\n",
       "   {'gtfs_id': 'JUIN1842977',\n",
       "    'name': 'Sainte-Rose / Vauquelin',\n",
       "    'osm_id': '-2643',\n",
       "    'sequence': 3},\n",
       "   {'gtfs_id': 'JUIN1842974',\n",
       "    'name': 'Sainte-Rose / De Saint-Sébastien',\n",
       "    'osm_id': '-314',\n",
       "    'sequence': 4},\n",
       "   {'gtfs_id': 'JUIN1842972',\n",
       "    'name': 'Sainte-Rose / Mattawa',\n",
       "    'osm_id': '-2729',\n",
       "    'sequence': 5},\n",
       "   {'gtfs_id': 'JUIN1842970',\n",
       "    'name': \"Sainte-Rose / Face à L'école Poly-Jeunesse\",\n",
       "    'osm_id': '-2614',\n",
       "    'sequence': 6},\n",
       "   {'gtfs_id': 'JUIN18CP42968',\n",
       "    'name': 'Sainte-Rose / Montée Montrougeau',\n",
       "    'osm_id': '-2042',\n",
       "    'sequence': 7},\n",
       "   {'gtfs_id': 'JUIN1842966',\n",
       "    'name': 'Sainte-Rose / Lisette',\n",
       "    'osm_id': '-1214',\n",
       "    'sequence': 8},\n",
       "   {'gtfs_id': 'JUIN1842963',\n",
       "    'name': 'Sainte-Rose / De Caracas',\n",
       "    'osm_id': '-272',\n",
       "    'sequence': 9},\n",
       "   {'gtfs_id': 'JUIN1842961',\n",
       "    'name': \"Sainte-Rose / D'odessa\",\n",
       "    'osm_id': '-2587',\n",
       "    'sequence': 10},\n",
       "   {'gtfs_id': 'JUIN1842959',\n",
       "    'name': 'Sainte-Rose / De Bordeaux',\n",
       "    'osm_id': '-648',\n",
       "    'sequence': 11},\n",
       "   {'gtfs_id': 'JUIN1842957',\n",
       "    'name': 'Sainte-Rose / Odile',\n",
       "    'osm_id': '-720',\n",
       "    'sequence': 12},\n",
       "   {'gtfs_id': 'JUIN18CP42955',\n",
       "    'name': 'Sainte-Rose / Montée Sauriol',\n",
       "    'osm_id': '-1305',\n",
       "    'sequence': 13},\n",
       "   {'gtfs_id': 'JUIN1842952',\n",
       "    'name': 'Sainte-Rose / 40e Avenue',\n",
       "    'osm_id': '-300',\n",
       "    'sequence': 14},\n",
       "   {'gtfs_id': 'JUIN1842949',\n",
       "    'name': 'Sainte-Rose / Face Au 4199',\n",
       "    'osm_id': '-1771',\n",
       "    'sequence': 15},\n",
       "   {'gtfs_id': 'JUIN1842948',\n",
       "    'name': 'Sainte-Rose / Cousteau',\n",
       "    'osm_id': '-308',\n",
       "    'sequence': 16},\n",
       "   {'gtfs_id': 'JUIN1846325',\n",
       "    'name': 'Sainte-Rose / Stéphanie',\n",
       "    'osm_id': '-1',\n",
       "    'sequence': 17},\n",
       "   {'gtfs_id': 'JUIN1842946',\n",
       "    'name': 'Sainte-Rose / 30e Avenue',\n",
       "    'osm_id': '-296',\n",
       "    'sequence': 18},\n",
       "   {'gtfs_id': 'JUIN1842944',\n",
       "    'name': 'Sainte-Rose / Bellemare',\n",
       "    'osm_id': '-2428',\n",
       "    'sequence': 19},\n",
       "   {'gtfs_id': 'JUIN1842942',\n",
       "    'name': 'Sainte-Rose / Laberge',\n",
       "    'osm_id': '-616',\n",
       "    'sequence': 20},\n",
       "   {'gtfs_id': 'JUIN1842939',\n",
       "    'name': 'Sainte-Rose / 22e Avenue',\n",
       "    'osm_id': '-110',\n",
       "    'sequence': 21},\n",
       "   {'gtfs_id': 'JUIN1842937',\n",
       "    'name': 'Sainte-Rose / 18e Avenue',\n",
       "    'osm_id': '-2367',\n",
       "    'sequence': 22},\n",
       "   {'gtfs_id': 'JUIN1846604',\n",
       "    'name': 'Sainte-Rose / 15e Avenue',\n",
       "    'osm_id': '-962',\n",
       "    'sequence': 23},\n",
       "   {'gtfs_id': 'JUIN1842935',\n",
       "    'name': 'Sainte-Rose / 14e Avenue',\n",
       "    'osm_id': '-1812',\n",
       "    'sequence': 24},\n",
       "   {'gtfs_id': 'JUIN1842933',\n",
       "    'name': 'Sainte-Rose / 10e Avenue',\n",
       "    'osm_id': '-1524',\n",
       "    'sequence': 25},\n",
       "   {'gtfs_id': 'JUIN1842930',\n",
       "    'name': 'Sainte-Rose / 8e Avenue',\n",
       "    'osm_id': '-2324',\n",
       "    'sequence': 26},\n",
       "   {'gtfs_id': 'JUIN1842928',\n",
       "    'name': 'Sainte-Rose / 4e Avenue',\n",
       "    'osm_id': '-2087',\n",
       "    'sequence': 27},\n",
       "   {'gtfs_id': 'JUIN1842926',\n",
       "    'name': 'Sainte-Rose / 2e Avenue',\n",
       "    'osm_id': '-407',\n",
       "    'sequence': 28},\n",
       "   {'gtfs_id': 'JUIN1842924',\n",
       "    'name': 'Sainte-Rose / 55e Avenue',\n",
       "    'osm_id': '-1751',\n",
       "    'sequence': 29},\n",
       "   {'gtfs_id': 'JUIN1842922',\n",
       "    'name': 'Sainte-Rose / 51e Avenue',\n",
       "    'osm_id': '-9',\n",
       "    'sequence': 30},\n",
       "   {'gtfs_id': 'JUIN18CP42919',\n",
       "    'name': 'Sainte-Rose / Arthur-Sauvé',\n",
       "    'osm_id': '-2703',\n",
       "    'sequence': 31},\n",
       "   {'gtfs_id': 'JUIN1842917',\n",
       "    'name': 'Sainte-Rose / 41e Avenue',\n",
       "    'osm_id': '-1876',\n",
       "    'sequence': 32},\n",
       "   {'gtfs_id': 'JUIN1842915',\n",
       "    'name': 'Sainte-Rose / 37e Avenue',\n",
       "    'osm_id': '-1473',\n",
       "    'sequence': 33},\n",
       "   {'gtfs_id': 'JUIN1842913',\n",
       "    'name': 'Sainte-Rose / 28e Rue',\n",
       "    'osm_id': '-193',\n",
       "    'sequence': 34},\n",
       "   {'gtfs_id': 'JUIN1842896',\n",
       "    'name': 'Sainte-Rose / 27e Avenue',\n",
       "    'osm_id': '-2033',\n",
       "    'sequence': 35},\n",
       "   {'gtfs_id': 'JUIN1842997',\n",
       "    'name': 'Sainte-Rose / 21e Avenue',\n",
       "    'osm_id': '-1551',\n",
       "    'sequence': 36},\n",
       "   {'gtfs_id': 'JUIN1842975',\n",
       "    'name': 'Sainte-Rose / 17e Avenue',\n",
       "    'osm_id': '-2080',\n",
       "    'sequence': 37},\n",
       "   {'gtfs_id': 'JUIN1842953',\n",
       "    'name': 'Sainte-Rose / 13e Avenue',\n",
       "    'osm_id': '-712',\n",
       "    'sequence': 38},\n",
       "   {'gtfs_id': 'JUIN1842931',\n",
       "    'name': 'Sainte-Rose / 7e Avenue',\n",
       "    'osm_id': '-2456',\n",
       "    'sequence': 39},\n",
       "   {'gtfs_id': 'JUIN18CP42884',\n",
       "    'name': 'Sainte-Rose / 3e Avenue',\n",
       "    'osm_id': '-319',\n",
       "    'sequence': 40},\n",
       "   {'gtfs_id': 'JUIN1846290',\n",
       "    'name': 'Saint-Antoine / 3e Avenue',\n",
       "    'osm_id': '-655',\n",
       "    'sequence': 41},\n",
       "   {'gtfs_id': 'JUIN1846291',\n",
       "    'name': 'Saint-Antoine / Marie-Le Franc',\n",
       "    'osm_id': '-2686',\n",
       "    'sequence': 42},\n",
       "   {'gtfs_id': 'JUIN1846292',\n",
       "    'name': 'Saint-Antoine / André-Maurois',\n",
       "    'osm_id': '-1389',\n",
       "    'sequence': 43},\n",
       "   {'gtfs_id': 'JUIN1846293',\n",
       "    'name': 'Saint-Antoine / Parc Laval-Ouest',\n",
       "    'osm_id': '-2072',\n",
       "    'sequence': 44},\n",
       "   {'gtfs_id': 'JUIN1846294',\n",
       "    'name': 'Saint-Antoine / Face Au 3155',\n",
       "    'osm_id': '-86',\n",
       "    'sequence': 45},\n",
       "   {'gtfs_id': 'JUIN1846295',\n",
       "    'name': 'Saint-Antoine / Fernando-Pessoa',\n",
       "    'osm_id': '-1538',\n",
       "    'sequence': 46},\n",
       "   {'gtfs_id': 'JUIN1846296',\n",
       "    'name': 'Saint-Antoine / Arthur-Sauvé',\n",
       "    'osm_id': '-1519',\n",
       "    'sequence': 47},\n",
       "   {'gtfs_id': 'JUIN18CP46297',\n",
       "    'name': 'Jolibourg / Matane',\n",
       "    'osm_id': '-1108',\n",
       "    'sequence': 48},\n",
       "   {'gtfs_id': 'JUIN1846298',\n",
       "    'name': 'Jolibourg / Matane',\n",
       "    'osm_id': '-1870',\n",
       "    'sequence': 49},\n",
       "   {'gtfs_id': 'JUIN1846299',\n",
       "    'name': 'Jolibourg / De Val-Brillant',\n",
       "    'osm_id': '-960',\n",
       "    'sequence': 50},\n",
       "   {'gtfs_id': 'JUIN1841788',\n",
       "    'name': 'Jolibourg / Du Relais',\n",
       "    'osm_id': '-410',\n",
       "    'sequence': 51},\n",
       "   {'gtfs_id': 'JUIN1841783',\n",
       "    'name': 'Jolibourg / Saint-Denis',\n",
       "    'osm_id': '-1344',\n",
       "    'sequence': 52},\n",
       "   {'gtfs_id': 'JUIN1841786',\n",
       "    'name': \"Jolibourg / Du Bord-De-L'eau\",\n",
       "    'osm_id': '-832',\n",
       "    'sequence': 53},\n",
       "   {'gtfs_id': 'JUIN1841201',\n",
       "    'name': \"Du Bord-De-L'eau / Dupont\",\n",
       "    'osm_id': '-228',\n",
       "    'sequence': 54},\n",
       "   {'gtfs_id': 'JUIN1843263',\n",
       "    'name': \"Du Bord-De-L'eau / Du Relais\",\n",
       "    'osm_id': '-2041',\n",
       "    'sequence': 55},\n",
       "   {'gtfs_id': 'JUIN1841195',\n",
       "    'name': \"Du Bord-De-L'eau / Face Au 1368\",\n",
       "    'osm_id': '-495',\n",
       "    'sequence': 56},\n",
       "   {'gtfs_id': 'JUIN18CP49402',\n",
       "    'name': 'Gare Sainte-Dorothée',\n",
       "    'osm_id': '-721',\n",
       "    'sequence': 57}],\n",
       "  'stops_count': 57,\n",
       "  'tags': {'from': 'Sainte-Rose / Face Au 3261',\n",
       "   'name': 'Direction Gare Sainte-Dorothée',\n",
       "   'network': 'STL',\n",
       "   'operator': 'STL',\n",
       "   'public_transport:version': 2,\n",
       "   'ref': '402O',\n",
       "   'round_trip': 'no',\n",
       "   'route': 'bus',\n",
       "   'to': 'Gare Sainte-Dorothée',\n",
       "   'type': 'route'},\n",
       "  'trip_id': 'JUIN18402O2L11906530006'}]"
      ]
     },
     "execution_count": 69,
     "metadata": {},
     "output_type": "execute_result"
    }
   ],
   "source": [
    "filtered_routes['402']"
   ]
  },
  {
   "cell_type": "code",
   "execution_count": 70,
   "metadata": {
    "ExecuteTime": {
     "end_time": "2019-01-23T08:47:23.787760Z",
     "start_time": "2019-01-23T08:47:23.774271Z"
    }
   },
   "outputs": [],
   "source": [
    "for ref, routes in filtered_routes.items():\n",
    "    for route in routes:\n",
    "        members = []\n",
    "        \n",
    "        stops = route['stops']        \n",
    "        stops.sort(key=itemgetter('sequence'))\n",
    "        \n",
    "        for stop in stops:\n",
    "            member = {\n",
    "                \"props\": {\n",
    "                    \"ref\": stop['osm_id'],\n",
    "                    \"type\": \"node\",\n",
    "                    \"role\": \"platform\"\n",
    "                }\n",
    "            }\n",
    "            members.append(member)\n",
    "            \n",
    "        route_relation = {\n",
    "            \"props\": {\n",
    "                \"id\": route['props']['id']\n",
    "            },\n",
    "            \"tags\": route['tags'],\n",
    "            \"members\": members\n",
    "        }\n",
    "        route_relations.append(route_relation)"
   ]
  },
  {
   "cell_type": "code",
   "execution_count": 71,
   "metadata": {
    "ExecuteTime": {
     "end_time": "2019-01-23T08:47:33.536858Z",
     "start_time": "2019-01-23T08:47:33.531711Z"
    }
   },
   "outputs": [
    {
     "data": {
      "text/plain": [
       "{'members': [{'props': {'ref': '-606', 'role': 'platform', 'type': 'node'}},\n",
       "  {'props': {'ref': '-57', 'role': 'platform', 'type': 'node'}},\n",
       "  {'props': {'ref': '-752', 'role': 'platform', 'type': 'node'}},\n",
       "  {'props': {'ref': '-414', 'role': 'platform', 'type': 'node'}},\n",
       "  {'props': {'ref': '-2051', 'role': 'platform', 'type': 'node'}},\n",
       "  {'props': {'ref': '-242', 'role': 'platform', 'type': 'node'}},\n",
       "  {'props': {'ref': '-1549', 'role': 'platform', 'type': 'node'}},\n",
       "  {'props': {'ref': '-234', 'role': 'platform', 'type': 'node'}},\n",
       "  {'props': {'ref': '-297', 'role': 'platform', 'type': 'node'}},\n",
       "  {'props': {'ref': '-1945', 'role': 'platform', 'type': 'node'}},\n",
       "  {'props': {'ref': '-659', 'role': 'platform', 'type': 'node'}},\n",
       "  {'props': {'ref': '-1022', 'role': 'platform', 'type': 'node'}},\n",
       "  {'props': {'ref': '-825', 'role': 'platform', 'type': 'node'}},\n",
       "  {'props': {'ref': '-2364', 'role': 'platform', 'type': 'node'}},\n",
       "  {'props': {'ref': '-1360', 'role': 'platform', 'type': 'node'}},\n",
       "  {'props': {'ref': '-64', 'role': 'platform', 'type': 'node'}},\n",
       "  {'props': {'ref': '-980', 'role': 'platform', 'type': 'node'}},\n",
       "  {'props': {'ref': '-14', 'role': 'platform', 'type': 'node'}},\n",
       "  {'props': {'ref': '-4', 'role': 'platform', 'type': 'node'}}],\n",
       " 'props': {'id': -10002},\n",
       " 'tags': {'from': 'Métro Cartier Quai:6',\n",
       "  'name': 'Direction Saint-François',\n",
       "  'network': 'STL',\n",
       "  'operator': 'STL',\n",
       "  'public_transport:version': 2,\n",
       "  'ref': '901N',\n",
       "  'round_trip': 'no',\n",
       "  'route': 'bus',\n",
       "  'to': 'Montée Du Moulin / Galeries Du Moulin',\n",
       "  'type': 'route'}}"
      ]
     },
     "execution_count": 71,
     "metadata": {},
     "output_type": "execute_result"
    }
   ],
   "source": [
    "route_relations[0]"
   ]
  },
  {
   "cell_type": "markdown",
   "metadata": {},
   "source": [
    "### Write JOSM files"
   ]
  },
  {
   "cell_type": "code",
   "execution_count": 81,
   "metadata": {
    "ExecuteTime": {
     "end_time": "2019-01-23T10:43:30.671251Z",
     "start_time": "2019-01-23T10:43:30.219426Z"
    }
   },
   "outputs": [],
   "source": [
    "output_file = os.path.join(output_dir, 'gtfs_laval.xml')\n",
    "\n",
    "if os.path.exists(output_file):\n",
    "    os.remove(output_file)\n",
    "\n",
    "root = ET.Element(\"osm\")\n",
    "root.set('version', '0.6')\n",
    "\n",
    "min_lon, max_lon, min_lat, max_lat = multi_point.GetEnvelope()\n",
    "\n",
    "bounds = ET.SubElement(root, 'bounds')\n",
    "bounds.set('minlat', str(min_lat))\n",
    "bounds.set('minlon', str(min_lon))\n",
    "bounds.set('maxlat', str(max_lat))\n",
    "bounds.set('maxlon', str(max_lon))\n",
    "\n",
    "for stop in unique_stops:\n",
    "    node = ET.SubElement(root, 'node')\n",
    "    node.set('version', '1')\n",
    "    \n",
    "    for key, value in stop.items():\n",
    "        if key == 'tags':\n",
    "            for k, v in stop['tags'].items():\n",
    "                tag = ET.SubElement(node, 'tag')\n",
    "                tag.set('k', str(k))\n",
    "                tag.set('v', str(v))\n",
    "        if key == 'props':\n",
    "            for k, v in stop['props'].items():\n",
    "                node.set(k, v)\n",
    "                \n",
    "for route_relation in route_relations:\n",
    "    relation = ET.SubElement(root, 'relation')\n",
    "    relation.set('version', '1')\n",
    "    \n",
    "    for key, value in route_relation.items():\n",
    "        if key == 'tags':\n",
    "            for k, v in route_relation['tags'].items():\n",
    "                tag = ET.SubElement(relation, 'tag')\n",
    "                tag.set('k', str(k))\n",
    "                tag.set('v', str(v))\n",
    "        if key == 'props':\n",
    "            for k, v in route_relation['props'].items():\n",
    "                relation.set(k, str(v))\n",
    "        if key == 'members':\n",
    "            for member in route_relation['members']:\n",
    "                mem = ET.SubElement(relation, 'member')\n",
    "                \n",
    "                for key, value in member.items():\n",
    "                    if key == 'props':\n",
    "                        for k, v in member['props'].items():\n",
    "                            mem.set(k, v)\n",
    "                            \n",
    "for route_master_relation in route_master_relations:\n",
    "    relation = ET.SubElement(root, 'relation')\n",
    "    relation.set('version', '1')\n",
    "    \n",
    "    for key, value in route_master_relation.items():\n",
    "        if key == 'tags':\n",
    "            for k, v in route_master_relation['tags'].items():\n",
    "                tag = ET.SubElement(relation, 'tag')\n",
    "                tag.set('k', str(k))\n",
    "                tag.set('v', str(v))\n",
    "        if key == 'props':\n",
    "            for k, v in route_master_relation['props'].items():\n",
    "                relation.set(k, str(v))\n",
    "        if key == 'members':\n",
    "            for member in route_master_relation['members']:\n",
    "                mem = ET.SubElement(relation, 'member')\n",
    "                \n",
    "                for key, value in member.items():\n",
    "                    if key == 'props':\n",
    "                        for k, v in member['props'].items():\n",
    "                            mem.set(k, str(v))\n",
    "                            \n",
    "tree = ET.ElementTree(root)\n",
    "tree.write(output_file, encoding='unicode')"
   ]
  },
  {
   "cell_type": "code",
   "execution_count": 80,
   "metadata": {
    "ExecuteTime": {
     "end_time": "2019-01-23T10:43:01.953952Z",
     "start_time": "2019-01-23T10:43:01.946830Z"
    }
   },
   "outputs": [
    {
     "name": "stdout",
     "output_type": "stream",
     "text": [
      "{'type': 'route_master', 'network': 'STL', 'name': 'Métro Cartier - Saint-François', 'public_transport:version': 2, 'operator': 'STL', 'ref': '901'}\n",
      "{'type': 'route_master', 'network': 'STL', 'name': 'Métro Montmorency - Chomedey', 'public_transport:version': 2, 'operator': 'STL', 'ref': '36'}\n",
      "{'type': 'route_master', 'network': 'STL', 'name': 'Sainte-Dorothée - Métro Côte-Vertu', 'public_transport:version': 2, 'operator': 'STL', 'ref': '144'}\n",
      "{'type': 'route_master', 'network': 'STL', 'name': 'Métro Cartier - Pont-Viau', 'public_transport:version': 2, 'operator': 'STL', 'ref': '12'}\n",
      "{'type': 'route_master', 'network': 'STL', 'name': 'Métro Montmorency - Gare Sainte-Dorothée', 'public_transport:version': 2, 'operator': 'STL', 'ref': '76'}\n",
      "{'type': 'route_master', 'network': 'STL', 'name': 'Métro Montmorency - Sainte-Dorothée', 'public_transport:version': 2, 'operator': 'STL', 'ref': '56'}\n",
      "{'type': 'route_master', 'network': 'STL', 'name': 'Métro Montmorency - Saint-François', 'public_transport:version': 2, 'operator': 'STL', 'ref': '942'}\n",
      "{'type': 'route_master', 'network': 'STL', 'name': 'Métro Montmorency - Sainte-Rose', 'public_transport:version': 2, 'operator': 'STL', 'ref': '65'}\n",
      "{'type': 'route_master', 'network': 'STL', 'name': 'Métro Montmorency - Terminus Henri-Bourassa', 'public_transport:version': 2, 'operator': 'STL', 'ref': '2'}\n",
      "{'type': 'route_master', 'network': 'STL', 'name': 'Sainte-Dorothée - Terminus Le Carrefour', 'public_transport:version': 2, 'operator': 'STL', 'ref': '66'}\n",
      "{'type': 'route_master', 'network': 'STL', 'name': 'Métro Montmorency - Auteuil', 'public_transport:version': 2, 'operator': 'STL', 'ref': '45'}\n",
      "{'type': 'route_master', 'network': 'STL', 'name': 'Métro Montmorency - Laval-Ouest', 'public_transport:version': 2, 'operator': 'STL', 'ref': '46'}\n",
      "{'type': 'route_master', 'network': 'STL', 'name': 'Métro Montmorency - Chomedey', 'public_transport:version': 2, 'operator': 'STL', 'ref': '40'}\n",
      "{'type': 'route_master', 'network': 'STL', 'name': 'Métro Montmorency - Gare Sainte-Dorothée', 'public_transport:version': 2, 'operator': 'STL', 'ref': '26'}\n",
      "{'type': 'route_master', 'network': 'STL', 'name': 'Terminus Henri-Bourassa - Saint-François', 'public_transport:version': 2, 'operator': 'STL', 'ref': '52'}\n",
      "{'type': 'route_master', 'network': 'STL', 'name': 'Terminus Le Carrefour - Métro Côte-Vertu', 'public_transport:version': 2, 'operator': 'STL', 'ref': '902'}\n",
      "{'type': 'route_master', 'network': 'STL', 'name': 'Saint-François - Métro Radisson', 'public_transport:version': 2, 'operator': 'STL', 'ref': '925'}\n",
      "{'type': 'route_master', 'network': 'STL', 'name': 'Terminus Henri-Bourassa - Auteuil', 'public_transport:version': 2, 'operator': 'STL', 'ref': '31'}\n",
      "{'type': 'route_master', 'network': 'STL', 'name': 'Métro Cartier - Sainte-Rose', 'public_transport:version': 2, 'operator': 'STL', 'ref': '37'}\n",
      "{'type': 'route_master', 'network': 'STL', 'name': 'Métro Montmorency - Métro Cartier', 'public_transport:version': 2, 'operator': 'STL', 'ref': '33'}\n",
      "{'type': 'route_master', 'network': 'STL', 'name': 'Métro Cartier - Saint-Vincent-De-Paul', 'public_transport:version': 2, 'operator': 'STL', 'ref': '222'}\n",
      "{'type': 'route_master', 'network': 'STL', 'name': 'Terminus Le Carrefour - Saint-Vincent-De-Paul', 'public_transport:version': 2, 'operator': 'STL', 'ref': '50'}\n",
      "{'type': 'route_master', 'network': 'STL', 'name': 'Fabreville - Métro Cartier', 'public_transport:version': 2, 'operator': 'STL', 'ref': '73'}\n",
      "{'type': 'route_master', 'network': 'STL', 'name': 'Sainte-Dorothée', 'public_transport:version': 2, 'operator': 'STL', 'ref': '404'}\n",
      "{'type': 'route_master', 'network': 'STL', 'name': 'Métro Cartier - Saint-François', 'public_transport:version': 2, 'operator': 'STL', 'ref': '74'}\n",
      "{'type': 'route_master', 'network': 'STL', 'name': 'Vimont - Métro Cartier', 'public_transport:version': 2, 'operator': 'STL', 'ref': '27'}\n",
      "{'type': 'route_master', 'network': 'STL', 'name': 'Terminus Henri-Bourassa - Laval-Ouest', 'public_transport:version': 2, 'operator': 'STL', 'ref': '55'}\n",
      "{'type': 'route_master', 'network': 'STL', 'name': 'Métro Montmorency - Fabreville', 'public_transport:version': 2, 'operator': 'STL', 'ref': '61'}\n",
      "{'type': 'route_master', 'network': 'STL', 'name': 'Sainte-Rose - Métro Côte-Vertu', 'public_transport:version': 2, 'operator': 'STL', 'ref': '151'}\n",
      "{'type': 'route_master', 'network': 'STL', 'name': 'Métro Cartier - Saint-Vincent-De-Paul', 'public_transport:version': 2, 'operator': 'STL', 'ref': '58'}\n",
      "{'type': 'route_master', 'network': 'STL', 'name': 'Métro Montmorency - Métro Cartier', 'public_transport:version': 2, 'operator': 'STL', 'ref': '70'}\n",
      "{'type': 'route_master', 'network': 'STL', 'name': 'Métro Cartier - Auteuil', 'public_transport:version': 2, 'operator': 'STL', 'ref': '43'}\n",
      "{'type': 'route_master', 'network': 'STL', 'name': 'Métro Cartier - Auteuil', 'public_transport:version': 2, 'operator': 'STL', 'ref': '41'}\n",
      "{'type': 'route_master', 'network': 'STL', 'name': 'Terminus Henri-Bourassa - Saint-François', 'public_transport:version': 2, 'operator': 'STL', 'ref': '252'}\n",
      "{'type': 'route_master', 'network': 'STL', 'name': 'Sainte-Dorothée - Métro Cartier', 'public_transport:version': 2, 'operator': 'STL', 'ref': '24'}\n",
      "{'type': 'route_master', 'network': 'STL', 'name': 'Chomedey', 'public_transport:version': 2, 'operator': 'STL', 'ref': '360'}\n",
      "{'type': 'route_master', 'network': 'STL', 'name': 'Métro Cartier - Chomedey', 'public_transport:version': 2, 'operator': 'STL', 'ref': '20'}\n",
      "{'type': 'route_master', 'network': 'STL', 'name': 'Duvernay - Métro Cartier', 'public_transport:version': 2, 'operator': 'STL', 'ref': '48'}\n",
      "{'type': 'route_master', 'network': 'STL', 'name': 'Métro Cartier - Chomedey', 'public_transport:version': 2, 'operator': 'STL', 'ref': '60'}\n",
      "{'type': 'route_master', 'network': 'STL', 'name': 'Métro Montmorency - Gare Sainte-Dorothée', 'public_transport:version': 2, 'operator': 'STL', 'ref': '903'}\n",
      "{'type': 'route_master', 'network': 'STL', 'name': 'Métro Cartier - Sainte-Rose', 'public_transport:version': 2, 'operator': 'STL', 'ref': '63'}\n",
      "{'type': 'route_master', 'network': 'STL', 'name': 'Fabreville - Gare Sainte-Dorothée', 'public_transport:version': 2, 'operator': 'STL', 'ref': '402'}\n",
      "{'type': 'route_master', 'network': 'STL', 'name': 'Métro Cartier - Saint-François', 'public_transport:version': 2, 'operator': 'STL', 'ref': '22'}\n",
      "{'type': 'route_master', 'network': 'STL', 'name': 'Métro Cartier - Auteuil', 'public_transport:version': 2, 'operator': 'STL', 'ref': '17'}\n",
      "{'type': 'route_master', 'network': 'STL', 'name': 'Terminus Le Carrefour - Auteuil', 'public_transport:version': 2, 'operator': 'STL', 'ref': '39'}\n",
      "{'type': 'route_master', 'network': 'STL', 'name': 'Terminus Le Carrefour - Saint-François', 'public_transport:version': 2, 'operator': 'STL', 'ref': '42'}\n"
     ]
    }
   ],
   "source": [
    "for route_master_relation in route_master_relations:\n",
    "    print(route_master_relation['tags'])"
   ]
  },
  {
   "cell_type": "code",
   "execution_count": null,
   "metadata": {},
   "outputs": [],
   "source": []
  }
 ],
 "metadata": {
  "kernelspec": {
   "display_name": "Python 3",
   "language": "python",
   "name": "python3"
  },
  "language_info": {
   "codemirror_mode": {
    "name": "ipython",
    "version": 3
   },
   "file_extension": ".py",
   "mimetype": "text/x-python",
   "name": "python",
   "nbconvert_exporter": "python",
   "pygments_lexer": "ipython3",
   "version": "3.5.2"
  },
  "varInspector": {
   "cols": {
    "lenName": 16,
    "lenType": 16,
    "lenVar": 40
   },
   "kernels_config": {
    "python": {
     "delete_cmd_postfix": "",
     "delete_cmd_prefix": "del ",
     "library": "var_list.py",
     "varRefreshCmd": "print(var_dic_list())"
    },
    "r": {
     "delete_cmd_postfix": ") ",
     "delete_cmd_prefix": "rm(",
     "library": "var_list.r",
     "varRefreshCmd": "cat(var_dic_list()) "
    }
   },
   "types_to_exclude": [
    "module",
    "function",
    "builtin_function_or_method",
    "instance",
    "_Feature"
   ],
   "window_display": false
  }
 },
 "nbformat": 4,
 "nbformat_minor": 2
}
